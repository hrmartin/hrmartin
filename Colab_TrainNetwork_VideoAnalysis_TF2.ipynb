{
  "nbformat": 4,
  "nbformat_minor": 0,
  "metadata": {
    "colab": {
      "provenance": [],
      "collapsed_sections": [],
      "machine_shape": "hm",
      "include_colab_link": true
    },
    "kernelspec": {
      "name": "python3",
      "display_name": "Python 3"
    },
    "accelerator": "GPU",
    "gpuClass": "standard"
  },
  "cells": [
    {
      "cell_type": "markdown",
      "metadata": {
        "id": "view-in-github",
        "colab_type": "text"
      },
      "source": [
        "<a href=\"https://colab.research.google.com/github/hrmartin/hrmartin/blob/main/Colab_TrainNetwork_VideoAnalysis_TF2.ipynb\" target=\"_parent\"><img src=\"https://colab.research.google.com/assets/colab-badge.svg\" alt=\"Open In Colab\"/></a>"
      ]
    },
    {
      "cell_type": "markdown",
      "metadata": {
        "id": "RK255E7YoEIt"
      },
      "source": [
        "# DeepLabCut 2+ Toolbox | Colab for TensorFlow 2+\n",
        "https://github.com/DeepLabCut/DeepLabCut\n",
        "\n",
        "![alt text](https://images.squarespace-cdn.com/content/v1/57f6d51c9f74566f55ecf271/1607087333173-TG4DRQR5WZ6ETXAJHXEO/ke17ZwdGBToddI8pDm48kKdgWGJOTWy1pqJZDMO95txZw-zPPgdn4jUwVcJE1ZvWQUxwkmyExglNqGp0IvTJZUJFbgE-7XRK3dMEBRBhUpwsA4PS9IFCXiEkiYtvZKsVufHa_vZp4Er3aXh9hA8Hg33vCVX1-CYF3ghyfBsW8js/dlcTF.png?format=1500w)\n",
        "\n",
        "This notebook illustrates how to use colab:\n",
        "- create a training set\n",
        "- train a network\n",
        "- evaluate a network\n",
        "- create simple quality check plots\n",
        "- analyze novel videos, filter data, create videos\n",
        "\n",
        "###This notebook assumes you already have a project folder with labeled data.\n",
        "\n",
        "NOTE: This notebook demonstrates the necessary steps to use DeepLabCut for your own project.\n",
        "\n",
        "This shows the most simple code to do so, but many of the functions have additional features, so please check out the overview & the protocol paper.\n",
        "\n",
        "Nath\\*, Mathis\\* et al.: Using DeepLabCut for markerless pose estimation during behavior across species. Nature Protocols, 2019.\n",
        "\n",
        "Paper: https://www.nature.com/articles/s41596-019-0176-0\n",
        "\n",
        "Pre-print: https://www.biorxiv.org/content/biorxiv/early/2018/11/24/476531.full.pdf\n"
      ]
    },
    {
      "cell_type": "markdown",
      "metadata": {
        "id": "txoddlM8hLKm"
      },
      "source": [
        "## First, go to \"Runtime\" ->\"change runtime type\"->select \"Python3\", and then select \"GPU\"\n"
      ]
    },
    {
      "cell_type": "code",
      "metadata": {
        "id": "q23BzhA6CXxu",
        "colab": {
          "base_uri": "https://localhost:8080/",
          "height": 1000
        },
        "outputId": "92b5ed52-e538-4074-ae8a-d190aa071ccc"
      },
      "source": [
        "#Install the branch with tf2.x support:\n",
        "#!pip install git+https://github.com/DeepLabCut/DeepLabCut-core.git@tf2.2alpha\n",
        "!pip install deeplabcut\n",
        "!pip install tf_slim"
      ],
      "execution_count": null,
      "outputs": [
        {
          "output_type": "stream",
          "name": "stdout",
          "text": [
            "Looking in indexes: https://pypi.org/simple, https://us-python.pkg.dev/colab-wheels/public/simple/\n",
            "Collecting deeplabcut\n",
            "  Downloading deeplabcut-2.2.1.1-py3-none-any.whl (591 kB)\n",
            "\u001b[K     |████████████████████████████████| 591 kB 31.5 MB/s \n",
            "\u001b[?25hRequirement already satisfied: scikit-image<=1.0.0,>=0.17 in /usr/local/lib/python3.7/dist-packages (from deeplabcut) (0.18.3)\n",
            "Requirement already satisfied: tables>=3.7.0 in /usr/local/lib/python3.7/dist-packages (from deeplabcut) (3.7.0)\n",
            "Requirement already satisfied: tqdm in /usr/local/lib/python3.7/dist-packages (from deeplabcut) (4.64.0)\n",
            "Collecting matplotlib>=3.3\n",
            "  Downloading matplotlib-3.5.2-cp37-cp37m-manylinux_2_5_x86_64.manylinux1_x86_64.whl (11.2 MB)\n",
            "\u001b[K     |████████████████████████████████| 11.2 MB 63.3 MB/s \n",
            "\u001b[?25hRequirement already satisfied: scipy>=1.4 in /usr/local/lib/python3.7/dist-packages (from deeplabcut) (1.7.3)\n",
            "Requirement already satisfied: networkx>=2.6 in /usr/local/lib/python3.7/dist-packages (from deeplabcut) (2.6.3)\n",
            "Collecting ruamel.yaml>=0.15.0\n",
            "  Downloading ruamel.yaml-0.17.21-py3-none-any.whl (109 kB)\n",
            "\u001b[K     |████████████████████████████████| 109 kB 67.8 MB/s \n",
            "\u001b[?25hCollecting filterpy>=1.4.4\n",
            "  Downloading filterpy-1.4.5.zip (177 kB)\n",
            "\u001b[K     |████████████████████████████████| 177 kB 70.2 MB/s \n",
            "\u001b[?25hRequirement already satisfied: Pillow>=7.1 in /usr/local/lib/python3.7/dist-packages (from deeplabcut) (7.1.2)\n",
            "Requirement already satisfied: pyyaml in /usr/local/lib/python3.7/dist-packages (from deeplabcut) (3.13)\n",
            "Collecting tensorpack>=0.11\n",
            "  Downloading tensorpack-0.11-py2.py3-none-any.whl (296 kB)\n",
            "\u001b[K     |████████████████████████████████| 296 kB 87.6 MB/s \n",
            "\u001b[?25hRequirement already satisfied: scikit-learn>=1.0 in /usr/local/lib/python3.7/dist-packages (from deeplabcut) (1.0.2)\n",
            "Requirement already satisfied: tensorflow>=2.0 in /usr/local/lib/python3.7/dist-packages (from deeplabcut) (2.8.2+zzzcolab20220719082949)\n",
            "Requirement already satisfied: numpy>=1.18.5 in /usr/local/lib/python3.7/dist-packages (from deeplabcut) (1.21.6)\n",
            "Collecting statsmodels!=0.13.2,>=0.11\n",
            "  Downloading statsmodels-0.13.1-cp37-cp37m-manylinux_2_17_x86_64.manylinux2014_x86_64.whl (9.8 MB)\n",
            "\u001b[K     |████████████████████████████████| 9.8 MB 69.5 MB/s \n",
            "\u001b[?25hCollecting imgaug>=0.4.0\n",
            "  Downloading imgaug-0.4.0-py2.py3-none-any.whl (948 kB)\n",
            "\u001b[K     |████████████████████████████████| 948 kB 70.9 MB/s \n",
            "\u001b[?25hCollecting tf-slim>=1.1.0\n",
            "  Downloading tf_slim-1.1.0-py2.py3-none-any.whl (352 kB)\n",
            "\u001b[K     |████████████████████████████████| 352 kB 88.9 MB/s \n",
            "\u001b[?25hRequirement already satisfied: pandas>=1.0.1 in /usr/local/lib/python3.7/dist-packages (from deeplabcut) (1.3.5)\n",
            "Collecting numba>=0.54\n",
            "  Downloading numba-0.56.0-cp37-cp37m-manylinux2014_x86_64.manylinux_2_17_x86_64.whl (3.5 MB)\n",
            "\u001b[K     |████████████████████████████████| 3.5 MB 73.4 MB/s \n",
            "\u001b[?25hRequirement already satisfied: Shapely in /usr/local/lib/python3.7/dist-packages (from imgaug>=0.4.0->deeplabcut) (1.8.2)\n",
            "Requirement already satisfied: six in /usr/local/lib/python3.7/dist-packages (from imgaug>=0.4.0->deeplabcut) (1.15.0)\n",
            "Requirement already satisfied: imageio in /usr/local/lib/python3.7/dist-packages (from imgaug>=0.4.0->deeplabcut) (2.4.1)\n",
            "Requirement already satisfied: opencv-python in /usr/local/lib/python3.7/dist-packages (from imgaug>=0.4.0->deeplabcut) (4.6.0.66)\n",
            "Collecting fonttools>=4.22.0\n",
            "  Downloading fonttools-4.34.4-py3-none-any.whl (944 kB)\n",
            "\u001b[K     |████████████████████████████████| 944 kB 56.4 MB/s \n",
            "\u001b[?25hRequirement already satisfied: pyparsing>=2.2.1 in /usr/local/lib/python3.7/dist-packages (from matplotlib>=3.3->deeplabcut) (3.0.9)\n",
            "Requirement already satisfied: python-dateutil>=2.7 in /usr/local/lib/python3.7/dist-packages (from matplotlib>=3.3->deeplabcut) (2.8.2)\n",
            "Requirement already satisfied: cycler>=0.10 in /usr/local/lib/python3.7/dist-packages (from matplotlib>=3.3->deeplabcut) (0.11.0)\n",
            "Requirement already satisfied: kiwisolver>=1.0.1 in /usr/local/lib/python3.7/dist-packages (from matplotlib>=3.3->deeplabcut) (1.4.4)\n",
            "Requirement already satisfied: packaging>=20.0 in /usr/local/lib/python3.7/dist-packages (from matplotlib>=3.3->deeplabcut) (21.3)\n",
            "Requirement already satisfied: typing-extensions in /usr/local/lib/python3.7/dist-packages (from kiwisolver>=1.0.1->matplotlib>=3.3->deeplabcut) (4.1.1)\n",
            "Collecting llvmlite<0.40,>=0.39.0dev0\n",
            "  Downloading llvmlite-0.39.0-cp37-cp37m-manylinux_2_17_x86_64.manylinux2014_x86_64.whl (34.6 MB)\n",
            "\u001b[K     |████████████████████████████████| 34.6 MB 1.5 MB/s \n",
            "\u001b[?25hRequirement already satisfied: importlib-metadata in /usr/local/lib/python3.7/dist-packages (from numba>=0.54->deeplabcut) (4.12.0)\n",
            "Requirement already satisfied: setuptools in /usr/local/lib/python3.7/dist-packages (from numba>=0.54->deeplabcut) (57.4.0)\n",
            "Requirement already satisfied: pytz>=2017.3 in /usr/local/lib/python3.7/dist-packages (from pandas>=1.0.1->deeplabcut) (2022.1)\n",
            "Collecting ruamel.yaml.clib>=0.2.6\n",
            "  Downloading ruamel.yaml.clib-0.2.6-cp37-cp37m-manylinux1_x86_64.whl (546 kB)\n",
            "\u001b[K     |████████████████████████████████| 546 kB 66.3 MB/s \n",
            "\u001b[?25hRequirement already satisfied: tifffile>=2019.7.26 in /usr/local/lib/python3.7/dist-packages (from scikit-image<=1.0.0,>=0.17->deeplabcut) (2021.11.2)\n",
            "Requirement already satisfied: PyWavelets>=1.1.1 in /usr/local/lib/python3.7/dist-packages (from scikit-image<=1.0.0,>=0.17->deeplabcut) (1.3.0)\n",
            "Requirement already satisfied: joblib>=0.11 in /usr/local/lib/python3.7/dist-packages (from scikit-learn>=1.0->deeplabcut) (1.1.0)\n",
            "Requirement already satisfied: threadpoolctl>=2.0.0 in /usr/local/lib/python3.7/dist-packages (from scikit-learn>=1.0->deeplabcut) (3.1.0)\n",
            "Requirement already satisfied: patsy>=0.5.2 in /usr/local/lib/python3.7/dist-packages (from statsmodels!=0.13.2,>=0.11->deeplabcut) (0.5.2)\n",
            "Requirement already satisfied: numexpr>=2.6.2 in /usr/local/lib/python3.7/dist-packages (from tables>=3.7.0->deeplabcut) (2.8.3)\n",
            "Requirement already satisfied: gast>=0.2.1 in /usr/local/lib/python3.7/dist-packages (from tensorflow>=2.0->deeplabcut) (0.5.3)\n",
            "Requirement already satisfied: google-pasta>=0.1.1 in /usr/local/lib/python3.7/dist-packages (from tensorflow>=2.0->deeplabcut) (0.2.0)\n",
            "Requirement already satisfied: tensorboard<2.9,>=2.8 in /usr/local/lib/python3.7/dist-packages (from tensorflow>=2.0->deeplabcut) (2.8.0)\n",
            "Requirement already satisfied: protobuf<3.20,>=3.9.2 in /usr/local/lib/python3.7/dist-packages (from tensorflow>=2.0->deeplabcut) (3.17.3)\n",
            "Requirement already satisfied: keras<2.9,>=2.8.0rc0 in /usr/local/lib/python3.7/dist-packages (from tensorflow>=2.0->deeplabcut) (2.8.0)\n",
            "Requirement already satisfied: keras-preprocessing>=1.1.1 in /usr/local/lib/python3.7/dist-packages (from tensorflow>=2.0->deeplabcut) (1.1.2)\n",
            "Requirement already satisfied: grpcio<2.0,>=1.24.3 in /usr/local/lib/python3.7/dist-packages (from tensorflow>=2.0->deeplabcut) (1.47.0)\n",
            "Requirement already satisfied: tensorflow-io-gcs-filesystem>=0.23.1 in /usr/local/lib/python3.7/dist-packages (from tensorflow>=2.0->deeplabcut) (0.26.0)\n",
            "Requirement already satisfied: wrapt>=1.11.0 in /usr/local/lib/python3.7/dist-packages (from tensorflow>=2.0->deeplabcut) (1.14.1)\n",
            "Requirement already satisfied: h5py>=2.9.0 in /usr/local/lib/python3.7/dist-packages (from tensorflow>=2.0->deeplabcut) (3.1.0)\n",
            "Requirement already satisfied: flatbuffers>=1.12 in /usr/local/lib/python3.7/dist-packages (from tensorflow>=2.0->deeplabcut) (2.0)\n",
            "Requirement already satisfied: libclang>=9.0.1 in /usr/local/lib/python3.7/dist-packages (from tensorflow>=2.0->deeplabcut) (14.0.1)\n",
            "Requirement already satisfied: opt-einsum>=2.3.2 in /usr/local/lib/python3.7/dist-packages (from tensorflow>=2.0->deeplabcut) (3.3.0)\n",
            "Requirement already satisfied: astunparse>=1.6.0 in /usr/local/lib/python3.7/dist-packages (from tensorflow>=2.0->deeplabcut) (1.6.3)\n",
            "Requirement already satisfied: tensorflow-estimator<2.9,>=2.8 in /usr/local/lib/python3.7/dist-packages (from tensorflow>=2.0->deeplabcut) (2.8.0)\n",
            "Requirement already satisfied: absl-py>=0.4.0 in /usr/local/lib/python3.7/dist-packages (from tensorflow>=2.0->deeplabcut) (1.2.0)\n",
            "Requirement already satisfied: termcolor>=1.1.0 in /usr/local/lib/python3.7/dist-packages (from tensorflow>=2.0->deeplabcut) (1.1.0)\n",
            "Requirement already satisfied: wheel<1.0,>=0.23.0 in /usr/local/lib/python3.7/dist-packages (from astunparse>=1.6.0->tensorflow>=2.0->deeplabcut) (0.37.1)\n",
            "Requirement already satisfied: cached-property in /usr/local/lib/python3.7/dist-packages (from h5py>=2.9.0->tensorflow>=2.0->deeplabcut) (1.5.2)\n",
            "Requirement already satisfied: markdown>=2.6.8 in /usr/local/lib/python3.7/dist-packages (from tensorboard<2.9,>=2.8->tensorflow>=2.0->deeplabcut) (3.4.1)\n",
            "Requirement already satisfied: tensorboard-plugin-wit>=1.6.0 in /usr/local/lib/python3.7/dist-packages (from tensorboard<2.9,>=2.8->tensorflow>=2.0->deeplabcut) (1.8.1)\n",
            "Requirement already satisfied: werkzeug>=0.11.15 in /usr/local/lib/python3.7/dist-packages (from tensorboard<2.9,>=2.8->tensorflow>=2.0->deeplabcut) (1.0.1)\n",
            "Requirement already satisfied: requests<3,>=2.21.0 in /usr/local/lib/python3.7/dist-packages (from tensorboard<2.9,>=2.8->tensorflow>=2.0->deeplabcut) (2.23.0)\n",
            "Requirement already satisfied: tensorboard-data-server<0.7.0,>=0.6.0 in /usr/local/lib/python3.7/dist-packages (from tensorboard<2.9,>=2.8->tensorflow>=2.0->deeplabcut) (0.6.1)\n",
            "Requirement already satisfied: google-auth-oauthlib<0.5,>=0.4.1 in /usr/local/lib/python3.7/dist-packages (from tensorboard<2.9,>=2.8->tensorflow>=2.0->deeplabcut) (0.4.6)\n",
            "Requirement already satisfied: google-auth<3,>=1.6.3 in /usr/local/lib/python3.7/dist-packages (from tensorboard<2.9,>=2.8->tensorflow>=2.0->deeplabcut) (1.35.0)\n",
            "Requirement already satisfied: cachetools<5.0,>=2.0.0 in /usr/local/lib/python3.7/dist-packages (from google-auth<3,>=1.6.3->tensorboard<2.9,>=2.8->tensorflow>=2.0->deeplabcut) (4.2.4)\n",
            "Requirement already satisfied: pyasn1-modules>=0.2.1 in /usr/local/lib/python3.7/dist-packages (from google-auth<3,>=1.6.3->tensorboard<2.9,>=2.8->tensorflow>=2.0->deeplabcut) (0.2.8)\n",
            "Requirement already satisfied: rsa<5,>=3.1.4 in /usr/local/lib/python3.7/dist-packages (from google-auth<3,>=1.6.3->tensorboard<2.9,>=2.8->tensorflow>=2.0->deeplabcut) (4.9)\n",
            "Requirement already satisfied: requests-oauthlib>=0.7.0 in /usr/local/lib/python3.7/dist-packages (from google-auth-oauthlib<0.5,>=0.4.1->tensorboard<2.9,>=2.8->tensorflow>=2.0->deeplabcut) (1.3.1)\n",
            "Requirement already satisfied: zipp>=0.5 in /usr/local/lib/python3.7/dist-packages (from importlib-metadata->numba>=0.54->deeplabcut) (3.8.1)\n",
            "Requirement already satisfied: pyasn1<0.5.0,>=0.4.6 in /usr/local/lib/python3.7/dist-packages (from pyasn1-modules>=0.2.1->google-auth<3,>=1.6.3->tensorboard<2.9,>=2.8->tensorflow>=2.0->deeplabcut) (0.4.8)\n",
            "Requirement already satisfied: idna<3,>=2.5 in /usr/local/lib/python3.7/dist-packages (from requests<3,>=2.21.0->tensorboard<2.9,>=2.8->tensorflow>=2.0->deeplabcut) (2.10)\n",
            "Requirement already satisfied: urllib3!=1.25.0,!=1.25.1,<1.26,>=1.21.1 in /usr/local/lib/python3.7/dist-packages (from requests<3,>=2.21.0->tensorboard<2.9,>=2.8->tensorflow>=2.0->deeplabcut) (1.24.3)\n",
            "Requirement already satisfied: chardet<4,>=3.0.2 in /usr/local/lib/python3.7/dist-packages (from requests<3,>=2.21.0->tensorboard<2.9,>=2.8->tensorflow>=2.0->deeplabcut) (3.0.4)\n",
            "Requirement already satisfied: certifi>=2017.4.17 in /usr/local/lib/python3.7/dist-packages (from requests<3,>=2.21.0->tensorboard<2.9,>=2.8->tensorflow>=2.0->deeplabcut) (2022.6.15)\n",
            "Requirement already satisfied: oauthlib>=3.0.0 in /usr/local/lib/python3.7/dist-packages (from requests-oauthlib>=0.7.0->google-auth-oauthlib<0.5,>=0.4.1->tensorboard<2.9,>=2.8->tensorflow>=2.0->deeplabcut) (3.2.0)\n",
            "Requirement already satisfied: psutil>=5 in /usr/local/lib/python3.7/dist-packages (from tensorpack>=0.11->deeplabcut) (5.4.8)\n",
            "Requirement already satisfied: msgpack>=0.5.2 in /usr/local/lib/python3.7/dist-packages (from tensorpack>=0.11->deeplabcut) (1.0.4)\n",
            "Requirement already satisfied: pyzmq>=16 in /usr/local/lib/python3.7/dist-packages (from tensorpack>=0.11->deeplabcut) (23.2.0)\n",
            "Requirement already satisfied: tabulate>=0.7.7 in /usr/local/lib/python3.7/dist-packages (from tensorpack>=0.11->deeplabcut) (0.8.10)\n",
            "Collecting msgpack-numpy>=0.4.4.2\n",
            "  Downloading msgpack_numpy-0.4.8-py2.py3-none-any.whl (6.9 kB)\n",
            "Building wheels for collected packages: filterpy\n",
            "  Building wheel for filterpy (setup.py) ... \u001b[?25l\u001b[?25hdone\n",
            "  Created wheel for filterpy: filename=filterpy-1.4.5-py3-none-any.whl size=110474 sha256=d98000fa455490e5d8ee5bff9cd66e726f93ad84bb9075c7cb888a65310b1371\n",
            "  Stored in directory: /root/.cache/pip/wheels/ce/e0/ee/a2b3c5caab3418c1ccd8c4de573d4cbe13315d7e8b0a55fbc2\n",
            "Successfully built filterpy\n",
            "Installing collected packages: fonttools, matplotlib, ruamel.yaml.clib, msgpack-numpy, llvmlite, tf-slim, tensorpack, statsmodels, ruamel.yaml, numba, imgaug, filterpy, deeplabcut\n",
            "  Attempting uninstall: matplotlib\n",
            "    Found existing installation: matplotlib 3.2.2\n",
            "    Uninstalling matplotlib-3.2.2:\n",
            "      Successfully uninstalled matplotlib-3.2.2\n",
            "  Attempting uninstall: llvmlite\n",
            "    Found existing installation: llvmlite 0.34.0\n",
            "    Uninstalling llvmlite-0.34.0:\n",
            "      Successfully uninstalled llvmlite-0.34.0\n",
            "  Attempting uninstall: statsmodels\n",
            "    Found existing installation: statsmodels 0.10.2\n",
            "    Uninstalling statsmodels-0.10.2:\n",
            "      Successfully uninstalled statsmodels-0.10.2\n",
            "  Attempting uninstall: numba\n",
            "    Found existing installation: numba 0.51.2\n",
            "    Uninstalling numba-0.51.2:\n",
            "      Successfully uninstalled numba-0.51.2\n",
            "  Attempting uninstall: imgaug\n",
            "    Found existing installation: imgaug 0.2.9\n",
            "    Uninstalling imgaug-0.2.9:\n",
            "      Successfully uninstalled imgaug-0.2.9\n",
            "\u001b[31mERROR: pip's dependency resolver does not currently take into account all the packages that are installed. This behaviour is the source of the following dependency conflicts.\n",
            "albumentations 0.1.12 requires imgaug<0.2.7,>=0.2.5, but you have imgaug 0.4.0 which is incompatible.\u001b[0m\n",
            "Successfully installed deeplabcut-2.2.1.1 filterpy-1.4.5 fonttools-4.34.4 imgaug-0.4.0 llvmlite-0.39.0 matplotlib-3.5.2 msgpack-numpy-0.4.8 numba-0.56.0 ruamel.yaml-0.17.21 ruamel.yaml.clib-0.2.6 statsmodels-0.13.1 tensorpack-0.11 tf-slim-1.1.0\n"
          ]
        },
        {
          "output_type": "display_data",
          "data": {
            "application/vnd.colab-display-data+json": {
              "pip_warning": {
                "packages": [
                  "matplotlib",
                  "mpl_toolkits"
                ]
              }
            }
          },
          "metadata": {}
        },
        {
          "output_type": "stream",
          "name": "stdout",
          "text": [
            "Looking in indexes: https://pypi.org/simple, https://us-python.pkg.dev/colab-wheels/public/simple/\n",
            "Requirement already satisfied: tf_slim in /usr/local/lib/python3.7/dist-packages (1.1.0)\n",
            "Requirement already satisfied: absl-py>=0.2.2 in /usr/local/lib/python3.7/dist-packages (from tf_slim) (1.2.0)\n"
          ]
        }
      ]
    },
    {
      "cell_type": "markdown",
      "metadata": {
        "id": "25wSj6TlVclR"
      },
      "source": [
        "**(Be sure to click \"RESTART RUNTIME\" is it is displayed above above before moving on !)**"
      ]
    },
    {
      "cell_type": "code",
      "source": [
        "import deeplabcut"
      ],
      "metadata": {
        "id": "owsW7nFWkGAw",
        "colab": {
          "base_uri": "https://localhost:8080/"
        },
        "outputId": "7f51d566-0dba-4891-f1b1-7e770a3c3bfa"
      },
      "execution_count": null,
      "outputs": [
        {
          "output_type": "stream",
          "name": "stdout",
          "text": [
            "Loading DLC 2.2.1.1...\n",
            "DLC loaded in light mode; you cannot use any GUI (labeling, relabeling and standalone GUI)\n"
          ]
        }
      ]
    },
    {
      "cell_type": "code",
      "source": [
        "#I don't know if I actually need this cell lol\n",
        "import tensorflow\n",
        "tensorflow.__version__"
      ],
      "metadata": {
        "colab": {
          "base_uri": "https://localhost:8080/",
          "height": 35
        },
        "id": "i6X2JA6FwmgJ",
        "outputId": "eecebc40-875e-4588-b2be-d460a70749b0"
      },
      "execution_count": null,
      "outputs": [
        {
          "output_type": "execute_result",
          "data": {
            "text/plain": [
              "'2.8.2'"
            ],
            "application/vnd.google.colaboratory.intrinsic+json": {
              "type": "string"
            }
          },
          "metadata": {},
          "execution_count": 2
        }
      ]
    },
    {
      "cell_type": "markdown",
      "metadata": {
        "id": "cQ-nlTkri4HZ"
      },
      "source": [
        "## Link your Google Drive:\n",
        "\n",
        "### First, place your whole porject folder into you google drive! \"i.e. move the folder named \"Project-YourName-TheDate\" into google drive. This should be done after labeling, but before creating a training set. "
      ]
    },
    {
      "cell_type": "code",
      "metadata": {
        "id": "KS4Q4UkR9rgG",
        "colab": {
          "base_uri": "https://localhost:8080/"
        },
        "outputId": "3f7f1350-f164-40c3-b7ea-7db3c3f646ff"
      },
      "source": [
        "#Now, let's link to your GoogleDrive. Run this cell and follow the authorization instructions:\n",
        "#(We recommend putting a copy of the github repo in your google drive if you are using the demo \"examples\")\n",
        "\n",
        "from google.colab import drive\n",
        "drive.mount('/content/drive')\n",
        "\n",
        "# it was unsuccessful to try and mount my hrmartin@uchicago.edu drive while running colab from vestibularhaircell account - HRM"
      ],
      "execution_count": null,
      "outputs": [
        {
          "output_type": "stream",
          "name": "stdout",
          "text": [
            "Mounted at /content/drive\n"
          ]
        }
      ]
    },
    {
      "cell_type": "markdown",
      "metadata": {
        "id": "Frnj1RVDyEqs"
      },
      "source": [
        "YOU WILL NEED TO EDIT THE PROJECT PATH **in the config.yaml file** TO BE SET TO YOUR GOOGLE DRIVE LINK!\n",
        "\n",
        "You can simply double click on the file on the left, and edit within colab to have the correct path name set.\n",
        "\n",
        "Typically, this will be: /content/drive/My Drive/yourProjectFolderName\n"
      ]
    },
    {
      "cell_type": "code",
      "metadata": {
        "id": "vhENAlQnFENJ",
        "colab": {
          "base_uri": "https://localhost:8080/"
        },
        "outputId": "8714b93b-1628-47ee-fb10-f277c1fe0424"
      },
      "source": [
        "#Setup your project variables:\n",
        "# PLEASE EDIT THESE:\n",
        "ProjectFolderName = 'beam-DS-2022-07-26'\n",
        "VideoType = 'MOV' \n",
        "\n",
        "#don't edit these:\n",
        "videofile_path = ['/content/drive/My Drive/TF2Projects/'+ProjectFolderName+'/videos/'] #Enter the list of videos or folder to analyze.\n",
        "print('videofile_path:   ', videofile_path[0])\n",
        "\n",
        "#This creates a path variable that links to your google drive copy\n",
        "#No need to edit this, as you set it up before: \n",
        "path_config_file = '/content/drive/My Drive/TF2Projects/'+ProjectFolderName+'/config.yaml'\n",
        "print('path_config_file: ',path_config_file)"
      ],
      "execution_count": null,
      "outputs": [
        {
          "output_type": "stream",
          "name": "stdout",
          "text": [
            "videofile_path:    /content/drive/My Drive/TF2Projects/beam-DS-2022-07-26/videos/\n",
            "path_config_file:  /content/drive/My Drive/TF2Projects/beam-DS-2022-07-26/config.yaml\n"
          ]
        }
      ]
    },
    {
      "cell_type": "code",
      "source": [
        "#This cell outputs a copy-and-pasteable list of the video file paths in case we need to replace the ones in the config file.\n",
        "#I don't think we'll need to replace them; in fact, replacing them is not allowed currently.\n",
        "import glob\n",
        "\n",
        "a = glob.glob([videofile_path[0]+'*.'+VideoType][0])\n",
        "\n",
        "for file in a:\n",
        "  print(' ', file)\n",
        "  print('   ','crop: 0, 658, 0, 210')\n"
      ],
      "metadata": {
        "colab": {
          "base_uri": "https://localhost:8080/"
        },
        "id": "cNHXUB-TdPMF",
        "outputId": "78dfec30-a32a-465c-d072-ba39a6b3d405"
      },
      "execution_count": null,
      "outputs": [
        {
          "output_type": "stream",
          "name": "stdout",
          "text": [
            "  /content/drive/My Drive/TF2Projects/beam-DS-2022-07-26/videos/Copy of 220715-2547-W3.mov\n",
            "    crop: 0, 658, 0, 210\n"
          ]
        }
      ]
    },
    {
      "cell_type": "markdown",
      "metadata": {
        "id": "xNi9s1dboEJN"
      },
      "source": [
        "## Create a training dataset:\n",
        "### You must do this step inside of Colab:\n",
        "After running this script the training dataset is created and saved in the project directory under the subdirectory **'training-datasets'**\n",
        "\n",
        "This function also creates new subdirectories under **dlc-models** and appends the project config.yaml file with the correct path to the training and testing pose configuration file. These files hold the parameters for training the network. Such an example file is provided with the toolbox and named as **pose_cfg.yaml**.\n",
        "\n",
        "Now it is the time to start training the network!"
      ]
    },
    {
      "cell_type": "code",
      "metadata": {
        "id": "lFuQndbvBFUR"
      },
      "source": [
        "#Set the shuffle you want to create, train, evaluate, use for analysis, etc (1 is default):\n",
        "SHUF = 1 "
      ],
      "execution_count": null,
      "outputs": []
    },
    {
      "cell_type": "code",
      "source": [
        "#ls drive/MyDrive/TF2Projects/DarkMouse-ES-2022-07-06/videos\n",
        "deeplabcut.__version__"
      ],
      "metadata": {
        "colab": {
          "base_uri": "https://localhost:8080/",
          "height": 35
        },
        "id": "1uvt2RnWLrXg",
        "outputId": "87c97a37-0ff5-4e36-bdd9-4ee65bda55d1"
      },
      "execution_count": null,
      "outputs": [
        {
          "output_type": "execute_result",
          "data": {
            "text/plain": [
              "'2.2.1.1'"
            ],
            "application/vnd.google.colaboratory.intrinsic+json": {
              "type": "string"
            }
          },
          "metadata": {},
          "execution_count": 10
        }
      ]
    },
    {
      "cell_type": "code",
      "metadata": {
        "scrolled": true,
        "id": "eMeUwgxPoEJP",
        "colab": {
          "base_uri": "https://localhost:8080/"
        },
        "outputId": "53de2676-d30f-4b97-e393-ffef07ed2942"
      },
      "source": [
        "from pickle import TRUE\n",
        "# Note: if you are using the demo data (i.e. examples/Reaching-Mackenzie-2018-08-30/), first delete the folder called dlc-models! \n",
        "#Then, run this cell. There are many more functions you can set here, including which network to use.\n",
        "#check the docstring for full options you can do!\n",
        "deeplabcut.create_training_dataset(path_config_file, net_type='resnet_50', Shuffles=[SHUF], augmenter_type='imgaug',windows2linux=True)"
      ],
      "execution_count": null,
      "outputs": [
        {
          "output_type": "stream",
          "name": "stderr",
          "text": [
            "/usr/local/lib/python3.7/dist-packages/deeplabcut/generate_training_dataset/trainingsetmanipulation.py:823: FutureWarning: `windows2linux` has no effect since 2.2.0.4 and will be removed in 2.2.1.\n",
            "  FutureWarning,\n"
          ]
        },
        {
          "output_type": "stream",
          "name": "stdout",
          "text": [
            "/content/drive/My Drive/TF2Projects/beam-DS-2022-07-26/labeled-data/220715-2505-N3/CollectedData_DS.h5  not found (perhaps not annotated).\n",
            "/content/drive/My Drive/TF2Projects/beam-DS-2022-07-26/labeled-data/220715-2539-N1/CollectedData_DS.h5  not found (perhaps not annotated).\n",
            "/content/drive/My Drive/TF2Projects/beam-DS-2022-07-26/labeled-data/220718-2525-W2/CollectedData_DS.h5  not found (perhaps not annotated).\n",
            "/content/drive/My Drive/TF2Projects/beam-DS-2022-07-26/labeled-data/220718-2525-W3/CollectedData_DS.h5  not found (perhaps not annotated).\n",
            "/content/drive/My Drive/TF2Projects/beam-DS-2022-07-26/labeled-data/220718-2526-N2/CollectedData_DS.h5  not found (perhaps not annotated).\n",
            "/content/drive/My Drive/TF2Projects/beam-DS-2022-07-26/labeled-data/220718-2526-N3/CollectedData_DS.h5  not found (perhaps not annotated).\n",
            "/content/drive/My Drive/TF2Projects/beam-DS-2022-07-26/labeled-data/220718-2526-W2/CollectedData_DS.h5  not found (perhaps not annotated).\n",
            "/content/drive/My Drive/TF2Projects/beam-DS-2022-07-26/labeled-data/220718-2526-W3/CollectedData_DS.h5  not found (perhaps not annotated).\n",
            "/content/drive/My Drive/TF2Projects/beam-DS-2022-07-26/labeled-data/220718-2527-N2/CollectedData_DS.h5  not found (perhaps not annotated).\n",
            "/content/drive/My Drive/TF2Projects/beam-DS-2022-07-26/labeled-data/220718-2527-N3/CollectedData_DS.h5  not found (perhaps not annotated).\n",
            "/content/drive/My Drive/TF2Projects/beam-DS-2022-07-26/labeled-data/220718-2527-W2/CollectedData_DS.h5  not found (perhaps not annotated).\n",
            "/content/drive/My Drive/TF2Projects/beam-DS-2022-07-26/labeled-data/220718-2527-W3/CollectedData_DS.h5  not found (perhaps not annotated).\n",
            "/content/drive/My Drive/TF2Projects/beam-DS-2022-07-26/labeled-data/220718-2528-N2/CollectedData_DS.h5  not found (perhaps not annotated).\n",
            "/content/drive/My Drive/TF2Projects/beam-DS-2022-07-26/labeled-data/220718-2528-N3/CollectedData_DS.h5  not found (perhaps not annotated).\n",
            "/content/drive/My Drive/TF2Projects/beam-DS-2022-07-26/labeled-data/220718-2528-W2/CollectedData_DS.h5  not found (perhaps not annotated).\n",
            "/content/drive/My Drive/TF2Projects/beam-DS-2022-07-26/labeled-data/220718-2528-W3/CollectedData_DS.h5  not found (perhaps not annotated).\n",
            "/content/drive/My Drive/TF2Projects/beam-DS-2022-07-26/labeled-data/220718-2529-N2/CollectedData_DS.h5  not found (perhaps not annotated).\n",
            "/content/drive/My Drive/TF2Projects/beam-DS-2022-07-26/labeled-data/220718-2529-N3/CollectedData_DS.h5  not found (perhaps not annotated).\n",
            "/content/drive/My Drive/TF2Projects/beam-DS-2022-07-26/labeled-data/220718-2529-W2/CollectedData_DS.h5  not found (perhaps not annotated).\n",
            "/content/drive/My Drive/TF2Projects/beam-DS-2022-07-26/labeled-data/220718-2529-W3/CollectedData_DS.h5  not found (perhaps not annotated).\n",
            "/content/drive/My Drive/TF2Projects/beam-DS-2022-07-26/labeled-data/220718-2530-N2/CollectedData_DS.h5  not found (perhaps not annotated).\n",
            "/content/drive/My Drive/TF2Projects/beam-DS-2022-07-26/labeled-data/220718-2530-N3/CollectedData_DS.h5  not found (perhaps not annotated).\n",
            "/content/drive/My Drive/TF2Projects/beam-DS-2022-07-26/labeled-data/220718-2530-W2/CollectedData_DS.h5  not found (perhaps not annotated).\n",
            "/content/drive/My Drive/TF2Projects/beam-DS-2022-07-26/labeled-data/220718-2530-W3/CollectedData_DS.h5  not found (perhaps not annotated).\n",
            "/content/drive/My Drive/TF2Projects/beam-DS-2022-07-26/labeled-data/220721_2471_N2/CollectedData_DS.h5  not found (perhaps not annotated).\n",
            "/content/drive/My Drive/TF2Projects/beam-DS-2022-07-26/labeled-data/220721_2471_N3/CollectedData_DS.h5  not found (perhaps not annotated).\n",
            "/content/drive/My Drive/TF2Projects/beam-DS-2022-07-26/labeled-data/220721_2471_W2/CollectedData_DS.h5  not found (perhaps not annotated).\n",
            "/content/drive/My Drive/TF2Projects/beam-DS-2022-07-26/labeled-data/220721_2471_W3/CollectedData_DS.h5  not found (perhaps not annotated).\n",
            "/content/drive/My Drive/TF2Projects/beam-DS-2022-07-26/labeled-data/220721_2472_N2/CollectedData_DS.h5  not found (perhaps not annotated).\n",
            "/content/drive/My Drive/TF2Projects/beam-DS-2022-07-26/labeled-data/220721_2472_N3/CollectedData_DS.h5  not found (perhaps not annotated).\n",
            "/content/drive/My Drive/TF2Projects/beam-DS-2022-07-26/labeled-data/220721_2472_W2/CollectedData_DS.h5  not found (perhaps not annotated).\n",
            "/content/drive/My Drive/TF2Projects/beam-DS-2022-07-26/labeled-data/220721_2472_W3/CollectedData_DS.h5  not found (perhaps not annotated).\n",
            "/content/drive/My Drive/TF2Projects/beam-DS-2022-07-26/labeled-data/220721_2473_N2/CollectedData_DS.h5  not found (perhaps not annotated).\n",
            "/content/drive/My Drive/TF2Projects/beam-DS-2022-07-26/labeled-data/220721_2473_N3/CollectedData_DS.h5  not found (perhaps not annotated).\n",
            "/content/drive/My Drive/TF2Projects/beam-DS-2022-07-26/labeled-data/220721_2473_W2/CollectedData_DS.h5  not found (perhaps not annotated).\n",
            "/content/drive/My Drive/TF2Projects/beam-DS-2022-07-26/labeled-data/220721_2473_W3/CollectedData_DS.h5  not found (perhaps not annotated).\n",
            "/content/drive/My Drive/TF2Projects/beam-DS-2022-07-26/labeled-data/220721_2474_N2/CollectedData_DS.h5  not found (perhaps not annotated).\n",
            "/content/drive/My Drive/TF2Projects/beam-DS-2022-07-26/labeled-data/220721_2474_N3/CollectedData_DS.h5  not found (perhaps not annotated).\n",
            "/content/drive/My Drive/TF2Projects/beam-DS-2022-07-26/labeled-data/220721_2474_W3/CollectedData_DS.h5  not found (perhaps not annotated).\n",
            "/content/drive/My Drive/TF2Projects/beam-DS-2022-07-26/labeled-data/220721_2487_N2/CollectedData_DS.h5  not found (perhaps not annotated).\n",
            "/content/drive/My Drive/TF2Projects/beam-DS-2022-07-26/labeled-data/220721_2487_N3/CollectedData_DS.h5  not found (perhaps not annotated).\n",
            "/content/drive/My Drive/TF2Projects/beam-DS-2022-07-26/labeled-data/220721_2487_W2/CollectedData_DS.h5  not found (perhaps not annotated).\n",
            "/content/drive/My Drive/TF2Projects/beam-DS-2022-07-26/labeled-data/220721_2487_W3/CollectedData_DS.h5  not found (perhaps not annotated).\n",
            "/content/drive/My Drive/TF2Projects/beam-DS-2022-07-26/labeled-data/220721_2489_N3/CollectedData_DS.h5  not found (perhaps not annotated).\n",
            "/content/drive/My Drive/TF2Projects/beam-DS-2022-07-26/labeled-data/220721_2489_W2/CollectedData_DS.h5  not found (perhaps not annotated).\n",
            "/content/drive/My Drive/TF2Projects/beam-DS-2022-07-26/labeled-data/220721_2489_W3/CollectedData_DS.h5  not found (perhaps not annotated).\n",
            "Downloading a ImageNet-pretrained model from http://download.tensorflow.org/models/resnet_v1_50_2016_08_28.tar.gz....\n",
            "The training dataset is successfully created. Use the function 'train_network' to start training. Happy training!\n"
          ]
        },
        {
          "output_type": "execute_result",
          "data": {
            "text/plain": [
              "[(0.95,\n",
              "  1,\n",
              "  (array([893, 993, 983, ..., 203,  84, 633]),\n",
              "   array([ 908,  611,  398,   91, 1106,  430,  779, 1143,  291,   57, 1345,\n",
              "           257,  888, 1529, 1466, 1066,  388,  335,  273,  756, 1077, 1485,\n",
              "           128,  802,   28, 1207,  882, 1483,  510,  675,  151,  244,  714,\n",
              "           543,  544,  639,  697, 1289, 1312,  423,  910, 1171,  659,  797,\n",
              "          1513, 1201,   99,  850,  448, 1455,  755,  976,  115,  777,   72,\n",
              "           845,  537,  849,  174,   87,  551, 1510,  705,  314, 1420,  600,\n",
              "          1496, 1094,  599,  277, 1033, 1383,  763,  835, 1216,  559,  684])))]"
            ]
          },
          "metadata": {},
          "execution_count": 11
        }
      ]
    },
    {
      "cell_type": "markdown",
      "metadata": {
        "id": "c4FczXGDoEJU"
      },
      "source": [
        "## Start training:\n",
        "This function trains the network for a specific shuffle of the training dataset. "
      ]
    },
    {
      "cell_type": "code",
      "metadata": {
        "id": "_pOvDq_2oEJW",
        "colab": {
          "base_uri": "https://localhost:8080/"
        },
        "outputId": "a3158ac7-bacf-432b-f63a-aeda96b23d84"
      },
      "source": [
        "#let's also change the display and save_iters just in case Colab takes away the GPU... \n",
        "#if that happens, you can reload from a saved point. Typically, you want to train to 200,000 + iterations.\n",
        "#more info and there are more things you can set: https://github.com/DeepLabCut/DeepLabCut/blob/master/docs/functionDetails.md#g-train-the-network\n",
        "\n",
        "deeplabcut.train_network(path_config_file, shuffle=SHUF, displayiters=500,saveiters=1000,maxiters=300000)\n",
        "\n",
        "#this will run until you stop it (CTRL+C), or hit \"STOP\" icon, or when it hits the end (default, 1.03M iterations). \n",
        "#Whichever you chose, you will see what looks like an error message, but it's not an error - don't worry...."
      ],
      "execution_count": null,
      "outputs": [
        {
          "output_type": "stream",
          "name": "stderr",
          "text": [
            "Config:\n",
            "{'all_joints': [[0], [1], [2], [3], [4], [5], [6], [7], [8]],\n",
            " 'all_joints_names': ['Nose',\n",
            "                      'TipOfBack',\n",
            "                      'BellyMidpoint',\n",
            "                      'TailBase',\n",
            "                      'TailTip',\n",
            "                      'FrontPaw',\n",
            "                      'HindPaw',\n",
            "                      'BeamStart',\n",
            "                      'BeamEnd'],\n",
            " 'alpha_r': 0.02,\n",
            " 'apply_prob': 0.5,\n",
            " 'batch_size': 1,\n",
            " 'clahe': True,\n",
            " 'claheratio': 0.1,\n",
            " 'crop_pad': 0,\n",
            " 'cropratio': 0.4,\n",
            " 'dataset': 'training-datasets/iteration-0/UnaugmentedDataSet_beamJul26/beam_DS95shuffle1.mat',\n",
            " 'dataset_type': 'imgaug',\n",
            " 'decay_steps': 30000,\n",
            " 'deterministic': False,\n",
            " 'display_iters': 1000,\n",
            " 'edge': False,\n",
            " 'emboss': {'alpha': [0.0, 1.0], 'embossratio': 0.1, 'strength': [0.5, 1.5]},\n",
            " 'fg_fraction': 0.25,\n",
            " 'global_scale': 0.8,\n",
            " 'histeq': True,\n",
            " 'histeqratio': 0.1,\n",
            " 'init_weights': '/usr/local/lib/python3.7/dist-packages/deeplabcut/pose_estimation_tensorflow/models/pretrained/resnet_v1_50.ckpt',\n",
            " 'intermediate_supervision': False,\n",
            " 'intermediate_supervision_layer': 12,\n",
            " 'location_refinement': True,\n",
            " 'locref_huber_loss': True,\n",
            " 'locref_loss_weight': 0.05,\n",
            " 'locref_stdev': 7.2801,\n",
            " 'log_dir': 'log',\n",
            " 'lr_init': 0.0005,\n",
            " 'max_input_size': 1500,\n",
            " 'mean_pixel': [123.68, 116.779, 103.939],\n",
            " 'metadataset': 'training-datasets/iteration-0/UnaugmentedDataSet_beamJul26/Documentation_data-beam_95shuffle1.pickle',\n",
            " 'min_input_size': 64,\n",
            " 'mirror': False,\n",
            " 'multi_stage': False,\n",
            " 'multi_step': [[0.005, 10000],\n",
            "                [0.02, 430000],\n",
            "                [0.002, 730000],\n",
            "                [0.001, 1030000]],\n",
            " 'net_type': 'resnet_50',\n",
            " 'num_joints': 9,\n",
            " 'optimizer': 'sgd',\n",
            " 'pairwise_huber_loss': False,\n",
            " 'pairwise_predict': False,\n",
            " 'partaffinityfield_predict': False,\n",
            " 'pos_dist_thresh': 17,\n",
            " 'project_path': '/content/drive/My Drive/TF2Projects/beam-DS-2022-07-26',\n",
            " 'regularize': False,\n",
            " 'rotation': 25,\n",
            " 'rotratio': 0.4,\n",
            " 'save_iters': 50000,\n",
            " 'scale_jitter_lo': 0.5,\n",
            " 'scale_jitter_up': 1.25,\n",
            " 'scoremap_dir': 'test',\n",
            " 'sharpen': False,\n",
            " 'sharpenratio': 0.3,\n",
            " 'shuffle': True,\n",
            " 'snapshot_prefix': '/content/drive/My '\n",
            "                    'Drive/TF2Projects/beam-DS-2022-07-26/dlc-models/iteration-0/beamJul26-trainset95shuffle1/train/snapshot',\n",
            " 'stride': 8.0,\n",
            " 'weigh_negatives': False,\n",
            " 'weigh_only_present_joints': False,\n",
            " 'weigh_part_predictions': False,\n",
            " 'weight_decay': 0.0001}\n"
          ]
        },
        {
          "output_type": "stream",
          "name": "stdout",
          "text": [
            "Selecting single-animal trainer\n",
            "Batch Size is 1\n"
          ]
        },
        {
          "output_type": "stream",
          "name": "stderr",
          "text": [
            "/usr/local/lib/python3.7/dist-packages/tensorflow/python/keras/engine/base_layer_v1.py:1694: UserWarning: `layer.apply` is deprecated and will be removed in a future version. Please use `layer.__call__` method instead.\n",
            "  warnings.warn('`layer.apply` is deprecated and '\n",
            "/usr/local/lib/python3.7/dist-packages/tf_slim/layers/layers.py:684: UserWarning: `layer.apply` is deprecated and will be removed in a future version. Please use `layer.__call__` method instead.\n",
            "  outputs = layer.apply(inputs, training=is_training)\n"
          ]
        },
        {
          "output_type": "stream",
          "name": "stdout",
          "text": [
            "Loading ImageNet-pretrained resnet_50\n",
            "Max_iters overwritten as 300000\n",
            "Display_iters overwritten as 500\n",
            "Save_iters overwritten as 1000\n",
            "Training parameter:\n",
            "{'stride': 8.0, 'weigh_part_predictions': False, 'weigh_negatives': False, 'fg_fraction': 0.25, 'mean_pixel': [123.68, 116.779, 103.939], 'shuffle': True, 'snapshot_prefix': '/content/drive/My Drive/TF2Projects/beam-DS-2022-07-26/dlc-models/iteration-0/beamJul26-trainset95shuffle1/train/snapshot', 'log_dir': 'log', 'global_scale': 0.8, 'location_refinement': True, 'locref_stdev': 7.2801, 'locref_loss_weight': 0.05, 'locref_huber_loss': True, 'optimizer': 'sgd', 'intermediate_supervision': False, 'intermediate_supervision_layer': 12, 'regularize': False, 'weight_decay': 0.0001, 'crop_pad': 0, 'scoremap_dir': 'test', 'batch_size': 1, 'dataset_type': 'imgaug', 'deterministic': False, 'mirror': False, 'pairwise_huber_loss': False, 'weigh_only_present_joints': False, 'partaffinityfield_predict': False, 'pairwise_predict': False, 'all_joints': [[0], [1], [2], [3], [4], [5], [6], [7], [8]], 'all_joints_names': ['Nose', 'TipOfBack', 'BellyMidpoint', 'TailBase', 'TailTip', 'FrontPaw', 'HindPaw', 'BeamStart', 'BeamEnd'], 'alpha_r': 0.02, 'apply_prob': 0.5, 'clahe': True, 'claheratio': 0.1, 'cropratio': 0.4, 'dataset': 'training-datasets/iteration-0/UnaugmentedDataSet_beamJul26/beam_DS95shuffle1.mat', 'decay_steps': 30000, 'display_iters': 1000, 'edge': False, 'emboss': {'alpha': [0.0, 1.0], 'embossratio': 0.1, 'strength': [0.5, 1.5]}, 'histeq': True, 'histeqratio': 0.1, 'init_weights': '/usr/local/lib/python3.7/dist-packages/deeplabcut/pose_estimation_tensorflow/models/pretrained/resnet_v1_50.ckpt', 'lr_init': 0.0005, 'max_input_size': 1500, 'metadataset': 'training-datasets/iteration-0/UnaugmentedDataSet_beamJul26/Documentation_data-beam_95shuffle1.pickle', 'min_input_size': 64, 'multi_stage': False, 'multi_step': [[0.005, 10000], [0.02, 430000], [0.002, 730000], [0.001, 1030000]], 'net_type': 'resnet_50', 'num_joints': 9, 'pos_dist_thresh': 17, 'project_path': '/content/drive/My Drive/TF2Projects/beam-DS-2022-07-26', 'rotation': 25, 'rotratio': 0.4, 'save_iters': 50000, 'scale_jitter_lo': 0.5, 'scale_jitter_up': 1.25, 'sharpen': False, 'sharpenratio': 0.3, 'covering': True, 'elastic_transform': True, 'motion_blur': True, 'motion_blur_params': {'k': 7, 'angle': (-90, 90)}}\n",
            "Starting training....\n"
          ]
        },
        {
          "output_type": "stream",
          "name": "stderr",
          "text": [
            "iteration: 500 loss: 0.0306 lr: 0.005\n",
            "iteration: 1000 loss: 0.0166 lr: 0.005\n",
            "iteration: 1500 loss: 0.0143 lr: 0.005\n",
            "iteration: 2000 loss: 0.0130 lr: 0.005\n",
            "iteration: 2500 loss: 0.0120 lr: 0.005\n",
            "iteration: 3000 loss: 0.0109 lr: 0.005\n",
            "iteration: 3500 loss: 0.0106 lr: 0.005\n",
            "iteration: 4000 loss: 0.0098 lr: 0.005\n",
            "iteration: 4500 loss: 0.0095 lr: 0.005\n",
            "iteration: 5000 loss: 0.0087 lr: 0.005\n",
            "iteration: 5500 loss: 0.0083 lr: 0.005\n",
            "iteration: 6000 loss: 0.0087 lr: 0.005\n",
            "iteration: 6500 loss: 0.0083 lr: 0.005\n",
            "iteration: 7000 loss: 0.0078 lr: 0.005\n",
            "iteration: 7500 loss: 0.0079 lr: 0.005\n",
            "iteration: 8000 loss: 0.0076 lr: 0.005\n",
            "iteration: 8500 loss: 0.0074 lr: 0.005\n",
            "iteration: 9000 loss: 0.0073 lr: 0.005\n",
            "iteration: 9500 loss: 0.0073 lr: 0.005\n",
            "iteration: 10000 loss: 0.0071 lr: 0.005\n",
            "iteration: 10500 loss: 0.0101 lr: 0.02\n",
            "iteration: 11000 loss: 0.0095 lr: 0.02\n",
            "iteration: 11500 loss: 0.0084 lr: 0.02\n",
            "iteration: 12000 loss: 0.0077 lr: 0.02\n",
            "iteration: 12500 loss: 0.0077 lr: 0.02\n",
            "iteration: 13000 loss: 0.0073 lr: 0.02\n",
            "iteration: 13500 loss: 0.0079 lr: 0.02\n",
            "iteration: 14000 loss: 0.0072 lr: 0.02\n",
            "iteration: 14500 loss: 0.0067 lr: 0.02\n",
            "iteration: 15000 loss: 0.0060 lr: 0.02\n",
            "iteration: 15500 loss: 0.0068 lr: 0.02\n",
            "iteration: 16000 loss: 0.0065 lr: 0.02\n",
            "iteration: 16500 loss: 0.0063 lr: 0.02\n",
            "iteration: 17000 loss: 0.0062 lr: 0.02\n",
            "iteration: 17500 loss: 0.0062 lr: 0.02\n",
            "iteration: 18000 loss: 0.0060 lr: 0.02\n",
            "iteration: 18500 loss: 0.0060 lr: 0.02\n",
            "iteration: 19000 loss: 0.0058 lr: 0.02\n",
            "iteration: 19500 loss: 0.0057 lr: 0.02\n",
            "iteration: 20000 loss: 0.0056 lr: 0.02\n",
            "iteration: 20500 loss: 0.0055 lr: 0.02\n",
            "iteration: 21000 loss: 0.0052 lr: 0.02\n",
            "iteration: 21500 loss: 0.0055 lr: 0.02\n",
            "iteration: 22000 loss: 0.0057 lr: 0.02\n",
            "iteration: 22500 loss: 0.0052 lr: 0.02\n",
            "iteration: 23000 loss: 0.0052 lr: 0.02\n",
            "iteration: 23500 loss: 0.0053 lr: 0.02\n",
            "iteration: 24000 loss: 0.0056 lr: 0.02\n",
            "iteration: 24500 loss: 0.0054 lr: 0.02\n",
            "iteration: 25000 loss: 0.0051 lr: 0.02\n",
            "iteration: 25500 loss: 0.0053 lr: 0.02\n",
            "iteration: 26000 loss: 0.0053 lr: 0.02\n",
            "iteration: 26500 loss: 0.0050 lr: 0.02\n",
            "iteration: 27000 loss: 0.0054 lr: 0.02\n",
            "iteration: 27500 loss: 0.0051 lr: 0.02\n",
            "iteration: 28000 loss: 0.0049 lr: 0.02\n",
            "iteration: 28500 loss: 0.0050 lr: 0.02\n",
            "iteration: 29000 loss: 0.0051 lr: 0.02\n",
            "iteration: 29500 loss: 0.0050 lr: 0.02\n",
            "iteration: 30000 loss: 0.0051 lr: 0.02\n",
            "iteration: 30500 loss: 0.0047 lr: 0.02\n",
            "iteration: 31000 loss: 0.0047 lr: 0.02\n",
            "iteration: 31500 loss: 0.0044 lr: 0.02\n",
            "iteration: 32000 loss: 0.0046 lr: 0.02\n",
            "iteration: 32500 loss: 0.0050 lr: 0.02\n",
            "iteration: 33000 loss: 0.0048 lr: 0.02\n",
            "iteration: 33500 loss: 0.0050 lr: 0.02\n",
            "iteration: 34000 loss: 0.0047 lr: 0.02\n",
            "iteration: 34500 loss: 0.0046 lr: 0.02\n",
            "iteration: 35000 loss: 0.0050 lr: 0.02\n",
            "iteration: 35500 loss: 0.0049 lr: 0.02\n",
            "iteration: 36000 loss: 0.0047 lr: 0.02\n",
            "iteration: 36500 loss: 0.0045 lr: 0.02\n",
            "iteration: 37000 loss: 0.0045 lr: 0.02\n",
            "iteration: 37500 loss: 0.0045 lr: 0.02\n",
            "iteration: 38000 loss: 0.0046 lr: 0.02\n",
            "iteration: 38500 loss: 0.0045 lr: 0.02\n",
            "iteration: 39000 loss: 0.0044 lr: 0.02\n",
            "iteration: 39500 loss: 0.0045 lr: 0.02\n",
            "iteration: 40000 loss: 0.0046 lr: 0.02\n",
            "iteration: 40500 loss: 0.0043 lr: 0.02\n",
            "iteration: 41000 loss: 0.0045 lr: 0.02\n",
            "iteration: 41500 loss: 0.0042 lr: 0.02\n",
            "iteration: 42000 loss: 0.0043 lr: 0.02\n",
            "iteration: 42500 loss: 0.0046 lr: 0.02\n",
            "iteration: 43000 loss: 0.0045 lr: 0.02\n",
            "iteration: 43500 loss: 0.0045 lr: 0.02\n",
            "iteration: 44000 loss: 0.0046 lr: 0.02\n",
            "iteration: 44500 loss: 0.0043 lr: 0.02\n",
            "iteration: 45000 loss: 0.0048 lr: 0.02\n",
            "iteration: 45500 loss: 0.0046 lr: 0.02\n",
            "iteration: 46000 loss: 0.0042 lr: 0.02\n",
            "iteration: 46500 loss: 0.0044 lr: 0.02\n",
            "iteration: 47000 loss: 0.0044 lr: 0.02\n",
            "iteration: 47500 loss: 0.0042 lr: 0.02\n",
            "iteration: 48000 loss: 0.0045 lr: 0.02\n",
            "iteration: 48500 loss: 0.0043 lr: 0.02\n",
            "iteration: 49000 loss: 0.0044 lr: 0.02\n",
            "iteration: 49500 loss: 0.0042 lr: 0.02\n",
            "iteration: 50000 loss: 0.0042 lr: 0.02\n",
            "iteration: 50500 loss: 0.0042 lr: 0.02\n",
            "iteration: 51000 loss: 0.0042 lr: 0.02\n",
            "iteration: 51500 loss: 0.0040 lr: 0.02\n",
            "iteration: 52000 loss: 0.0040 lr: 0.02\n",
            "iteration: 52500 loss: 0.0041 lr: 0.02\n",
            "iteration: 53000 loss: 0.0041 lr: 0.02\n",
            "iteration: 53500 loss: 0.0043 lr: 0.02\n",
            "iteration: 54000 loss: 0.0042 lr: 0.02\n",
            "iteration: 54500 loss: 0.0041 lr: 0.02\n",
            "iteration: 55000 loss: 0.0041 lr: 0.02\n",
            "iteration: 55500 loss: 0.0040 lr: 0.02\n",
            "iteration: 56000 loss: 0.0040 lr: 0.02\n",
            "iteration: 56500 loss: 0.0041 lr: 0.02\n",
            "iteration: 57000 loss: 0.0044 lr: 0.02\n",
            "iteration: 57500 loss: 0.0042 lr: 0.02\n",
            "iteration: 58000 loss: 0.0041 lr: 0.02\n",
            "iteration: 58500 loss: 0.0041 lr: 0.02\n",
            "iteration: 59000 loss: 0.0042 lr: 0.02\n",
            "iteration: 59500 loss: 0.0041 lr: 0.02\n",
            "iteration: 60000 loss: 0.0040 lr: 0.02\n",
            "iteration: 60500 loss: 0.0042 lr: 0.02\n",
            "iteration: 61000 loss: 0.0042 lr: 0.02\n",
            "iteration: 61500 loss: 0.0040 lr: 0.02\n",
            "iteration: 62000 loss: 0.0041 lr: 0.02\n",
            "iteration: 62500 loss: 0.0039 lr: 0.02\n",
            "iteration: 63000 loss: 0.0041 lr: 0.02\n",
            "iteration: 63500 loss: 0.0041 lr: 0.02\n",
            "iteration: 64000 loss: 0.0040 lr: 0.02\n",
            "iteration: 64500 loss: 0.0036 lr: 0.02\n",
            "iteration: 65000 loss: 0.0039 lr: 0.02\n",
            "iteration: 65500 loss: 0.0040 lr: 0.02\n",
            "iteration: 66000 loss: 0.0040 lr: 0.02\n",
            "iteration: 66500 loss: 0.0039 lr: 0.02\n",
            "iteration: 67000 loss: 0.0040 lr: 0.02\n",
            "iteration: 67500 loss: 0.0038 lr: 0.02\n",
            "iteration: 68000 loss: 0.0041 lr: 0.02\n",
            "iteration: 68500 loss: 0.0038 lr: 0.02\n",
            "iteration: 69000 loss: 0.0039 lr: 0.02\n",
            "iteration: 69500 loss: 0.0039 lr: 0.02\n",
            "iteration: 70000 loss: 0.0042 lr: 0.02\n",
            "iteration: 70500 loss: 0.0038 lr: 0.02\n",
            "iteration: 71000 loss: 0.0038 lr: 0.02\n",
            "iteration: 71500 loss: 0.0039 lr: 0.02\n",
            "iteration: 72000 loss: 0.0040 lr: 0.02\n",
            "iteration: 72500 loss: 0.0041 lr: 0.02\n",
            "iteration: 73000 loss: 0.0041 lr: 0.02\n",
            "iteration: 73500 loss: 0.0037 lr: 0.02\n",
            "iteration: 74000 loss: 0.0037 lr: 0.02\n",
            "iteration: 74500 loss: 0.0039 lr: 0.02\n",
            "iteration: 75000 loss: 0.0037 lr: 0.02\n",
            "iteration: 75500 loss: 0.0040 lr: 0.02\n",
            "iteration: 76000 loss: 0.0039 lr: 0.02\n",
            "iteration: 76500 loss: 0.0037 lr: 0.02\n",
            "iteration: 77000 loss: 0.0038 lr: 0.02\n",
            "iteration: 77500 loss: 0.0036 lr: 0.02\n",
            "iteration: 78000 loss: 0.0036 lr: 0.02\n",
            "iteration: 78500 loss: 0.0037 lr: 0.02\n",
            "iteration: 79000 loss: 0.0037 lr: 0.02\n",
            "iteration: 79500 loss: 0.0036 lr: 0.02\n",
            "iteration: 80000 loss: 0.0036 lr: 0.02\n",
            "iteration: 80500 loss: 0.0035 lr: 0.02\n",
            "iteration: 81000 loss: 0.0036 lr: 0.02\n",
            "iteration: 81500 loss: 0.0037 lr: 0.02\n",
            "iteration: 82000 loss: 0.0037 lr: 0.02\n",
            "iteration: 82500 loss: 0.0038 lr: 0.02\n",
            "iteration: 83000 loss: 0.0035 lr: 0.02\n",
            "iteration: 83500 loss: 0.0036 lr: 0.02\n",
            "iteration: 84000 loss: 0.0038 lr: 0.02\n",
            "iteration: 84500 loss: 0.0037 lr: 0.02\n",
            "iteration: 85000 loss: 0.0037 lr: 0.02\n",
            "iteration: 85500 loss: 0.0037 lr: 0.02\n",
            "iteration: 86000 loss: 0.0037 lr: 0.02\n",
            "iteration: 86500 loss: 0.0037 lr: 0.02\n",
            "iteration: 87000 loss: 0.0035 lr: 0.02\n",
            "iteration: 87500 loss: 0.0039 lr: 0.02\n",
            "iteration: 88000 loss: 0.0036 lr: 0.02\n",
            "iteration: 88500 loss: 0.0036 lr: 0.02\n",
            "iteration: 89000 loss: 0.0036 lr: 0.02\n",
            "iteration: 89500 loss: 0.0037 lr: 0.02\n",
            "iteration: 90000 loss: 0.0036 lr: 0.02\n",
            "iteration: 90500 loss: 0.0038 lr: 0.02\n",
            "iteration: 91000 loss: 0.0037 lr: 0.02\n",
            "iteration: 91500 loss: 0.0036 lr: 0.02\n",
            "iteration: 92000 loss: 0.0038 lr: 0.02\n",
            "iteration: 92500 loss: 0.0035 lr: 0.02\n",
            "iteration: 93000 loss: 0.0036 lr: 0.02\n",
            "iteration: 93500 loss: 0.0035 lr: 0.02\n",
            "iteration: 94000 loss: 0.0035 lr: 0.02\n",
            "iteration: 94500 loss: 0.0037 lr: 0.02\n",
            "iteration: 95000 loss: 0.0037 lr: 0.02\n",
            "iteration: 95500 loss: 0.0033 lr: 0.02\n",
            "iteration: 96000 loss: 0.0034 lr: 0.02\n",
            "iteration: 96500 loss: 0.0035 lr: 0.02\n",
            "iteration: 97000 loss: 0.0036 lr: 0.02\n",
            "iteration: 97500 loss: 0.0034 lr: 0.02\n",
            "iteration: 98000 loss: 0.0034 lr: 0.02\n",
            "iteration: 98500 loss: 0.0035 lr: 0.02\n",
            "iteration: 99000 loss: 0.0035 lr: 0.02\n",
            "iteration: 99500 loss: 0.0033 lr: 0.02\n",
            "iteration: 100000 loss: 0.0037 lr: 0.02\n",
            "iteration: 100500 loss: 0.0034 lr: 0.02\n",
            "iteration: 101000 loss: 0.0035 lr: 0.02\n",
            "iteration: 101500 loss: 0.0035 lr: 0.02\n",
            "iteration: 102000 loss: 0.0035 lr: 0.02\n",
            "iteration: 102500 loss: 0.0033 lr: 0.02\n",
            "iteration: 103000 loss: 0.0037 lr: 0.02\n",
            "iteration: 103500 loss: 0.0034 lr: 0.02\n",
            "iteration: 104000 loss: 0.0034 lr: 0.02\n",
            "iteration: 104500 loss: 0.0033 lr: 0.02\n",
            "iteration: 105000 loss: 0.0034 lr: 0.02\n",
            "iteration: 105500 loss: 0.0032 lr: 0.02\n",
            "iteration: 106000 loss: 0.0035 lr: 0.02\n",
            "iteration: 106500 loss: 0.0035 lr: 0.02\n",
            "iteration: 107000 loss: 0.0034 lr: 0.02\n",
            "iteration: 107500 loss: 0.0033 lr: 0.02\n",
            "iteration: 108000 loss: 0.0034 lr: 0.02\n",
            "iteration: 108500 loss: 0.0033 lr: 0.02\n",
            "iteration: 109000 loss: 0.0034 lr: 0.02\n",
            "iteration: 109500 loss: 0.0035 lr: 0.02\n",
            "iteration: 110000 loss: 0.0032 lr: 0.02\n",
            "iteration: 110500 loss: 0.0034 lr: 0.02\n",
            "iteration: 111000 loss: 0.0033 lr: 0.02\n",
            "iteration: 111500 loss: 0.0034 lr: 0.02\n",
            "iteration: 112000 loss: 0.0035 lr: 0.02\n",
            "iteration: 112500 loss: 0.0035 lr: 0.02\n",
            "iteration: 113000 loss: 0.0032 lr: 0.02\n",
            "iteration: 113500 loss: 0.0035 lr: 0.02\n",
            "iteration: 114000 loss: 0.0035 lr: 0.02\n",
            "iteration: 114500 loss: 0.0032 lr: 0.02\n",
            "iteration: 115000 loss: 0.0034 lr: 0.02\n",
            "iteration: 115500 loss: 0.0034 lr: 0.02\n",
            "iteration: 116000 loss: 0.0034 lr: 0.02\n",
            "iteration: 116500 loss: 0.0033 lr: 0.02\n",
            "iteration: 117000 loss: 0.0033 lr: 0.02\n",
            "iteration: 117500 loss: 0.0035 lr: 0.02\n",
            "iteration: 118000 loss: 0.0033 lr: 0.02\n",
            "iteration: 118500 loss: 0.0034 lr: 0.02\n",
            "iteration: 119000 loss: 0.0036 lr: 0.02\n",
            "iteration: 119500 loss: 0.0033 lr: 0.02\n",
            "iteration: 120000 loss: 0.0033 lr: 0.02\n",
            "iteration: 120500 loss: 0.0033 lr: 0.02\n",
            "iteration: 121000 loss: 0.0032 lr: 0.02\n",
            "iteration: 121500 loss: 0.0033 lr: 0.02\n",
            "iteration: 122000 loss: 0.0032 lr: 0.02\n",
            "iteration: 122500 loss: 0.0032 lr: 0.02\n",
            "iteration: 123000 loss: 0.0032 lr: 0.02\n",
            "iteration: 123500 loss: 0.0030 lr: 0.02\n",
            "iteration: 124000 loss: 0.0032 lr: 0.02\n",
            "iteration: 124500 loss: 0.0033 lr: 0.02\n",
            "iteration: 125000 loss: 0.0033 lr: 0.02\n",
            "iteration: 125500 loss: 0.0034 lr: 0.02\n",
            "iteration: 126000 loss: 0.0032 lr: 0.02\n",
            "iteration: 126500 loss: 0.0031 lr: 0.02\n",
            "iteration: 127000 loss: 0.0033 lr: 0.02\n",
            "iteration: 127500 loss: 0.0032 lr: 0.02\n",
            "iteration: 128000 loss: 0.0032 lr: 0.02\n",
            "iteration: 128500 loss: 0.0033 lr: 0.02\n",
            "iteration: 129000 loss: 0.0033 lr: 0.02\n",
            "iteration: 129500 loss: 0.0033 lr: 0.02\n",
            "iteration: 130000 loss: 0.0033 lr: 0.02\n",
            "iteration: 130500 loss: 0.0032 lr: 0.02\n",
            "iteration: 131000 loss: 0.0033 lr: 0.02\n",
            "iteration: 131500 loss: 0.0031 lr: 0.02\n",
            "iteration: 132000 loss: 0.0033 lr: 0.02\n",
            "iteration: 132500 loss: 0.0031 lr: 0.02\n",
            "iteration: 133000 loss: 0.0034 lr: 0.02\n",
            "iteration: 133500 loss: 0.0031 lr: 0.02\n",
            "iteration: 134000 loss: 0.0031 lr: 0.02\n",
            "iteration: 134500 loss: 0.0034 lr: 0.02\n",
            "iteration: 135000 loss: 0.0032 lr: 0.02\n",
            "iteration: 135500 loss: 0.0032 lr: 0.02\n",
            "iteration: 136000 loss: 0.0032 lr: 0.02\n",
            "iteration: 136500 loss: 0.0032 lr: 0.02\n",
            "iteration: 137000 loss: 0.0032 lr: 0.02\n",
            "iteration: 137500 loss: 0.0033 lr: 0.02\n",
            "iteration: 138000 loss: 0.0033 lr: 0.02\n",
            "iteration: 138500 loss: 0.0033 lr: 0.02\n",
            "iteration: 139000 loss: 0.0033 lr: 0.02\n",
            "iteration: 139500 loss: 0.0032 lr: 0.02\n",
            "iteration: 140000 loss: 0.0032 lr: 0.02\n",
            "iteration: 140500 loss: 0.0031 lr: 0.02\n",
            "iteration: 141000 loss: 0.0031 lr: 0.02\n",
            "iteration: 141500 loss: 0.0031 lr: 0.02\n",
            "iteration: 142000 loss: 0.0033 lr: 0.02\n",
            "iteration: 142500 loss: 0.0032 lr: 0.02\n",
            "iteration: 143000 loss: 0.0030 lr: 0.02\n",
            "iteration: 143500 loss: 0.0031 lr: 0.02\n",
            "iteration: 144000 loss: 0.0032 lr: 0.02\n",
            "iteration: 144500 loss: 0.0030 lr: 0.02\n",
            "iteration: 145000 loss: 0.0033 lr: 0.02\n",
            "iteration: 145500 loss: 0.0031 lr: 0.02\n",
            "iteration: 146000 loss: 0.0032 lr: 0.02\n",
            "iteration: 146500 loss: 0.0032 lr: 0.02\n",
            "iteration: 147000 loss: 0.0032 lr: 0.02\n",
            "iteration: 147500 loss: 0.0030 lr: 0.02\n",
            "iteration: 148000 loss: 0.0030 lr: 0.02\n",
            "iteration: 148500 loss: 0.0031 lr: 0.02\n",
            "iteration: 149000 loss: 0.0031 lr: 0.02\n",
            "iteration: 149500 loss: 0.0032 lr: 0.02\n",
            "iteration: 150000 loss: 0.0030 lr: 0.02\n",
            "iteration: 150500 loss: 0.0034 lr: 0.02\n",
            "iteration: 151000 loss: 0.0030 lr: 0.02\n",
            "iteration: 151500 loss: 0.0030 lr: 0.02\n",
            "iteration: 152000 loss: 0.0032 lr: 0.02\n",
            "iteration: 152500 loss: 0.0031 lr: 0.02\n",
            "iteration: 153000 loss: 0.0032 lr: 0.02\n",
            "iteration: 153500 loss: 0.0032 lr: 0.02\n",
            "iteration: 154000 loss: 0.0029 lr: 0.02\n",
            "iteration: 154500 loss: 0.0030 lr: 0.02\n",
            "iteration: 155000 loss: 0.0032 lr: 0.02\n",
            "iteration: 155500 loss: 0.0031 lr: 0.02\n",
            "iteration: 156000 loss: 0.0030 lr: 0.02\n",
            "iteration: 156500 loss: 0.0032 lr: 0.02\n",
            "iteration: 157000 loss: 0.0030 lr: 0.02\n",
            "iteration: 157500 loss: 0.0030 lr: 0.02\n",
            "iteration: 158000 loss: 0.0032 lr: 0.02\n",
            "iteration: 158500 loss: 0.0032 lr: 0.02\n",
            "iteration: 159000 loss: 0.0029 lr: 0.02\n",
            "iteration: 159500 loss: 0.0029 lr: 0.02\n",
            "iteration: 160000 loss: 0.0031 lr: 0.02\n",
            "iteration: 160500 loss: 0.0031 lr: 0.02\n",
            "iteration: 161000 loss: 0.0032 lr: 0.02\n",
            "iteration: 161500 loss: 0.0030 lr: 0.02\n",
            "iteration: 162000 loss: 0.0033 lr: 0.02\n",
            "iteration: 162500 loss: 0.0029 lr: 0.02\n",
            "iteration: 163000 loss: 0.0030 lr: 0.02\n",
            "iteration: 163500 loss: 0.0032 lr: 0.02\n",
            "iteration: 164000 loss: 0.0030 lr: 0.02\n",
            "iteration: 164500 loss: 0.0030 lr: 0.02\n",
            "iteration: 165000 loss: 0.0031 lr: 0.02\n",
            "iteration: 165500 loss: 0.0030 lr: 0.02\n",
            "iteration: 166000 loss: 0.0030 lr: 0.02\n",
            "iteration: 166500 loss: 0.0030 lr: 0.02\n",
            "iteration: 167000 loss: 0.0030 lr: 0.02\n",
            "iteration: 167500 loss: 0.0030 lr: 0.02\n",
            "iteration: 168000 loss: 0.0032 lr: 0.02\n",
            "iteration: 168500 loss: 0.0030 lr: 0.02\n",
            "iteration: 169000 loss: 0.0031 lr: 0.02\n",
            "iteration: 169500 loss: 0.0031 lr: 0.02\n",
            "iteration: 170000 loss: 0.0029 lr: 0.02\n",
            "iteration: 170500 loss: 0.0030 lr: 0.02\n",
            "iteration: 171000 loss: 0.0030 lr: 0.02\n",
            "iteration: 171500 loss: 0.0030 lr: 0.02\n",
            "iteration: 172000 loss: 0.0029 lr: 0.02\n",
            "iteration: 172500 loss: 0.0030 lr: 0.02\n",
            "iteration: 173000 loss: 0.0032 lr: 0.02\n",
            "iteration: 173500 loss: 0.0029 lr: 0.02\n",
            "iteration: 174000 loss: 0.0031 lr: 0.02\n",
            "iteration: 174500 loss: 0.0029 lr: 0.02\n",
            "iteration: 175000 loss: 0.0030 lr: 0.02\n",
            "iteration: 175500 loss: 0.0029 lr: 0.02\n",
            "iteration: 176000 loss: 0.0030 lr: 0.02\n",
            "iteration: 176500 loss: 0.0029 lr: 0.02\n",
            "iteration: 177000 loss: 0.0029 lr: 0.02\n",
            "iteration: 177500 loss: 0.0029 lr: 0.02\n",
            "iteration: 178000 loss: 0.0028 lr: 0.02\n",
            "iteration: 178500 loss: 0.0029 lr: 0.02\n",
            "iteration: 179000 loss: 0.0028 lr: 0.02\n",
            "iteration: 179500 loss: 0.0031 lr: 0.02\n",
            "iteration: 180000 loss: 0.0030 lr: 0.02\n",
            "iteration: 180500 loss: 0.0030 lr: 0.02\n",
            "iteration: 181000 loss: 0.0029 lr: 0.02\n",
            "iteration: 181500 loss: 0.0029 lr: 0.02\n",
            "iteration: 182000 loss: 0.0030 lr: 0.02\n",
            "iteration: 182500 loss: 0.0028 lr: 0.02\n",
            "iteration: 183000 loss: 0.0029 lr: 0.02\n",
            "iteration: 183500 loss: 0.0031 lr: 0.02\n",
            "iteration: 184000 loss: 0.0031 lr: 0.02\n",
            "iteration: 184500 loss: 0.0030 lr: 0.02\n",
            "iteration: 185000 loss: 0.0030 lr: 0.02\n",
            "iteration: 185500 loss: 0.0028 lr: 0.02\n",
            "iteration: 186000 loss: 0.0030 lr: 0.02\n",
            "iteration: 186500 loss: 0.0030 lr: 0.02\n",
            "iteration: 187000 loss: 0.0029 lr: 0.02\n",
            "iteration: 187500 loss: 0.0030 lr: 0.02\n",
            "iteration: 188000 loss: 0.0030 lr: 0.02\n",
            "iteration: 188500 loss: 0.0030 lr: 0.02\n",
            "iteration: 189000 loss: 0.0031 lr: 0.02\n",
            "iteration: 189500 loss: 0.0031 lr: 0.02\n",
            "iteration: 190000 loss: 0.0030 lr: 0.02\n",
            "iteration: 190500 loss: 0.0028 lr: 0.02\n",
            "iteration: 191000 loss: 0.0029 lr: 0.02\n",
            "iteration: 191500 loss: 0.0029 lr: 0.02\n",
            "iteration: 192000 loss: 0.0029 lr: 0.02\n",
            "iteration: 192500 loss: 0.0028 lr: 0.02\n",
            "iteration: 193000 loss: 0.0028 lr: 0.02\n",
            "iteration: 193500 loss: 0.0029 lr: 0.02\n",
            "iteration: 194000 loss: 0.0029 lr: 0.02\n",
            "iteration: 194500 loss: 0.0028 lr: 0.02\n",
            "iteration: 195000 loss: 0.0029 lr: 0.02\n",
            "iteration: 195500 loss: 0.0030 lr: 0.02\n",
            "iteration: 196000 loss: 0.0028 lr: 0.02\n",
            "iteration: 196500 loss: 0.0028 lr: 0.02\n",
            "iteration: 197000 loss: 0.0029 lr: 0.02\n",
            "iteration: 197500 loss: 0.0029 lr: 0.02\n",
            "iteration: 198000 loss: 0.0029 lr: 0.02\n",
            "iteration: 198500 loss: 0.0028 lr: 0.02\n",
            "iteration: 199000 loss: 0.0030 lr: 0.02\n",
            "iteration: 199500 loss: 0.0030 lr: 0.02\n",
            "iteration: 200000 loss: 0.0029 lr: 0.02\n",
            "iteration: 200500 loss: 0.0029 lr: 0.02\n",
            "iteration: 201000 loss: 0.0029 lr: 0.02\n",
            "iteration: 201500 loss: 0.0031 lr: 0.02\n",
            "iteration: 202000 loss: 0.0030 lr: 0.02\n",
            "iteration: 202500 loss: 0.0029 lr: 0.02\n",
            "iteration: 203000 loss: 0.0030 lr: 0.02\n",
            "iteration: 203500 loss: 0.0029 lr: 0.02\n",
            "iteration: 204000 loss: 0.0029 lr: 0.02\n",
            "iteration: 204500 loss: 0.0030 lr: 0.02\n",
            "iteration: 205000 loss: 0.0030 lr: 0.02\n",
            "iteration: 205500 loss: 0.0028 lr: 0.02\n",
            "iteration: 206000 loss: 0.0029 lr: 0.02\n",
            "iteration: 206500 loss: 0.0032 lr: 0.02\n",
            "iteration: 207000 loss: 0.0028 lr: 0.02\n",
            "iteration: 207500 loss: 0.0027 lr: 0.02\n",
            "iteration: 208000 loss: 0.0029 lr: 0.02\n",
            "iteration: 208500 loss: 0.0027 lr: 0.02\n",
            "iteration: 209000 loss: 0.0030 lr: 0.02\n",
            "iteration: 209500 loss: 0.0029 lr: 0.02\n",
            "iteration: 210000 loss: 0.0028 lr: 0.02\n",
            "iteration: 210500 loss: 0.0027 lr: 0.02\n",
            "iteration: 211000 loss: 0.0029 lr: 0.02\n",
            "iteration: 211500 loss: 0.0029 lr: 0.02\n",
            "iteration: 212000 loss: 0.0028 lr: 0.02\n",
            "iteration: 212500 loss: 0.0029 lr: 0.02\n",
            "iteration: 213000 loss: 0.0030 lr: 0.02\n",
            "iteration: 213500 loss: 0.0028 lr: 0.02\n",
            "iteration: 214000 loss: 0.0029 lr: 0.02\n",
            "iteration: 214500 loss: 0.0027 lr: 0.02\n",
            "iteration: 215000 loss: 0.0029 lr: 0.02\n",
            "iteration: 215500 loss: 0.0029 lr: 0.02\n",
            "iteration: 216000 loss: 0.0027 lr: 0.02\n",
            "iteration: 216500 loss: 0.0028 lr: 0.02\n",
            "iteration: 217000 loss: 0.0029 lr: 0.02\n",
            "iteration: 217500 loss: 0.0028 lr: 0.02\n",
            "iteration: 218000 loss: 0.0028 lr: 0.02\n",
            "iteration: 218500 loss: 0.0029 lr: 0.02\n",
            "iteration: 219000 loss: 0.0028 lr: 0.02\n",
            "iteration: 219500 loss: 0.0029 lr: 0.02\n",
            "iteration: 220000 loss: 0.0028 lr: 0.02\n",
            "iteration: 220500 loss: 0.0028 lr: 0.02\n",
            "iteration: 221000 loss: 0.0027 lr: 0.02\n",
            "iteration: 221500 loss: 0.0027 lr: 0.02\n",
            "iteration: 222000 loss: 0.0028 lr: 0.02\n",
            "iteration: 222500 loss: 0.0029 lr: 0.02\n",
            "iteration: 223000 loss: 0.0027 lr: 0.02\n",
            "iteration: 223500 loss: 0.0026 lr: 0.02\n",
            "iteration: 224000 loss: 0.0027 lr: 0.02\n",
            "iteration: 224500 loss: 0.0028 lr: 0.02\n",
            "iteration: 225000 loss: 0.0028 lr: 0.02\n",
            "iteration: 225500 loss: 0.0028 lr: 0.02\n",
            "iteration: 226000 loss: 0.0029 lr: 0.02\n",
            "iteration: 226500 loss: 0.0027 lr: 0.02\n",
            "iteration: 227000 loss: 0.0027 lr: 0.02\n",
            "iteration: 227500 loss: 0.0029 lr: 0.02\n",
            "iteration: 228000 loss: 0.0027 lr: 0.02\n",
            "iteration: 228500 loss: 0.0028 lr: 0.02\n",
            "iteration: 229000 loss: 0.0027 lr: 0.02\n",
            "iteration: 229500 loss: 0.0026 lr: 0.02\n",
            "iteration: 230000 loss: 0.0027 lr: 0.02\n",
            "iteration: 230500 loss: 0.0028 lr: 0.02\n",
            "iteration: 231000 loss: 0.0028 lr: 0.02\n",
            "iteration: 231500 loss: 0.0027 lr: 0.02\n",
            "iteration: 232000 loss: 0.0026 lr: 0.02\n",
            "iteration: 232500 loss: 0.0026 lr: 0.02\n",
            "iteration: 233000 loss: 0.0028 lr: 0.02\n",
            "iteration: 233500 loss: 0.0027 lr: 0.02\n",
            "iteration: 234000 loss: 0.0027 lr: 0.02\n",
            "iteration: 234500 loss: 0.0029 lr: 0.02\n",
            "iteration: 235000 loss: 0.0028 lr: 0.02\n",
            "iteration: 235500 loss: 0.0030 lr: 0.02\n",
            "iteration: 236000 loss: 0.0028 lr: 0.02\n",
            "iteration: 236500 loss: 0.0027 lr: 0.02\n",
            "iteration: 237000 loss: 0.0031 lr: 0.02\n",
            "iteration: 237500 loss: 0.0028 lr: 0.02\n",
            "iteration: 238000 loss: 0.0028 lr: 0.02\n",
            "iteration: 238500 loss: 0.0027 lr: 0.02\n",
            "iteration: 239000 loss: 0.0027 lr: 0.02\n",
            "iteration: 239500 loss: 0.0029 lr: 0.02\n",
            "iteration: 240000 loss: 0.0029 lr: 0.02\n",
            "iteration: 240500 loss: 0.0026 lr: 0.02\n",
            "iteration: 241000 loss: 0.0027 lr: 0.02\n",
            "iteration: 241500 loss: 0.0026 lr: 0.02\n",
            "iteration: 242000 loss: 0.0028 lr: 0.02\n",
            "iteration: 242500 loss: 0.0028 lr: 0.02\n",
            "iteration: 243000 loss: 0.0027 lr: 0.02\n",
            "iteration: 243500 loss: 0.0027 lr: 0.02\n",
            "iteration: 244000 loss: 0.0028 lr: 0.02\n",
            "iteration: 244500 loss: 0.0027 lr: 0.02\n",
            "iteration: 245000 loss: 0.0028 lr: 0.02\n",
            "iteration: 245500 loss: 0.0027 lr: 0.02\n",
            "iteration: 246000 loss: 0.0027 lr: 0.02\n",
            "iteration: 246500 loss: 0.0028 lr: 0.02\n",
            "iteration: 247000 loss: 0.0028 lr: 0.02\n",
            "iteration: 247500 loss: 0.0028 lr: 0.02\n",
            "iteration: 248000 loss: 0.0027 lr: 0.02\n",
            "iteration: 248500 loss: 0.0027 lr: 0.02\n",
            "iteration: 249000 loss: 0.0026 lr: 0.02\n",
            "iteration: 249500 loss: 0.0027 lr: 0.02\n",
            "iteration: 250000 loss: 0.0026 lr: 0.02\n",
            "iteration: 250500 loss: 0.0025 lr: 0.02\n",
            "iteration: 251000 loss: 0.0030 lr: 0.02\n",
            "iteration: 251500 loss: 0.0028 lr: 0.02\n",
            "iteration: 252000 loss: 0.0027 lr: 0.02\n",
            "iteration: 252500 loss: 0.0029 lr: 0.02\n",
            "iteration: 253000 loss: 0.0028 lr: 0.02\n",
            "iteration: 253500 loss: 0.0027 lr: 0.02\n",
            "iteration: 254000 loss: 0.0027 lr: 0.02\n",
            "iteration: 254500 loss: 0.0027 lr: 0.02\n",
            "iteration: 255000 loss: 0.0026 lr: 0.02\n",
            "iteration: 255500 loss: 0.0027 lr: 0.02\n",
            "iteration: 256000 loss: 0.0026 lr: 0.02\n",
            "iteration: 256500 loss: 0.0026 lr: 0.02\n",
            "iteration: 257000 loss: 0.0028 lr: 0.02\n",
            "iteration: 257500 loss: 0.0028 lr: 0.02\n",
            "iteration: 258000 loss: 0.0028 lr: 0.02\n",
            "iteration: 258500 loss: 0.0028 lr: 0.02\n",
            "iteration: 259000 loss: 0.0026 lr: 0.02\n",
            "iteration: 259500 loss: 0.0028 lr: 0.02\n",
            "iteration: 260000 loss: 0.0027 lr: 0.02\n",
            "iteration: 260500 loss: 0.0028 lr: 0.02\n",
            "iteration: 261000 loss: 0.0027 lr: 0.02\n",
            "iteration: 261500 loss: 0.0028 lr: 0.02\n",
            "iteration: 262000 loss: 0.0029 lr: 0.02\n",
            "iteration: 262500 loss: 0.0027 lr: 0.02\n",
            "iteration: 263000 loss: 0.0027 lr: 0.02\n",
            "iteration: 263500 loss: 0.0030 lr: 0.02\n",
            "iteration: 264000 loss: 0.0030 lr: 0.02\n",
            "iteration: 264500 loss: 0.0027 lr: 0.02\n",
            "iteration: 265000 loss: 0.0026 lr: 0.02\n",
            "iteration: 265500 loss: 0.0027 lr: 0.02\n",
            "iteration: 266000 loss: 0.0027 lr: 0.02\n",
            "iteration: 266500 loss: 0.0029 lr: 0.02\n",
            "iteration: 267000 loss: 0.0026 lr: 0.02\n",
            "iteration: 267500 loss: 0.0027 lr: 0.02\n",
            "iteration: 268000 loss: 0.0027 lr: 0.02\n",
            "iteration: 268500 loss: 0.0028 lr: 0.02\n",
            "iteration: 269000 loss: 0.0027 lr: 0.02\n",
            "iteration: 269500 loss: 0.0028 lr: 0.02\n",
            "iteration: 270000 loss: 0.0025 lr: 0.02\n",
            "iteration: 270500 loss: 0.0026 lr: 0.02\n",
            "iteration: 271000 loss: 0.0026 lr: 0.02\n",
            "iteration: 271500 loss: 0.0025 lr: 0.02\n",
            "iteration: 272000 loss: 0.0026 lr: 0.02\n",
            "iteration: 272500 loss: 0.0028 lr: 0.02\n",
            "iteration: 273000 loss: 0.0027 lr: 0.02\n",
            "iteration: 273500 loss: 0.0025 lr: 0.02\n",
            "iteration: 274000 loss: 0.0027 lr: 0.02\n",
            "iteration: 274500 loss: 0.0026 lr: 0.02\n",
            "iteration: 275000 loss: 0.0026 lr: 0.02\n",
            "iteration: 275500 loss: 0.0028 lr: 0.02\n",
            "iteration: 276000 loss: 0.0026 lr: 0.02\n",
            "iteration: 276500 loss: 0.0025 lr: 0.02\n",
            "iteration: 277000 loss: 0.0026 lr: 0.02\n",
            "iteration: 277500 loss: 0.0027 lr: 0.02\n",
            "iteration: 278000 loss: 0.0026 lr: 0.02\n",
            "iteration: 278500 loss: 0.0026 lr: 0.02\n",
            "iteration: 279000 loss: 0.0029 lr: 0.02\n",
            "iteration: 279500 loss: 0.0026 lr: 0.02\n",
            "iteration: 280000 loss: 0.0028 lr: 0.02\n",
            "iteration: 280500 loss: 0.0026 lr: 0.02\n",
            "iteration: 281000 loss: 0.0027 lr: 0.02\n",
            "iteration: 281500 loss: 0.0025 lr: 0.02\n",
            "iteration: 282000 loss: 0.0028 lr: 0.02\n",
            "iteration: 282500 loss: 0.0028 lr: 0.02\n",
            "iteration: 283000 loss: 0.0028 lr: 0.02\n",
            "iteration: 283500 loss: 0.0025 lr: 0.02\n",
            "iteration: 284000 loss: 0.0027 lr: 0.02\n",
            "iteration: 284500 loss: 0.0026 lr: 0.02\n",
            "iteration: 285000 loss: 0.0026 lr: 0.02\n",
            "iteration: 285500 loss: 0.0025 lr: 0.02\n",
            "iteration: 286000 loss: 0.0026 lr: 0.02\n",
            "iteration: 286500 loss: 0.0027 lr: 0.02\n",
            "iteration: 287000 loss: 0.0029 lr: 0.02\n",
            "iteration: 287500 loss: 0.0028 lr: 0.02\n",
            "iteration: 288000 loss: 0.0027 lr: 0.02\n",
            "iteration: 288500 loss: 0.0026 lr: 0.02\n",
            "iteration: 289000 loss: 0.0027 lr: 0.02\n",
            "iteration: 289500 loss: 0.0025 lr: 0.02\n",
            "iteration: 290000 loss: 0.0026 lr: 0.02\n",
            "iteration: 290500 loss: 0.0029 lr: 0.02\n",
            "iteration: 291000 loss: 0.0027 lr: 0.02\n",
            "iteration: 291500 loss: 0.0027 lr: 0.02\n",
            "iteration: 292000 loss: 0.0025 lr: 0.02\n",
            "iteration: 292500 loss: 0.0026 lr: 0.02\n",
            "iteration: 293000 loss: 0.0026 lr: 0.02\n",
            "iteration: 293500 loss: 0.0027 lr: 0.02\n",
            "iteration: 294000 loss: 0.0027 lr: 0.02\n",
            "iteration: 294500 loss: 0.0028 lr: 0.02\n",
            "iteration: 295000 loss: 0.0026 lr: 0.02\n",
            "iteration: 295500 loss: 0.0026 lr: 0.02\n",
            "iteration: 296000 loss: 0.0024 lr: 0.02\n",
            "iteration: 296500 loss: 0.0026 lr: 0.02\n",
            "iteration: 297000 loss: 0.0026 lr: 0.02\n",
            "iteration: 297500 loss: 0.0026 lr: 0.02\n",
            "iteration: 298000 loss: 0.0028 lr: 0.02\n",
            "iteration: 298500 loss: 0.0024 lr: 0.02\n",
            "iteration: 299000 loss: 0.0026 lr: 0.02\n",
            "iteration: 299500 loss: 0.0026 lr: 0.02\n",
            "iteration: 300000 loss: 0.0027 lr: 0.02\n"
          ]
        },
        {
          "output_type": "stream",
          "name": "stdout",
          "text": [
            "The network is now trained and ready to evaluate. Use the function 'evaluate_network' to evaluate the network.\n"
          ]
        },
        {
          "output_type": "stream",
          "name": "stderr",
          "text": [
            "Exception in thread Thread-13:\n",
            "Traceback (most recent call last):\n",
            "  File \"/usr/local/lib/python3.7/dist-packages/tensorflow/python/client/session.py\", line 1377, in _do_call\n",
            "    return fn(*args)\n",
            "  File \"/usr/local/lib/python3.7/dist-packages/tensorflow/python/client/session.py\", line 1361, in _run_fn\n",
            "    target_list, run_metadata)\n",
            "  File \"/usr/local/lib/python3.7/dist-packages/tensorflow/python/client/session.py\", line 1455, in _call_tf_sessionrun\n",
            "    run_metadata)\n",
            "tensorflow.python.framework.errors_impl.CancelledError: Enqueue operation was cancelled\n",
            "\t [[{{node fifo_queue_enqueue}}]]\n",
            "\n",
            "During handling of the above exception, another exception occurred:\n",
            "\n",
            "Traceback (most recent call last):\n",
            "  File \"/usr/lib/python3.7/threading.py\", line 926, in _bootstrap_inner\n",
            "    self.run()\n",
            "  File \"/usr/lib/python3.7/threading.py\", line 870, in run\n",
            "    self._target(*self._args, **self._kwargs)\n",
            "  File \"/usr/local/lib/python3.7/dist-packages/deeplabcut/pose_estimation_tensorflow/core/train.py\", line 83, in load_and_enqueue\n",
            "    sess.run(enqueue_op, feed_dict=food)\n",
            "  File \"/usr/local/lib/python3.7/dist-packages/tensorflow/python/client/session.py\", line 968, in run\n",
            "    run_metadata_ptr)\n",
            "  File \"/usr/local/lib/python3.7/dist-packages/tensorflow/python/client/session.py\", line 1191, in _run\n",
            "    feed_dict_tensor, options, run_metadata)\n",
            "  File \"/usr/local/lib/python3.7/dist-packages/tensorflow/python/client/session.py\", line 1371, in _do_run\n",
            "    run_metadata)\n",
            "  File \"/usr/local/lib/python3.7/dist-packages/tensorflow/python/client/session.py\", line 1396, in _do_call\n",
            "    raise type(e)(node_def, op, message)  # pylint: disable=no-value-for-parameter\n",
            "tensorflow.python.framework.errors_impl.CancelledError: Graph execution error:\n",
            "\n",
            "Detected at node 'fifo_queue_enqueue' defined at (most recent call last):\n",
            "    File \"/usr/lib/python3.7/runpy.py\", line 193, in _run_module_as_main\n",
            "      \"__main__\", mod_spec)\n",
            "    File \"/usr/lib/python3.7/runpy.py\", line 85, in _run_code\n",
            "      exec(code, run_globals)\n",
            "    File \"/usr/local/lib/python3.7/dist-packages/ipykernel_launcher.py\", line 16, in <module>\n",
            "      app.launch_new_instance()\n",
            "    File \"/usr/local/lib/python3.7/dist-packages/traitlets/config/application.py\", line 846, in launch_instance\n",
            "      app.start()\n",
            "    File \"/usr/local/lib/python3.7/dist-packages/ipykernel/kernelapp.py\", line 499, in start\n",
            "      self.io_loop.start()\n",
            "    File \"/usr/local/lib/python3.7/dist-packages/tornado/platform/asyncio.py\", line 132, in start\n",
            "      self.asyncio_loop.run_forever()\n",
            "    File \"/usr/lib/python3.7/asyncio/base_events.py\", line 541, in run_forever\n",
            "      self._run_once()\n",
            "    File \"/usr/lib/python3.7/asyncio/base_events.py\", line 1786, in _run_once\n",
            "      handle._run()\n",
            "    File \"/usr/lib/python3.7/asyncio/events.py\", line 88, in _run\n",
            "      self._context.run(self._callback, *self._args)\n",
            "    File \"/usr/local/lib/python3.7/dist-packages/tornado/platform/asyncio.py\", line 122, in _handle_events\n",
            "      handler_func(fileobj, events)\n",
            "    File \"/usr/local/lib/python3.7/dist-packages/tornado/stack_context.py\", line 300, in null_wrapper\n",
            "      return fn(*args, **kwargs)\n",
            "    File \"/usr/local/lib/python3.7/dist-packages/zmq/eventloop/zmqstream.py\", line 577, in _handle_events\n",
            "      self._handle_recv()\n",
            "    File \"/usr/local/lib/python3.7/dist-packages/zmq/eventloop/zmqstream.py\", line 606, in _handle_recv\n",
            "      self._run_callback(callback, msg)\n",
            "    File \"/usr/local/lib/python3.7/dist-packages/zmq/eventloop/zmqstream.py\", line 556, in _run_callback\n",
            "      callback(*args, **kwargs)\n",
            "    File \"/usr/local/lib/python3.7/dist-packages/tornado/stack_context.py\", line 300, in null_wrapper\n",
            "      return fn(*args, **kwargs)\n",
            "    File \"/usr/local/lib/python3.7/dist-packages/ipykernel/kernelbase.py\", line 283, in dispatcher\n",
            "      return self.dispatch_shell(stream, msg)\n",
            "    File \"/usr/local/lib/python3.7/dist-packages/ipykernel/kernelbase.py\", line 233, in dispatch_shell\n",
            "      handler(stream, idents, msg)\n",
            "    File \"/usr/local/lib/python3.7/dist-packages/ipykernel/kernelbase.py\", line 399, in execute_request\n",
            "      user_expressions, allow_stdin)\n",
            "    File \"/usr/local/lib/python3.7/dist-packages/ipykernel/ipkernel.py\", line 208, in do_execute\n",
            "      res = shell.run_cell(code, store_history=store_history, silent=silent)\n",
            "    File \"/usr/local/lib/python3.7/dist-packages/ipykernel/zmqshell.py\", line 537, in run_cell\n",
            "      return super(ZMQInteractiveShell, self).run_cell(*args, **kwargs)\n",
            "    File \"/usr/local/lib/python3.7/dist-packages/IPython/core/interactiveshell.py\", line 2718, in run_cell\n",
            "      interactivity=interactivity, compiler=compiler, result=result)\n",
            "    File \"/usr/local/lib/python3.7/dist-packages/IPython/core/interactiveshell.py\", line 2828, in run_ast_nodes\n",
            "      if self.run_code(code, result):\n",
            "    File \"/usr/local/lib/python3.7/dist-packages/IPython/core/interactiveshell.py\", line 2882, in run_code\n",
            "      exec(code_obj, self.user_global_ns, self.user_ns)\n",
            "    File \"<ipython-input-12-d71aa03f12f5>\", line 5, in <module>\n",
            "      deeplabcut.train_network(path_config_file, shuffle=SHUF, displayiters=500,saveiters=1000,maxiters=300000)\n",
            "    File \"/usr/local/lib/python3.7/dist-packages/deeplabcut/pose_estimation_tensorflow/training.py\", line 214, in train_network\n",
            "      allow_growth=allow_growth,\n",
            "    File \"/usr/local/lib/python3.7/dist-packages/deeplabcut/pose_estimation_tensorflow/core/train.py\", line 168, in train\n",
            "      batch, enqueue_op, placeholders = setup_preloading(batch_spec)\n",
            "    File \"/usr/local/lib/python3.7/dist-packages/deeplabcut/pose_estimation_tensorflow/core/train.py\", line 69, in setup_preloading\n",
            "      enqueue_op = q.enqueue(placeholders_list)\n",
            "Node: 'fifo_queue_enqueue'\n",
            "Enqueue operation was cancelled\n",
            "\t [[{{node fifo_queue_enqueue}}]]\n",
            "\n",
            "Original stack trace for 'fifo_queue_enqueue':\n",
            "  File \"/usr/lib/python3.7/runpy.py\", line 193, in _run_module_as_main\n",
            "    \"__main__\", mod_spec)\n",
            "  File \"/usr/lib/python3.7/runpy.py\", line 85, in _run_code\n",
            "    exec(code, run_globals)\n",
            "  File \"/usr/local/lib/python3.7/dist-packages/ipykernel_launcher.py\", line 16, in <module>\n",
            "    app.launch_new_instance()\n",
            "  File \"/usr/local/lib/python3.7/dist-packages/traitlets/config/application.py\", line 846, in launch_instance\n",
            "    app.start()\n",
            "  File \"/usr/local/lib/python3.7/dist-packages/ipykernel/kernelapp.py\", line 499, in start\n",
            "    self.io_loop.start()\n",
            "  File \"/usr/local/lib/python3.7/dist-packages/tornado/platform/asyncio.py\", line 132, in start\n",
            "    self.asyncio_loop.run_forever()\n",
            "  File \"/usr/lib/python3.7/asyncio/base_events.py\", line 541, in run_forever\n",
            "    self._run_once()\n",
            "  File \"/usr/lib/python3.7/asyncio/base_events.py\", line 1786, in _run_once\n",
            "    handle._run()\n",
            "  File \"/usr/lib/python3.7/asyncio/events.py\", line 88, in _run\n",
            "    self._context.run(self._callback, *self._args)\n",
            "  File \"/usr/local/lib/python3.7/dist-packages/tornado/platform/asyncio.py\", line 122, in _handle_events\n",
            "    handler_func(fileobj, events)\n",
            "  File \"/usr/local/lib/python3.7/dist-packages/tornado/stack_context.py\", line 300, in null_wrapper\n",
            "    return fn(*args, **kwargs)\n",
            "  File \"/usr/local/lib/python3.7/dist-packages/zmq/eventloop/zmqstream.py\", line 577, in _handle_events\n",
            "    self._handle_recv()\n",
            "  File \"/usr/local/lib/python3.7/dist-packages/zmq/eventloop/zmqstream.py\", line 606, in _handle_recv\n",
            "    self._run_callback(callback, msg)\n",
            "  File \"/usr/local/lib/python3.7/dist-packages/zmq/eventloop/zmqstream.py\", line 556, in _run_callback\n",
            "    callback(*args, **kwargs)\n",
            "  File \"/usr/local/lib/python3.7/dist-packages/tornado/stack_context.py\", line 300, in null_wrapper\n",
            "    return fn(*args, **kwargs)\n",
            "  File \"/usr/local/lib/python3.7/dist-packages/ipykernel/kernelbase.py\", line 283, in dispatcher\n",
            "    return self.dispatch_shell(stream, msg)\n",
            "  File \"/usr/local/lib/python3.7/dist-packages/ipykernel/kernelbase.py\", line 233, in dispatch_shell\n",
            "    handler(stream, idents, msg)\n",
            "  File \"/usr/local/lib/python3.7/dist-packages/ipykernel/kernelbase.py\", line 399, in execute_request\n",
            "    user_expressions, allow_stdin)\n",
            "  File \"/usr/local/lib/python3.7/dist-packages/ipykernel/ipkernel.py\", line 208, in do_execute\n",
            "    res = shell.run_cell(code, store_history=store_history, silent=silent)\n",
            "  File \"/usr/local/lib/python3.7/dist-packages/ipykernel/zmqshell.py\", line 537, in run_cell\n",
            "    return super(ZMQInteractiveShell, self).run_cell(*args, **kwargs)\n",
            "  File \"/usr/local/lib/python3.7/dist-packages/IPython/core/interactiveshell.py\", line 2718, in run_cell\n",
            "    interactivity=interactivity, compiler=compiler, result=result)\n",
            "  File \"/usr/local/lib/python3.7/dist-packages/IPython/core/interactiveshell.py\", line 2828, in run_ast_nodes\n",
            "    if self.run_code(code, result):\n",
            "  File \"/usr/local/lib/python3.7/dist-packages/IPython/core/interactiveshell.py\", line 2882, in run_code\n",
            "    exec(code_obj, self.user_global_ns, self.user_ns)\n",
            "  File \"<ipython-input-12-d71aa03f12f5>\", line 5, in <module>\n",
            "    deeplabcut.train_network(path_config_file, shuffle=SHUF, displayiters=500,saveiters=1000,maxiters=300000)\n",
            "  File \"/usr/local/lib/python3.7/dist-packages/deeplabcut/pose_estimation_tensorflow/training.py\", line 214, in train_network\n",
            "    allow_growth=allow_growth,\n",
            "  File \"/usr/local/lib/python3.7/dist-packages/deeplabcut/pose_estimation_tensorflow/core/train.py\", line 168, in train\n",
            "    batch, enqueue_op, placeholders = setup_preloading(batch_spec)\n",
            "  File \"/usr/local/lib/python3.7/dist-packages/deeplabcut/pose_estimation_tensorflow/core/train.py\", line 69, in setup_preloading\n",
            "    enqueue_op = q.enqueue(placeholders_list)\n",
            "  File \"/usr/local/lib/python3.7/dist-packages/tensorflow/python/ops/data_flow_ops.py\", line 348, in enqueue\n",
            "    self._queue_ref, vals, name=scope)\n",
            "  File \"/usr/local/lib/python3.7/dist-packages/tensorflow/python/ops/gen_data_flow_ops.py\", line 4065, in queue_enqueue_v2\n",
            "    timeout_ms=timeout_ms, name=name)\n",
            "  File \"/usr/local/lib/python3.7/dist-packages/tensorflow/python/framework/op_def_library.py\", line 742, in _apply_op_helper\n",
            "    attrs=attr_protos, op_def=op_def)\n",
            "  File \"/usr/local/lib/python3.7/dist-packages/tensorflow/python/framework/ops.py\", line 3784, in _create_op_internal\n",
            "    op_def=op_def)\n",
            "  File \"/usr/local/lib/python3.7/dist-packages/tensorflow/python/framework/ops.py\", line 2175, in __init__\n",
            "    self._traceback = tf_stack.extract_stack_for_node(self._c_op)\n",
            "\n",
            "\n"
          ]
        }
      ]
    },
    {
      "cell_type": "markdown",
      "metadata": {
        "id": "RiDwIVf5-3H_"
      },
      "source": [
        "**When you hit \"STOP\" you will get a KeyInterrupt \"error\"! No worries! :)**"
      ]
    },
    {
      "cell_type": "markdown",
      "metadata": {
        "id": "xZygsb2DoEJc"
      },
      "source": [
        "## Start evaluating:\n",
        "This funtion evaluates a trained model for a specific shuffle/shuffles at a particular state or all the states on the data set (images)\n",
        "and stores the results as .csv file in a subdirectory under **evaluation-results**"
      ]
    },
    {
      "cell_type": "code",
      "metadata": {
        "id": "nv4zlbrnoEJg",
        "colab": {
          "base_uri": "https://localhost:8080/",
          "height": 381
        },
        "outputId": "ab92cebb-1dab-4ce0-9c6f-5be7419807ef"
      },
      "source": [
        "#bodypartstocompare = ['FrontRight1','FrontRight2','FrontLeft1','FrontLeft2','HindRight1','HindRight2','HindLeft1','HindLeft2']\n",
        "#print(bodypartstocompare)\n",
        "\n",
        "deeplabcut.evaluate_network(path_config_file,Shuffles=[SHUF], plotting=False)#,comparisonbodyparts = bodypartstocompare)\n",
        "\n",
        "# Here you want to see a low pixel error! Of course, it can only be as good as the labeler, \n",
        "#so be sure your labels are good! (And you have trained enough ;). \n",
        "# Also note that the test is typically on only a few images, so also good to look\n",
        "# at video performance (below)."
      ],
      "execution_count": null,
      "outputs": [
        {
          "output_type": "error",
          "ename": "KeyboardInterrupt",
          "evalue": "ignored",
          "traceback": [
            "\u001b[0;31m---------------------------------------------------------------------------\u001b[0m",
            "\u001b[0;31mKeyboardInterrupt\u001b[0m                         Traceback (most recent call last)",
            "\u001b[0;32m<ipython-input-9-bbb2f7e5651f>\u001b[0m in \u001b[0;36m<module>\u001b[0;34m()\u001b[0m\n\u001b[1;32m      2\u001b[0m \u001b[0;31m#print(bodypartstocompare)\u001b[0m\u001b[0;34m\u001b[0m\u001b[0;34m\u001b[0m\u001b[0;34m\u001b[0m\u001b[0m\n\u001b[1;32m      3\u001b[0m \u001b[0;34m\u001b[0m\u001b[0m\n\u001b[0;32m----> 4\u001b[0;31m \u001b[0mdeeplabcut\u001b[0m\u001b[0;34m.\u001b[0m\u001b[0mevaluate_network\u001b[0m\u001b[0;34m(\u001b[0m\u001b[0mpath_config_file\u001b[0m\u001b[0;34m,\u001b[0m\u001b[0mShuffles\u001b[0m\u001b[0;34m=\u001b[0m\u001b[0;34m[\u001b[0m\u001b[0mSHUF\u001b[0m\u001b[0;34m]\u001b[0m\u001b[0;34m,\u001b[0m \u001b[0mplotting\u001b[0m\u001b[0;34m=\u001b[0m\u001b[0;32mFalse\u001b[0m\u001b[0;34m)\u001b[0m\u001b[0;31m#,comparisonbodyparts = bodypartstocompare)\u001b[0m\u001b[0;34m\u001b[0m\u001b[0;34m\u001b[0m\u001b[0m\n\u001b[0m\u001b[1;32m      5\u001b[0m \u001b[0;34m\u001b[0m\u001b[0m\n\u001b[1;32m      6\u001b[0m \u001b[0;31m# Here you want to see a low pixel error! Of course, it can only be as good as the labeler,\u001b[0m\u001b[0;34m\u001b[0m\u001b[0;34m\u001b[0m\u001b[0;34m\u001b[0m\u001b[0m\n",
            "\u001b[0;32m/usr/local/lib/python3.7/dist-packages/deeplabcut/pose_estimation_tensorflow/core/evaluate.py\u001b[0m in \u001b[0;36mevaluate_network\u001b[0;34m(config, Shuffles, trainingsetindex, plotting, show_errors, comparisonbodyparts, gputouse, rescale, modelprefix)\u001b[0m\n\u001b[1;32m    693\u001b[0m                     \u001b[0mtrainFraction\u001b[0m\u001b[0;34m,\u001b[0m\u001b[0;34m\u001b[0m\u001b[0;34m\u001b[0m\u001b[0m\n\u001b[1;32m    694\u001b[0m                 \u001b[0;34m)\u001b[0m \u001b[0;34m=\u001b[0m \u001b[0mauxiliaryfunctions\u001b[0m\u001b[0;34m.\u001b[0m\u001b[0mLoadMetadata\u001b[0m\u001b[0;34m(\u001b[0m\u001b[0;34m\u001b[0m\u001b[0;34m\u001b[0m\u001b[0m\n\u001b[0;32m--> 695\u001b[0;31m                     \u001b[0mos\u001b[0m\u001b[0;34m.\u001b[0m\u001b[0mpath\u001b[0m\u001b[0;34m.\u001b[0m\u001b[0mjoin\u001b[0m\u001b[0;34m(\u001b[0m\u001b[0mcfg\u001b[0m\u001b[0;34m[\u001b[0m\u001b[0;34m\"project_path\"\u001b[0m\u001b[0;34m]\u001b[0m\u001b[0;34m,\u001b[0m \u001b[0mmetadatafn\u001b[0m\u001b[0;34m)\u001b[0m\u001b[0;34m\u001b[0m\u001b[0;34m\u001b[0m\u001b[0m\n\u001b[0m\u001b[1;32m    696\u001b[0m                 )\n\u001b[1;32m    697\u001b[0m \u001b[0;34m\u001b[0m\u001b[0m\n",
            "\u001b[0;32m/usr/local/lib/python3.7/dist-packages/deeplabcut/utils/auxiliaryfunctions.py\u001b[0m in \u001b[0;36mLoadMetadata\u001b[0;34m(metadatafile)\u001b[0m\n\u001b[1;32m    403\u001b[0m             \u001b[0mtestIndices\u001b[0m\u001b[0;34m,\u001b[0m\u001b[0;34m\u001b[0m\u001b[0;34m\u001b[0m\u001b[0m\n\u001b[1;32m    404\u001b[0m             \u001b[0mtestFraction_data\u001b[0m\u001b[0;34m,\u001b[0m\u001b[0;34m\u001b[0m\u001b[0;34m\u001b[0m\u001b[0m\n\u001b[0;32m--> 405\u001b[0;31m         ] = pickle.load(f)\n\u001b[0m\u001b[1;32m    406\u001b[0m         \u001b[0;32mreturn\u001b[0m \u001b[0mtrainingdata_details\u001b[0m\u001b[0;34m,\u001b[0m \u001b[0mtrainIndices\u001b[0m\u001b[0;34m,\u001b[0m \u001b[0mtestIndices\u001b[0m\u001b[0;34m,\u001b[0m \u001b[0mtestFraction_data\u001b[0m\u001b[0;34m\u001b[0m\u001b[0;34m\u001b[0m\u001b[0m\n\u001b[1;32m    407\u001b[0m \u001b[0;34m\u001b[0m\u001b[0m\n",
            "\u001b[0;32m/usr/local/lib/python3.7/dist-packages/ruamel/yaml/scalarfloat.py\u001b[0m in \u001b[0;36m__new__\u001b[0;34m(cls, *args, **kw)\u001b[0m\n\u001b[1;32m     11\u001b[0m \u001b[0;34m\u001b[0m\u001b[0m\n\u001b[1;32m     12\u001b[0m \u001b[0;32mclass\u001b[0m \u001b[0mScalarFloat\u001b[0m\u001b[0;34m(\u001b[0m\u001b[0mfloat\u001b[0m\u001b[0;34m)\u001b[0m\u001b[0;34m:\u001b[0m\u001b[0;34m\u001b[0m\u001b[0;34m\u001b[0m\u001b[0m\n\u001b[0;32m---> 13\u001b[0;31m     \u001b[0;32mdef\u001b[0m \u001b[0m__new__\u001b[0m\u001b[0;34m(\u001b[0m\u001b[0mcls\u001b[0m\u001b[0;34m,\u001b[0m \u001b[0;34m*\u001b[0m\u001b[0margs\u001b[0m\u001b[0;34m,\u001b[0m \u001b[0;34m**\u001b[0m\u001b[0mkw\u001b[0m\u001b[0;34m)\u001b[0m\u001b[0;34m:\u001b[0m\u001b[0;34m\u001b[0m\u001b[0;34m\u001b[0m\u001b[0m\n\u001b[0m\u001b[1;32m     14\u001b[0m         \u001b[0;31m# type: (Any, Any, Any) -> Any\u001b[0m\u001b[0;34m\u001b[0m\u001b[0;34m\u001b[0m\u001b[0;34m\u001b[0m\u001b[0m\n\u001b[1;32m     15\u001b[0m         \u001b[0mwidth\u001b[0m \u001b[0;34m=\u001b[0m \u001b[0mkw\u001b[0m\u001b[0;34m.\u001b[0m\u001b[0mpop\u001b[0m\u001b[0;34m(\u001b[0m\u001b[0;34m'width'\u001b[0m\u001b[0;34m,\u001b[0m \u001b[0;32mNone\u001b[0m\u001b[0;34m)\u001b[0m\u001b[0;34m\u001b[0m\u001b[0;34m\u001b[0m\u001b[0m\n",
            "\u001b[0;31mKeyboardInterrupt\u001b[0m: "
          ]
        }
      ]
    },
    {
      "cell_type": "code",
      "source": [
        "deeplabcut.evaluate_network?"
      ],
      "metadata": {
        "id": "wyMWaQnL8c5W"
      },
      "execution_count": null,
      "outputs": []
    },
    {
      "cell_type": "markdown",
      "metadata": {
        "id": "BaLBl3TQtrfB"
      },
      "source": [
        "## There is an optional refinement step you can do outside of Colab:\n",
        "- if your pixel errors are not low enough, please check out the protocol guide on how to refine your network!\n",
        "- You will need to adjust the labels **outside of Colab!** We recommend coming back to train and analyze videos... \n",
        "- pplease see the repo and protocol instructions on how to refine your data!"
      ]
    },
    {
      "cell_type": "markdown",
      "metadata": {
        "id": "OVFLSKKfoEJk"
      },
      "source": [
        "## Start Analyzing videos: \n",
        "This function analyzes the new video. The user can choose the best model from the evaluation results and specify the correct snapshot index for the variable **snapshotindex** in the **config.yaml** file. Otherwise, by default the most recent snapshot is used to analyse the video.\n",
        "\n",
        "The results are stored in hd5 file in the same directory where the video resides. "
      ]
    },
    {
      "cell_type": "code",
      "metadata": {
        "id": "Y_LZiS_0oEJl",
        "colab": {
          "base_uri": "https://localhost:8080/",
          "height": 1000
        },
        "outputId": "36192efe-3701-4156-d82d-3ec3c213c209"
      },
      "source": [
        "deeplabcut.analyze_videos(path_config_file, videofile_path, videotype=VideoType, shuffle=SHUF)"
      ],
      "execution_count": null,
      "outputs": [
        {
          "output_type": "stream",
          "name": "stdout",
          "text": [
            "Using snapshot-300000 for model /content/drive/My Drive/TF2Projects/beam-DS-2022-07-26/dlc-models/iteration-0/beamJul26-trainset95shuffle1\n"
          ]
        },
        {
          "output_type": "stream",
          "name": "stderr",
          "text": [
            "/usr/local/lib/python3.7/dist-packages/tensorflow/python/keras/engine/base_layer_v1.py:1694: UserWarning: `layer.apply` is deprecated and will be removed in a future version. Please use `layer.__call__` method instead.\n",
            "  warnings.warn('`layer.apply` is deprecated and '\n",
            "/usr/local/lib/python3.7/dist-packages/tf_slim/layers/layers.py:684: UserWarning: `layer.apply` is deprecated and will be removed in a future version. Please use `layer.__call__` method instead.\n",
            "  outputs = layer.apply(inputs, training=is_training)\n"
          ]
        },
        {
          "output_type": "stream",
          "name": "stdout",
          "text": [
            "Analyzing all the videos in the directory...\n",
            "Starting to analyze %  /content/drive/My Drive/TF2Projects/beam-DS-2022-07-26/videos/220721_2474_W2.MOV\n",
            "Loading  /content/drive/My Drive/TF2Projects/beam-DS-2022-07-26/videos/220721_2474_W2.MOV\n",
            "Duration of video [s]:  12.07 , recorded with  30.0 fps!\n",
            "Overall # of frames:  362  found with (before cropping) frame dimensions:  1396 262\n",
            "Starting to extract posture\n"
          ]
        },
        {
          "output_type": "stream",
          "name": "stderr",
          "text": [
            " 99%|█████████▉| 360/362 [00:24<00:00, 14.75it/s]\n"
          ]
        },
        {
          "output_type": "stream",
          "name": "stdout",
          "text": [
            "Saving results in /content/drive/My Drive/TF2Projects/beam-DS-2022-07-26/videos...\n",
            "Starting to analyze %  /content/drive/My Drive/TF2Projects/beam-DS-2022-07-26/videos/Copy of 220718-2525-W2.MOV\n",
            "Loading  /content/drive/My Drive/TF2Projects/beam-DS-2022-07-26/videos/Copy of 220718-2525-W2.MOV\n",
            "Duration of video [s]:  11.72 , recorded with  30.02 fps!\n",
            "Overall # of frames:  352  found with (before cropping) frame dimensions:  1576 272\n",
            "Starting to extract posture\n"
          ]
        },
        {
          "output_type": "stream",
          "name": "stderr",
          "text": [
            " 99%|█████████▉| 350/352 [00:16<00:00, 21.44it/s]\n"
          ]
        },
        {
          "output_type": "stream",
          "name": "stdout",
          "text": [
            "Saving results in /content/drive/My Drive/TF2Projects/beam-DS-2022-07-26/videos...\n",
            "Starting to analyze %  /content/drive/My Drive/TF2Projects/beam-DS-2022-07-26/videos/220721_2472_N3.MOV\n",
            "Loading  /content/drive/My Drive/TF2Projects/beam-DS-2022-07-26/videos/220721_2472_N3.MOV\n",
            "Duration of video [s]:  8.6 , recorded with  30.01 fps!\n",
            "Overall # of frames:  258  found with (before cropping) frame dimensions:  1284 222\n",
            "Starting to extract posture\n"
          ]
        },
        {
          "output_type": "stream",
          "name": "stderr",
          "text": [
            " 97%|█████████▋| 250/258 [00:08<00:00, 30.30it/s]\n"
          ]
        },
        {
          "output_type": "stream",
          "name": "stdout",
          "text": [
            "Saving results in /content/drive/My Drive/TF2Projects/beam-DS-2022-07-26/videos...\n",
            "Starting to analyze %  /content/drive/My Drive/TF2Projects/beam-DS-2022-07-26/videos/220721_2473_W3.MOV\n",
            "Loading  /content/drive/My Drive/TF2Projects/beam-DS-2022-07-26/videos/220721_2473_W3.MOV\n",
            "Duration of video [s]:  9.74 , recorded with  30.07 fps!\n",
            "Overall # of frames:  293  found with (before cropping) frame dimensions:  1390 240\n",
            "Starting to extract posture\n"
          ]
        },
        {
          "output_type": "stream",
          "name": "stderr",
          "text": [
            " 99%|█████████▉| 290/293 [00:10<00:00, 26.94it/s]\n"
          ]
        },
        {
          "output_type": "stream",
          "name": "stdout",
          "text": [
            "Saving results in /content/drive/My Drive/TF2Projects/beam-DS-2022-07-26/videos...\n",
            "Starting to analyze %  /content/drive/My Drive/TF2Projects/beam-DS-2022-07-26/videos/220721_2489_W1.MOV\n",
            "Loading  /content/drive/My Drive/TF2Projects/beam-DS-2022-07-26/videos/220721_2489_W1.MOV\n",
            "Duration of video [s]:  11.99 , recorded with  30.03 fps!\n",
            "Overall # of frames:  360  found with (before cropping) frame dimensions:  1394 240\n",
            "Starting to extract posture\n"
          ]
        },
        {
          "output_type": "stream",
          "name": "stderr",
          "text": [
            "100%|██████████| 360/360 [00:12<00:00, 28.55it/s]\n"
          ]
        },
        {
          "output_type": "stream",
          "name": "stdout",
          "text": [
            "Saving results in /content/drive/My Drive/TF2Projects/beam-DS-2022-07-26/videos...\n",
            "Starting to analyze %  /content/drive/My Drive/TF2Projects/beam-DS-2022-07-26/videos/Copy of 220718-2528-W3.MOV\n",
            "Loading  /content/drive/My Drive/TF2Projects/beam-DS-2022-07-26/videos/Copy of 220718-2528-W3.MOV\n",
            "Duration of video [s]:  23.33 , recorded with  30.0 fps!\n",
            "Overall # of frames:  700  found with (before cropping) frame dimensions:  1918 332\n",
            "Starting to extract posture\n"
          ]
        },
        {
          "output_type": "stream",
          "name": "stderr",
          "text": [
            "100%|██████████| 700/700 [00:41<00:00, 16.97it/s]\n"
          ]
        },
        {
          "output_type": "stream",
          "name": "stdout",
          "text": [
            "Saving results in /content/drive/My Drive/TF2Projects/beam-DS-2022-07-26/videos...\n",
            "Starting to analyze %  /content/drive/My Drive/TF2Projects/beam-DS-2022-07-26/videos/Copy of 220715-2505-N3.MOV\n",
            "Loading  /content/drive/My Drive/TF2Projects/beam-DS-2022-07-26/videos/Copy of 220715-2505-N3.MOV\n",
            "Duration of video [s]:  74.8 , recorded with  30.0 fps!\n",
            "Overall # of frames:  2244  found with (before cropping) frame dimensions:  1654 302\n",
            "Starting to extract posture\n"
          ]
        },
        {
          "output_type": "stream",
          "name": "stderr",
          "text": [
            "100%|██████████| 2244/2244 [01:37<00:00, 22.92it/s]\n"
          ]
        },
        {
          "output_type": "stream",
          "name": "stdout",
          "text": [
            "Saving results in /content/drive/My Drive/TF2Projects/beam-DS-2022-07-26/videos...\n",
            "Starting to analyze %  /content/drive/My Drive/TF2Projects/beam-DS-2022-07-26/videos/220721_2473_W2.MOV\n",
            "Loading  /content/drive/My Drive/TF2Projects/beam-DS-2022-07-26/videos/220721_2473_W2.MOV\n",
            "Duration of video [s]:  8.63 , recorded with  30.01 fps!\n",
            "Overall # of frames:  259  found with (before cropping) frame dimensions:  1370 236\n",
            "Starting to extract posture\n"
          ]
        },
        {
          "output_type": "stream",
          "name": "stderr",
          "text": [
            " 97%|█████████▋| 250/259 [00:09<00:00, 27.66it/s]\n"
          ]
        },
        {
          "output_type": "stream",
          "name": "stdout",
          "text": [
            "Saving results in /content/drive/My Drive/TF2Projects/beam-DS-2022-07-26/videos...\n",
            "Starting to analyze %  /content/drive/My Drive/TF2Projects/beam-DS-2022-07-26/videos/220721_2489_N2.MOV\n",
            "Loading  /content/drive/My Drive/TF2Projects/beam-DS-2022-07-26/videos/220721_2489_N2.MOV\n",
            "Duration of video [s]:  39.4 , recorded with  30.02 fps!\n",
            "Overall # of frames:  1183  found with (before cropping) frame dimensions:  1310 226\n",
            "Starting to extract posture\n"
          ]
        },
        {
          "output_type": "stream",
          "name": "stderr",
          "text": [
            " 99%|█████████▉| 1177/1183 [00:33<00:00, 35.40it/s]\n"
          ]
        },
        {
          "output_type": "stream",
          "name": "stdout",
          "text": [
            "Saving results in /content/drive/My Drive/TF2Projects/beam-DS-2022-07-26/videos...\n",
            "Starting to analyze %  /content/drive/My Drive/TF2Projects/beam-DS-2022-07-26/videos/Copy of 220718-2526-W3.MOV\n",
            "Loading  /content/drive/My Drive/TF2Projects/beam-DS-2022-07-26/videos/Copy of 220718-2526-W3.MOV\n",
            "Duration of video [s]:  14.8 , recorded with  30.0 fps!\n",
            "Overall # of frames:  444  found with (before cropping) frame dimensions:  1908 328\n",
            "Starting to extract posture\n"
          ]
        },
        {
          "output_type": "stream",
          "name": "stderr",
          "text": [
            " 99%|█████████▉| 440/444 [00:25<00:00, 17.56it/s]\n"
          ]
        },
        {
          "output_type": "stream",
          "name": "stdout",
          "text": [
            "Saving results in /content/drive/My Drive/TF2Projects/beam-DS-2022-07-26/videos...\n",
            "Starting to analyze %  /content/drive/My Drive/TF2Projects/beam-DS-2022-07-26/videos/220721_2471_W2.MOV\n",
            "Loading  /content/drive/My Drive/TF2Projects/beam-DS-2022-07-26/videos/220721_2471_W2.MOV\n",
            "Duration of video [s]:  13.94 , recorded with  30.06 fps!\n",
            "Overall # of frames:  419  found with (before cropping) frame dimensions:  1402 242\n",
            "Starting to extract posture\n"
          ]
        },
        {
          "output_type": "stream",
          "name": "stderr",
          "text": [
            " 98%|█████████▊| 410/419 [00:14<00:00, 27.90it/s]\n"
          ]
        },
        {
          "output_type": "stream",
          "name": "stdout",
          "text": [
            "Saving results in /content/drive/My Drive/TF2Projects/beam-DS-2022-07-26/videos...\n",
            "Starting to analyze %  /content/drive/My Drive/TF2Projects/beam-DS-2022-07-26/videos/Copy of 220715-2547-W1.MOV\n",
            "Loading  /content/drive/My Drive/TF2Projects/beam-DS-2022-07-26/videos/Copy of 220715-2547-W1.MOV\n",
            "Duration of video [s]:  16.05 , recorded with  30.04 fps!\n",
            "Overall # of frames:  482  found with (before cropping) frame dimensions:  1400 282\n",
            "Starting to extract posture\n"
          ]
        },
        {
          "output_type": "stream",
          "name": "stderr",
          "text": [
            "100%|█████████▉| 480/482 [00:18<00:00, 26.04it/s]\n"
          ]
        },
        {
          "output_type": "stream",
          "name": "stdout",
          "text": [
            "Saving results in /content/drive/My Drive/TF2Projects/beam-DS-2022-07-26/videos...\n",
            "Starting to analyze %  /content/drive/My Drive/TF2Projects/beam-DS-2022-07-26/videos/Copy of 220715-2538-W2.MOV\n",
            "Loading  /content/drive/My Drive/TF2Projects/beam-DS-2022-07-26/videos/Copy of 220715-2538-W2.MOV\n",
            "Duration of video [s]:  21.3 , recorded with  30.0 fps!\n",
            "Overall # of frames:  639  found with (before cropping) frame dimensions:  1476 292\n",
            "Starting to extract posture\n"
          ]
        },
        {
          "output_type": "stream",
          "name": "stderr",
          "text": [
            " 99%|█████████▊| 630/639 [00:26<00:00, 23.77it/s]\n"
          ]
        },
        {
          "output_type": "stream",
          "name": "stdout",
          "text": [
            "Saving results in /content/drive/My Drive/TF2Projects/beam-DS-2022-07-26/videos...\n",
            "Starting to analyze %  /content/drive/My Drive/TF2Projects/beam-DS-2022-07-26/videos/Copy of 220715-2503-W3.MOV\n",
            "Loading  /content/drive/My Drive/TF2Projects/beam-DS-2022-07-26/videos/Copy of 220715-2503-W3.MOV\n",
            "Duration of video [s]:  29.77 , recorded with  30.0 fps!\n",
            "Overall # of frames:  893  found with (before cropping) frame dimensions:  1366 288\n",
            "Starting to extract posture\n"
          ]
        },
        {
          "output_type": "stream",
          "name": "stderr",
          "text": [
            "100%|█████████▉| 890/893 [00:32<00:00, 27.57it/s]\n"
          ]
        },
        {
          "output_type": "stream",
          "name": "stdout",
          "text": [
            "Saving results in /content/drive/My Drive/TF2Projects/beam-DS-2022-07-26/videos...\n",
            "Starting to analyze %  /content/drive/My Drive/TF2Projects/beam-DS-2022-07-26/videos/220721_2472_W1.MOV\n",
            "Loading  /content/drive/My Drive/TF2Projects/beam-DS-2022-07-26/videos/220721_2472_W1.MOV\n",
            "Duration of video [s]:  6.11 , recorded with  30.11 fps!\n",
            "Overall # of frames:  184  found with (before cropping) frame dimensions:  1408 246\n",
            "Starting to extract posture\n"
          ]
        },
        {
          "output_type": "stream",
          "name": "stderr",
          "text": [
            " 98%|█████████▊| 180/184 [00:05<00:00, 31.11it/s]\n"
          ]
        },
        {
          "output_type": "stream",
          "name": "stdout",
          "text": [
            "Saving results in /content/drive/My Drive/TF2Projects/beam-DS-2022-07-26/videos...\n",
            "Starting to analyze %  /content/drive/My Drive/TF2Projects/beam-DS-2022-07-26/videos/Copy of 220718-2530-W2.MOV\n",
            "Loading  /content/drive/My Drive/TF2Projects/beam-DS-2022-07-26/videos/Copy of 220718-2530-W2.MOV\n",
            "Duration of video [s]:  11.6 , recorded with  30.0 fps!\n",
            "Overall # of frames:  348  found with (before cropping) frame dimensions:  1912 330\n",
            "Starting to extract posture\n"
          ]
        },
        {
          "output_type": "stream",
          "name": "stderr",
          "text": [
            " 98%|█████████▊| 340/348 [00:20<00:00, 16.97it/s]\n"
          ]
        },
        {
          "output_type": "stream",
          "name": "stdout",
          "text": [
            "Saving results in /content/drive/My Drive/TF2Projects/beam-DS-2022-07-26/videos...\n",
            "Starting to analyze %  /content/drive/My Drive/TF2Projects/beam-DS-2022-07-26/videos/Copy of 220718-2530-W1.MOV\n",
            "Loading  /content/drive/My Drive/TF2Projects/beam-DS-2022-07-26/videos/Copy of 220718-2530-W1.MOV\n",
            "Duration of video [s]:  14.26 , recorded with  30.01 fps!\n",
            "Overall # of frames:  428  found with (before cropping) frame dimensions:  1918 332\n",
            "Starting to extract posture\n"
          ]
        },
        {
          "output_type": "stream",
          "name": "stderr",
          "text": [
            " 98%|█████████▊| 420/428 [00:23<00:00, 18.09it/s]\n"
          ]
        },
        {
          "output_type": "stream",
          "name": "stdout",
          "text": [
            "Saving results in /content/drive/My Drive/TF2Projects/beam-DS-2022-07-26/videos...\n",
            "Starting to analyze %  /content/drive/My Drive/TF2Projects/beam-DS-2022-07-26/videos/Copy of 220715-2545-W1.MOV\n",
            "Loading  /content/drive/My Drive/TF2Projects/beam-DS-2022-07-26/videos/Copy of 220715-2545-W1.MOV\n",
            "Duration of video [s]:  44.65 , recorded with  30.01 fps!\n",
            "Overall # of frames:  1340  found with (before cropping) frame dimensions:  1326 274\n",
            "Starting to extract posture\n"
          ]
        },
        {
          "output_type": "stream",
          "name": "stderr",
          "text": [
            "100%|█████████▉| 1339/1340 [00:46<00:00, 28.88it/s]\n"
          ]
        },
        {
          "output_type": "stream",
          "name": "stdout",
          "text": [
            "Saving results in /content/drive/My Drive/TF2Projects/beam-DS-2022-07-26/videos...\n",
            "Starting to analyze %  /content/drive/My Drive/TF2Projects/beam-DS-2022-07-26/videos/Copy of 220715-2503-N2.MOV\n",
            "Loading  /content/drive/My Drive/TF2Projects/beam-DS-2022-07-26/videos/Copy of 220715-2503-N2.MOV\n",
            "Duration of video [s]:  28.43 , recorded with  30.03 fps!\n",
            "Overall # of frames:  854  found with (before cropping) frame dimensions:  1630 282\n",
            "Starting to extract posture\n"
          ]
        },
        {
          "output_type": "stream",
          "name": "stderr",
          "text": [
            "100%|█████████▉| 850/854 [00:35<00:00, 23.75it/s]\n"
          ]
        },
        {
          "output_type": "stream",
          "name": "stdout",
          "text": [
            "Saving results in /content/drive/My Drive/TF2Projects/beam-DS-2022-07-26/videos...\n",
            "Starting to analyze %  /content/drive/My Drive/TF2Projects/beam-DS-2022-07-26/videos/220721_2474_W1.MOV\n",
            "Loading  /content/drive/My Drive/TF2Projects/beam-DS-2022-07-26/videos/220721_2474_W1.MOV\n",
            "Duration of video [s]:  17.83 , recorded with  30.0 fps!\n",
            "Overall # of frames:  535  found with (before cropping) frame dimensions:  1376 238\n",
            "Starting to extract posture\n"
          ]
        },
        {
          "output_type": "stream",
          "name": "stderr",
          "text": [
            " 99%|█████████▉| 530/535 [00:15<00:00, 34.06it/s]\n"
          ]
        },
        {
          "output_type": "stream",
          "name": "stdout",
          "text": [
            "Saving results in /content/drive/My Drive/TF2Projects/beam-DS-2022-07-26/videos...\n",
            "Starting to analyze %  /content/drive/My Drive/TF2Projects/beam-DS-2022-07-26/videos/Copy of 220715-2539-W2.MOV\n",
            "Loading  /content/drive/My Drive/TF2Projects/beam-DS-2022-07-26/videos/Copy of 220715-2539-W2.MOV\n",
            "Duration of video [s]:  22.93 , recorded with  30.01 fps!\n",
            "Overall # of frames:  688  found with (before cropping) frame dimensions:  1532 306\n",
            "Starting to extract posture\n"
          ]
        },
        {
          "output_type": "stream",
          "name": "stderr",
          "text": [
            " 99%|█████████▉| 680/688 [00:29<00:00, 22.79it/s]\n"
          ]
        },
        {
          "output_type": "stream",
          "name": "stdout",
          "text": [
            "Saving results in /content/drive/My Drive/TF2Projects/beam-DS-2022-07-26/videos...\n",
            "Starting to analyze %  /content/drive/My Drive/TF2Projects/beam-DS-2022-07-26/videos/Copy of 220715-2503-N1.MOV\n",
            "Loading  /content/drive/My Drive/TF2Projects/beam-DS-2022-07-26/videos/Copy of 220715-2503-N1.MOV\n",
            "Duration of video [s]:  40.41 , recorded with  30.02 fps!\n",
            "Overall # of frames:  1213  found with (before cropping) frame dimensions:  1596 276\n",
            "Starting to extract posture\n"
          ]
        },
        {
          "output_type": "stream",
          "name": "stderr",
          "text": [
            "100%|█████████▉| 1212/1213 [00:48<00:00, 24.95it/s]\n"
          ]
        },
        {
          "output_type": "stream",
          "name": "stdout",
          "text": [
            "Saving results in /content/drive/My Drive/TF2Projects/beam-DS-2022-07-26/videos...\n",
            "Starting to analyze %  /content/drive/My Drive/TF2Projects/beam-DS-2022-07-26/videos/220721_2471_W1.MOV\n",
            "Loading  /content/drive/My Drive/TF2Projects/beam-DS-2022-07-26/videos/220721_2471_W1.MOV\n",
            "Duration of video [s]:  10.54 , recorded with  30.08 fps!\n",
            "Overall # of frames:  317  found with (before cropping) frame dimensions:  1444 250\n",
            "Starting to extract posture\n"
          ]
        },
        {
          "output_type": "stream",
          "name": "stderr",
          "text": [
            " 98%|█████████▊| 310/317 [00:11<00:00, 26.59it/s]\n"
          ]
        },
        {
          "output_type": "stream",
          "name": "stdout",
          "text": [
            "Saving results in /content/drive/My Drive/TF2Projects/beam-DS-2022-07-26/videos...\n",
            "Starting to analyze %  /content/drive/My Drive/TF2Projects/beam-DS-2022-07-26/videos/220721_2489_W3.MOV\n",
            "Loading  /content/drive/My Drive/TF2Projects/beam-DS-2022-07-26/videos/220721_2489_W3.MOV\n",
            "Duration of video [s]:  25.89 , recorded with  30.02 fps!\n",
            "Overall # of frames:  777  found with (before cropping) frame dimensions:  1408 244\n",
            "Starting to extract posture\n"
          ]
        },
        {
          "output_type": "stream",
          "name": "stderr",
          "text": [
            " 99%|█████████▉| 770/777 [00:23<00:00, 32.69it/s]\n"
          ]
        },
        {
          "output_type": "stream",
          "name": "stdout",
          "text": [
            "Saving results in /content/drive/My Drive/TF2Projects/beam-DS-2022-07-26/videos...\n",
            "Starting to analyze %  /content/drive/My Drive/TF2Projects/beam-DS-2022-07-26/videos/Copy of 220715-2545-W3.MOV\n",
            "Loading  /content/drive/My Drive/TF2Projects/beam-DS-2022-07-26/videos/Copy of 220715-2545-W3.MOV\n",
            "Duration of video [s]:  14.66 , recorded with  30.01 fps!\n",
            "Overall # of frames:  440  found with (before cropping) frame dimensions:  1270 244\n",
            "Starting to extract posture\n"
          ]
        },
        {
          "output_type": "stream",
          "name": "stderr",
          "text": [
            "100%|██████████| 440/440 [00:12<00:00, 33.94it/s]\n"
          ]
        },
        {
          "output_type": "stream",
          "name": "stdout",
          "text": [
            "Saving results in /content/drive/My Drive/TF2Projects/beam-DS-2022-07-26/videos...\n",
            "Starting to analyze %  /content/drive/My Drive/TF2Projects/beam-DS-2022-07-26/videos/220721_2489_N3.MOV\n",
            "Loading  /content/drive/My Drive/TF2Projects/beam-DS-2022-07-26/videos/220721_2489_N3.MOV\n",
            "Duration of video [s]:  11.91 , recorded with  30.06 fps!\n",
            "Overall # of frames:  358  found with (before cropping) frame dimensions:  1304 226\n",
            "Starting to extract posture\n"
          ]
        },
        {
          "output_type": "stream",
          "name": "stderr",
          "text": [
            " 98%|█████████▊| 350/358 [00:10<00:00, 34.55it/s]\n"
          ]
        },
        {
          "output_type": "stream",
          "name": "stdout",
          "text": [
            "Saving results in /content/drive/My Drive/TF2Projects/beam-DS-2022-07-26/videos...\n",
            "Starting to analyze %  /content/drive/My Drive/TF2Projects/beam-DS-2022-07-26/videos/Copy of 220715-2539-W3.MOV\n",
            "Loading  /content/drive/My Drive/TF2Projects/beam-DS-2022-07-26/videos/Copy of 220715-2539-W3.MOV\n",
            "Duration of video [s]:  10.84 , recorded with  30.08 fps!\n",
            "Overall # of frames:  326  found with (before cropping) frame dimensions:  1504 304\n",
            "Starting to extract posture\n"
          ]
        },
        {
          "output_type": "stream",
          "name": "stderr",
          "text": [
            " 98%|█████████▊| 320/326 [00:14<00:00, 21.37it/s]\n"
          ]
        },
        {
          "output_type": "stream",
          "name": "stdout",
          "text": [
            "Saving results in /content/drive/My Drive/TF2Projects/beam-DS-2022-07-26/videos...\n",
            "Starting to analyze %  /content/drive/My Drive/TF2Projects/beam-DS-2022-07-26/videos/Copy of 220718-2528-N1.MOV\n",
            "Loading  /content/drive/My Drive/TF2Projects/beam-DS-2022-07-26/videos/Copy of 220718-2528-N1.MOV\n",
            "Duration of video [s]:  20.44 , recorded with  30.04 fps!\n",
            "Overall # of frames:  614  found with (before cropping) frame dimensions:  1626 280\n",
            "Starting to extract posture\n"
          ]
        },
        {
          "output_type": "stream",
          "name": "stderr",
          "text": [
            " 99%|█████████▉| 610/614 [00:25<00:00, 23.79it/s]\n"
          ]
        },
        {
          "output_type": "stream",
          "name": "stdout",
          "text": [
            "Saving results in /content/drive/My Drive/TF2Projects/beam-DS-2022-07-26/videos...\n",
            "Starting to analyze %  /content/drive/My Drive/TF2Projects/beam-DS-2022-07-26/videos/Copy of 220718-2523-N3.MOV\n",
            "Loading  /content/drive/My Drive/TF2Projects/beam-DS-2022-07-26/videos/Copy of 220718-2523-N3.MOV\n",
            "Duration of video [s]:  25.25 , recorded with  30.02 fps!\n",
            "Overall # of frames:  758  found with (before cropping) frame dimensions:  1904 328\n",
            "Starting to extract posture\n"
          ]
        },
        {
          "output_type": "stream",
          "name": "stderr",
          "text": [
            " 99%|█████████▉| 750/758 [00:43<00:00, 17.38it/s]\n"
          ]
        },
        {
          "output_type": "stream",
          "name": "stdout",
          "text": [
            "Saving results in /content/drive/My Drive/TF2Projects/beam-DS-2022-07-26/videos...\n",
            "Starting to analyze %  /content/drive/My Drive/TF2Projects/beam-DS-2022-07-26/videos/220721_2474_W3.MOV\n",
            "Loading  /content/drive/My Drive/TF2Projects/beam-DS-2022-07-26/videos/220721_2474_W3.MOV\n",
            "Duration of video [s]:  11.42 , recorded with  30.02 fps!\n",
            "Overall # of frames:  343  found with (before cropping) frame dimensions:  1382 240\n",
            "Starting to extract posture\n"
          ]
        },
        {
          "output_type": "stream",
          "name": "stderr",
          "text": [
            " 99%|█████████▉| 340/343 [00:10<00:00, 33.11it/s]\n"
          ]
        },
        {
          "output_type": "stream",
          "name": "stdout",
          "text": [
            "Saving results in /content/drive/My Drive/TF2Projects/beam-DS-2022-07-26/videos...\n",
            "Starting to analyze %  /content/drive/My Drive/TF2Projects/beam-DS-2022-07-26/videos/220721_2471_N1.MOV\n",
            "Loading  /content/drive/My Drive/TF2Projects/beam-DS-2022-07-26/videos/220721_2471_N1.MOV\n",
            "Duration of video [s]:  15.27 , recorded with  30.0 fps!\n",
            "Overall # of frames:  458  found with (before cropping) frame dimensions:  1278 220\n",
            "Starting to extract posture\n"
          ]
        },
        {
          "output_type": "stream",
          "name": "stderr",
          "text": [
            " 98%|█████████▊| 450/458 [00:11<00:00, 37.79it/s]\n"
          ]
        },
        {
          "output_type": "stream",
          "name": "stdout",
          "text": [
            "Saving results in /content/drive/My Drive/TF2Projects/beam-DS-2022-07-26/videos...\n",
            "Starting to analyze %  /content/drive/My Drive/TF2Projects/beam-DS-2022-07-26/videos/220721_2472_N1.MOV\n",
            "Loading  /content/drive/My Drive/TF2Projects/beam-DS-2022-07-26/videos/220721_2472_N1.MOV\n",
            "Duration of video [s]:  15.23 , recorded with  30.01 fps!\n",
            "Overall # of frames:  457  found with (before cropping) frame dimensions:  1302 224\n",
            "Starting to extract posture\n"
          ]
        },
        {
          "output_type": "stream",
          "name": "stderr",
          "text": [
            " 98%|█████████▊| 450/457 [00:12<00:00, 35.16it/s]\n"
          ]
        },
        {
          "output_type": "stream",
          "name": "stdout",
          "text": [
            "Saving results in /content/drive/My Drive/TF2Projects/beam-DS-2022-07-26/videos...\n",
            "Starting to analyze %  /content/drive/My Drive/TF2Projects/beam-DS-2022-07-26/videos/Copy of 220715-2538-W3.MOV\n",
            "Loading  /content/drive/My Drive/TF2Projects/beam-DS-2022-07-26/videos/Copy of 220715-2538-W3.MOV\n",
            "Duration of video [s]:  33.14 , recorded with  30.02 fps!\n",
            "Overall # of frames:  995  found with (before cropping) frame dimensions:  1520 302\n",
            "Starting to extract posture\n"
          ]
        },
        {
          "output_type": "stream",
          "name": "stderr",
          "text": [
            " 99%|█████████▉| 990/995 [00:42<00:00, 23.57it/s]\n"
          ]
        },
        {
          "output_type": "stream",
          "name": "stdout",
          "text": [
            "Saving results in /content/drive/My Drive/TF2Projects/beam-DS-2022-07-26/videos...\n",
            "Starting to analyze %  /content/drive/My Drive/TF2Projects/beam-DS-2022-07-26/videos/Copy of 220718-2528-W1.MOV\n",
            "Loading  /content/drive/My Drive/TF2Projects/beam-DS-2022-07-26/videos/Copy of 220718-2528-W1.MOV\n",
            "Duration of video [s]:  15.07 , recorded with  30.0 fps!\n",
            "Overall # of frames:  452  found with (before cropping) frame dimensions:  1812 314\n",
            "Starting to extract posture\n"
          ]
        },
        {
          "output_type": "stream",
          "name": "stderr",
          "text": [
            "100%|█████████▉| 450/452 [00:24<00:00, 18.05it/s]\n"
          ]
        },
        {
          "output_type": "stream",
          "name": "stdout",
          "text": [
            "Saving results in /content/drive/My Drive/TF2Projects/beam-DS-2022-07-26/videos...\n",
            "Starting to analyze %  /content/drive/My Drive/TF2Projects/beam-DS-2022-07-26/videos/Copy of 220718-2528-N2.MOV\n",
            "Loading  /content/drive/My Drive/TF2Projects/beam-DS-2022-07-26/videos/Copy of 220718-2528-N2.MOV\n",
            "Duration of video [s]:  17.57 , recorded with  30.0 fps!\n",
            "Overall # of frames:  527  found with (before cropping) frame dimensions:  1676 290\n",
            "Starting to extract posture\n"
          ]
        },
        {
          "output_type": "stream",
          "name": "stderr",
          "text": [
            " 99%|█████████▊| 520/527 [00:25<00:00, 20.41it/s]\n"
          ]
        },
        {
          "output_type": "stream",
          "name": "stdout",
          "text": [
            "Saving results in /content/drive/My Drive/TF2Projects/beam-DS-2022-07-26/videos...\n",
            "Starting to analyze %  /content/drive/My Drive/TF2Projects/beam-DS-2022-07-26/videos/Copy of 220715-2505-W1.MOV\n",
            "Loading  /content/drive/My Drive/TF2Projects/beam-DS-2022-07-26/videos/Copy of 220715-2505-W1.MOV\n",
            "Duration of video [s]:  19.04 , recorded with  30.04 fps!\n",
            "Overall # of frames:  572  found with (before cropping) frame dimensions:  1558 308\n",
            "Starting to extract posture\n"
          ]
        },
        {
          "output_type": "stream",
          "name": "stderr",
          "text": [
            "100%|█████████▉| 570/572 [00:26<00:00, 21.58it/s]\n"
          ]
        },
        {
          "output_type": "stream",
          "name": "stdout",
          "text": [
            "Saving results in /content/drive/My Drive/TF2Projects/beam-DS-2022-07-26/videos...\n",
            "Starting to analyze %  /content/drive/My Drive/TF2Projects/beam-DS-2022-07-26/videos/Copy of 220715-2546-N3.MOV\n",
            "Loading  /content/drive/My Drive/TF2Projects/beam-DS-2022-07-26/videos/Copy of 220715-2546-N3.MOV\n",
            "Duration of video [s]:  19.21 , recorded with  30.03 fps!\n",
            "Overall # of frames:  577  found with (before cropping) frame dimensions:  1736 300\n",
            "Starting to extract posture\n"
          ]
        },
        {
          "output_type": "stream",
          "name": "stderr",
          "text": [
            " 99%|█████████▉| 570/577 [00:28<00:00, 20.00it/s]\n"
          ]
        },
        {
          "output_type": "stream",
          "name": "stdout",
          "text": [
            "Saving results in /content/drive/My Drive/TF2Projects/beam-DS-2022-07-26/videos...\n",
            "Starting to analyze %  /content/drive/My Drive/TF2Projects/beam-DS-2022-07-26/videos/Copy of 220718-2530-N1.MOV\n",
            "Loading  /content/drive/My Drive/TF2Projects/beam-DS-2022-07-26/videos/Copy of 220718-2530-N1.MOV\n",
            "Duration of video [s]:  32.37 , recorded with  30.0 fps!\n",
            "Overall # of frames:  971  found with (before cropping) frame dimensions:  1918 332\n",
            "Starting to extract posture\n"
          ]
        },
        {
          "output_type": "stream",
          "name": "stderr",
          "text": [
            "100%|█████████▉| 970/971 [00:53<00:00, 18.00it/s]\n"
          ]
        },
        {
          "output_type": "stream",
          "name": "stdout",
          "text": [
            "Saving results in /content/drive/My Drive/TF2Projects/beam-DS-2022-07-26/videos...\n",
            "Starting to analyze %  /content/drive/My Drive/TF2Projects/beam-DS-2022-07-26/videos/Copy of 220718-2524-N3.MOV\n",
            "Loading  /content/drive/My Drive/TF2Projects/beam-DS-2022-07-26/videos/Copy of 220718-2524-N3.MOV\n",
            "Duration of video [s]:  19.5 , recorded with  30.0 fps!\n",
            "Overall # of frames:  585  found with (before cropping) frame dimensions:  1752 302\n",
            "Starting to extract posture\n"
          ]
        },
        {
          "output_type": "stream",
          "name": "stderr",
          "text": [
            " 99%|█████████▉| 580/585 [00:29<00:00, 19.74it/s]\n"
          ]
        },
        {
          "output_type": "stream",
          "name": "stdout",
          "text": [
            "Saving results in /content/drive/My Drive/TF2Projects/beam-DS-2022-07-26/videos...\n",
            "Starting to analyze %  /content/drive/My Drive/TF2Projects/beam-DS-2022-07-26/videos/Copy of 220718-2526-W2.MOV\n",
            "Loading  /content/drive/My Drive/TF2Projects/beam-DS-2022-07-26/videos/Copy of 220718-2526-W2.MOV\n",
            "Duration of video [s]:  18.97 , recorded with  30.0 fps!\n",
            "Overall # of frames:  569  found with (before cropping) frame dimensions:  1906 330\n",
            "Starting to extract posture\n"
          ]
        },
        {
          "output_type": "stream",
          "name": "stderr",
          "text": [
            " 98%|█████████▊| 560/569 [00:31<00:00, 17.63it/s]\n"
          ]
        },
        {
          "output_type": "stream",
          "name": "stdout",
          "text": [
            "Saving results in /content/drive/My Drive/TF2Projects/beam-DS-2022-07-26/videos...\n",
            "Starting to analyze %  /content/drive/My Drive/TF2Projects/beam-DS-2022-07-26/videos/Copy of 220718-2529-N2.MOV\n",
            "Loading  /content/drive/My Drive/TF2Projects/beam-DS-2022-07-26/videos/Copy of 220718-2529-N2.MOV\n",
            "Duration of video [s]:  17.62 , recorded with  30.03 fps!\n",
            "Overall # of frames:  529  found with (before cropping) frame dimensions:  1488 258\n",
            "Starting to extract posture\n"
          ]
        },
        {
          "output_type": "stream",
          "name": "stderr",
          "text": [
            " 98%|█████████▊| 520/529 [00:20<00:00, 25.09it/s]\n"
          ]
        },
        {
          "output_type": "stream",
          "name": "stdout",
          "text": [
            "Saving results in /content/drive/My Drive/TF2Projects/beam-DS-2022-07-26/videos...\n",
            "Starting to analyze %  /content/drive/My Drive/TF2Projects/beam-DS-2022-07-26/videos/Copy of 220718-2526-W1.MOV\n",
            "Loading  /content/drive/My Drive/TF2Projects/beam-DS-2022-07-26/videos/Copy of 220718-2526-W1.MOV\n",
            "Duration of video [s]:  28.73 , recorded with  30.0 fps!\n",
            "Overall # of frames:  862  found with (before cropping) frame dimensions:  1920 332\n",
            "Starting to extract posture\n"
          ]
        },
        {
          "output_type": "stream",
          "name": "stderr",
          "text": [
            "100%|█████████▉| 860/862 [00:46<00:00, 18.54it/s]\n"
          ]
        },
        {
          "output_type": "stream",
          "name": "stdout",
          "text": [
            "Saving results in /content/drive/My Drive/TF2Projects/beam-DS-2022-07-26/videos...\n",
            "Starting to analyze %  /content/drive/My Drive/TF2Projects/beam-DS-2022-07-26/videos/Copy of 220715-2547-N1.MOV\n",
            "Loading  /content/drive/My Drive/TF2Projects/beam-DS-2022-07-26/videos/Copy of 220715-2547-N1.MOV\n",
            "Duration of video [s]:  17.19 , recorded with  30.02 fps!\n",
            "Overall # of frames:  516  found with (before cropping) frame dimensions:  1838 316\n",
            "Starting to extract posture\n"
          ]
        },
        {
          "output_type": "stream",
          "name": "stderr",
          "text": [
            " 99%|█████████▉| 510/516 [00:28<00:00, 18.19it/s]\n"
          ]
        },
        {
          "output_type": "stream",
          "name": "stdout",
          "text": [
            "Saving results in /content/drive/My Drive/TF2Projects/beam-DS-2022-07-26/videos...\n",
            "Starting to analyze %  /content/drive/My Drive/TF2Projects/beam-DS-2022-07-26/videos/Copy of 220718-2523-N1.MOV\n",
            "Loading  /content/drive/My Drive/TF2Projects/beam-DS-2022-07-26/videos/Copy of 220718-2523-N1.MOV\n",
            "Duration of video [s]:  72.4 , recorded with  30.0 fps!\n",
            "Overall # of frames:  2172  found with (before cropping) frame dimensions:  1910 328\n",
            "Starting to extract posture\n"
          ]
        },
        {
          "output_type": "stream",
          "name": "stderr",
          "text": [
            "100%|█████████▉| 2163/2172 [01:57<00:00, 18.35it/s]\n"
          ]
        },
        {
          "output_type": "stream",
          "name": "stdout",
          "text": [
            "Saving results in /content/drive/My Drive/TF2Projects/beam-DS-2022-07-26/videos...\n",
            "Starting to analyze %  /content/drive/My Drive/TF2Projects/beam-DS-2022-07-26/videos/Copy of 220715-2547-N2.MOV\n",
            "Loading  /content/drive/My Drive/TF2Projects/beam-DS-2022-07-26/videos/Copy of 220715-2547-N2.MOV\n",
            "Duration of video [s]:  16.88 , recorded with  30.04 fps!\n",
            "Overall # of frames:  507  found with (before cropping) frame dimensions:  1792 310\n",
            "Starting to extract posture\n"
          ]
        },
        {
          "output_type": "stream",
          "name": "stderr",
          "text": [
            " 99%|█████████▊| 500/507 [00:26<00:00, 18.57it/s]\n"
          ]
        },
        {
          "output_type": "stream",
          "name": "stdout",
          "text": [
            "Saving results in /content/drive/My Drive/TF2Projects/beam-DS-2022-07-26/videos...\n",
            "Starting to analyze %  /content/drive/My Drive/TF2Projects/beam-DS-2022-07-26/videos/Copy of 220718-2530-N3.MOV\n",
            "Loading  /content/drive/My Drive/TF2Projects/beam-DS-2022-07-26/videos/Copy of 220718-2530-N3.MOV\n",
            "Duration of video [s]:  9.07 , recorded with  30.09 fps!\n",
            "Overall # of frames:  273  found with (before cropping) frame dimensions:  1636 282\n",
            "Starting to extract posture\n"
          ]
        },
        {
          "output_type": "stream",
          "name": "stderr",
          "text": [
            " 99%|█████████▉| 270/273 [00:13<00:00, 19.93it/s]\n"
          ]
        },
        {
          "output_type": "stream",
          "name": "stdout",
          "text": [
            "Saving results in /content/drive/My Drive/TF2Projects/beam-DS-2022-07-26/videos...\n",
            "Starting to analyze %  /content/drive/My Drive/TF2Projects/beam-DS-2022-07-26/videos/220721_2474_N1.MOV\n",
            "Loading  /content/drive/My Drive/TF2Projects/beam-DS-2022-07-26/videos/220721_2474_N1.MOV\n",
            "Duration of video [s]:  25.17 , recorded with  30.04 fps!\n",
            "Overall # of frames:  756  found with (before cropping) frame dimensions:  1288 222\n",
            "Starting to extract posture\n"
          ]
        },
        {
          "output_type": "stream",
          "name": "stderr",
          "text": [
            " 99%|█████████▉| 750/756 [00:19<00:00, 38.69it/s]\n"
          ]
        },
        {
          "output_type": "stream",
          "name": "stdout",
          "text": [
            "Saving results in /content/drive/My Drive/TF2Projects/beam-DS-2022-07-26/videos...\n",
            "Starting to analyze %  /content/drive/My Drive/TF2Projects/beam-DS-2022-07-26/videos/220721_2487_N3.MOV\n",
            "Loading  /content/drive/My Drive/TF2Projects/beam-DS-2022-07-26/videos/220721_2487_N3.MOV\n",
            "Duration of video [s]:  21.53 , recorded with  30.01 fps!\n",
            "Overall # of frames:  646  found with (before cropping) frame dimensions:  1296 224\n",
            "Starting to extract posture\n"
          ]
        },
        {
          "output_type": "stream",
          "name": "stderr",
          "text": [
            " 99%|█████████▉| 640/646 [00:17<00:00, 35.58it/s]\n"
          ]
        },
        {
          "output_type": "stream",
          "name": "stdout",
          "text": [
            "Saving results in /content/drive/My Drive/TF2Projects/beam-DS-2022-07-26/videos...\n",
            "Starting to analyze %  /content/drive/My Drive/TF2Projects/beam-DS-2022-07-26/videos/Copy of 220715-2503-W2.MOV\n",
            "Loading  /content/drive/My Drive/TF2Projects/beam-DS-2022-07-26/videos/Copy of 220715-2503-W2.MOV\n",
            "Duration of video [s]:  22.12 , recorded with  30.02 fps!\n",
            "Overall # of frames:  664  found with (before cropping) frame dimensions:  1432 274\n",
            "Starting to extract posture\n"
          ]
        },
        {
          "output_type": "stream",
          "name": "stderr",
          "text": [
            " 99%|█████████▉| 660/664 [00:25<00:00, 26.04it/s]\n"
          ]
        },
        {
          "output_type": "stream",
          "name": "stdout",
          "text": [
            "Saving results in /content/drive/My Drive/TF2Projects/beam-DS-2022-07-26/videos...\n",
            "Starting to analyze %  /content/drive/My Drive/TF2Projects/beam-DS-2022-07-26/videos/220721_2472_W2.MOV\n",
            "Loading  /content/drive/My Drive/TF2Projects/beam-DS-2022-07-26/videos/220721_2472_W2.MOV\n",
            "Duration of video [s]:  5.8 , recorded with  30.16 fps!\n",
            "Overall # of frames:  175  found with (before cropping) frame dimensions:  1416 244\n",
            "Starting to extract posture\n"
          ]
        },
        {
          "output_type": "stream",
          "name": "stderr",
          "text": [
            " 97%|█████████▋| 170/175 [00:06<00:00, 24.56it/s]\n"
          ]
        },
        {
          "output_type": "stream",
          "name": "stdout",
          "text": [
            "Saving results in /content/drive/My Drive/TF2Projects/beam-DS-2022-07-26/videos...\n",
            "Starting to analyze %  /content/drive/My Drive/TF2Projects/beam-DS-2022-07-26/videos/220721_2487_W3.MOV\n",
            "Loading  /content/drive/My Drive/TF2Projects/beam-DS-2022-07-26/videos/220721_2487_W3.MOV\n",
            "Duration of video [s]:  16.57 , recorded with  30.05 fps!\n",
            "Overall # of frames:  498  found with (before cropping) frame dimensions:  1338 232\n",
            "Starting to extract posture\n"
          ]
        },
        {
          "output_type": "stream",
          "name": "stderr",
          "text": [
            " 98%|█████████▊| 490/498 [00:15<00:00, 32.23it/s]\n"
          ]
        },
        {
          "output_type": "stream",
          "name": "stdout",
          "text": [
            "Saving results in /content/drive/My Drive/TF2Projects/beam-DS-2022-07-26/videos...\n",
            "Starting to analyze %  /content/drive/My Drive/TF2Projects/beam-DS-2022-07-26/videos/220721_2487_W2.MOV\n",
            "Loading  /content/drive/My Drive/TF2Projects/beam-DS-2022-07-26/videos/220721_2487_W2.MOV\n",
            "Duration of video [s]:  17.54 , recorded with  30.04 fps!\n",
            "Overall # of frames:  527  found with (before cropping) frame dimensions:  1304 224\n",
            "Starting to extract posture\n"
          ]
        },
        {
          "output_type": "stream",
          "name": "stderr",
          "text": [
            " 99%|█████████▊| 520/527 [00:13<00:00, 38.32it/s]\n"
          ]
        },
        {
          "output_type": "stream",
          "name": "stdout",
          "text": [
            "Saving results in /content/drive/My Drive/TF2Projects/beam-DS-2022-07-26/videos...\n",
            "Starting to analyze %  /content/drive/My Drive/TF2Projects/beam-DS-2022-07-26/videos/220721_2472_W3.MOV\n",
            "Loading  /content/drive/My Drive/TF2Projects/beam-DS-2022-07-26/videos/220721_2472_W3.MOV\n",
            "Duration of video [s]:  5.65 , recorded with  30.11 fps!\n",
            "Overall # of frames:  170  found with (before cropping) frame dimensions:  1372 236\n",
            "Starting to extract posture\n"
          ]
        },
        {
          "output_type": "stream",
          "name": "stderr",
          "text": [
            "100%|██████████| 170/170 [00:05<00:00, 33.32it/s]\n"
          ]
        },
        {
          "output_type": "stream",
          "name": "stdout",
          "text": [
            "Saving results in /content/drive/My Drive/TF2Projects/beam-DS-2022-07-26/videos...\n",
            "Starting to analyze %  /content/drive/My Drive/TF2Projects/beam-DS-2022-07-26/videos/Copy of 220718-2523-N2.MOV\n",
            "Loading  /content/drive/My Drive/TF2Projects/beam-DS-2022-07-26/videos/Copy of 220718-2523-N2.MOV\n",
            "Duration of video [s]:  35.1 , recorded with  30.0 fps!\n",
            "Overall # of frames:  1053  found with (before cropping) frame dimensions:  1608 278\n",
            "Starting to extract posture\n"
          ]
        },
        {
          "output_type": "stream",
          "name": "stderr",
          "text": [
            "100%|█████████▉| 1050/1053 [00:44<00:00, 23.52it/s]\n"
          ]
        },
        {
          "output_type": "stream",
          "name": "stdout",
          "text": [
            "Saving results in /content/drive/My Drive/TF2Projects/beam-DS-2022-07-26/videos...\n",
            "Starting to analyze %  /content/drive/My Drive/TF2Projects/beam-DS-2022-07-26/videos/Copy of 220715-2538-N3.MOV\n",
            "Loading  /content/drive/My Drive/TF2Projects/beam-DS-2022-07-26/videos/Copy of 220715-2538-N3.MOV\n",
            "Duration of video [s]:  19.03 , recorded with  30.01 fps!\n",
            "Overall # of frames:  571  found with (before cropping) frame dimensions:  1624 280\n",
            "Starting to extract posture\n"
          ]
        },
        {
          "output_type": "stream",
          "name": "stderr",
          "text": [
            "100%|█████████▉| 570/571 [00:23<00:00, 23.94it/s]\n"
          ]
        },
        {
          "output_type": "stream",
          "name": "stdout",
          "text": [
            "Saving results in /content/drive/My Drive/TF2Projects/beam-DS-2022-07-26/videos...\n",
            "Starting to analyze %  /content/drive/My Drive/TF2Projects/beam-DS-2022-07-26/videos/Copy of 220718-2526-N2.MOV\n",
            "Loading  /content/drive/My Drive/TF2Projects/beam-DS-2022-07-26/videos/Copy of 220718-2526-N2.MOV\n",
            "Duration of video [s]:  12.05 , recorded with  30.04 fps!\n",
            "Overall # of frames:  362  found with (before cropping) frame dimensions:  1408 244\n",
            "Starting to extract posture\n"
          ]
        },
        {
          "output_type": "stream",
          "name": "stderr",
          "text": [
            " 99%|█████████▉| 360/362 [00:10<00:00, 33.39it/s]\n"
          ]
        },
        {
          "output_type": "stream",
          "name": "stdout",
          "text": [
            "Saving results in /content/drive/My Drive/TF2Projects/beam-DS-2022-07-26/videos...\n",
            "Starting to analyze %  /content/drive/My Drive/TF2Projects/beam-DS-2022-07-26/videos/Copy of 220715-2546-N2.MOV\n",
            "Loading  /content/drive/My Drive/TF2Projects/beam-DS-2022-07-26/videos/Copy of 220715-2546-N2.MOV\n",
            "Duration of video [s]:  26.73 , recorded with  30.0 fps!\n",
            "Overall # of frames:  802  found with (before cropping) frame dimensions:  1744 302\n",
            "Starting to extract posture\n"
          ]
        },
        {
          "output_type": "stream",
          "name": "stderr",
          "text": [
            "100%|█████████▉| 800/802 [00:37<00:00, 21.21it/s]\n"
          ]
        },
        {
          "output_type": "stream",
          "name": "stdout",
          "text": [
            "Saving results in /content/drive/My Drive/TF2Projects/beam-DS-2022-07-26/videos...\n",
            "Starting to analyze %  /content/drive/My Drive/TF2Projects/beam-DS-2022-07-26/videos/Copy of 220718-2526-N3.MOV\n",
            "Loading  /content/drive/My Drive/TF2Projects/beam-DS-2022-07-26/videos/Copy of 220718-2526-N3.MOV\n",
            "Duration of video [s]:  15.7 , recorded with  30.0 fps!\n",
            "Overall # of frames:  471  found with (before cropping) frame dimensions:  1522 262\n",
            "Starting to extract posture\n"
          ]
        },
        {
          "output_type": "stream",
          "name": "stderr",
          "text": [
            "100%|█████████▉| 470/471 [00:18<00:00, 25.30it/s]\n"
          ]
        },
        {
          "output_type": "stream",
          "name": "stdout",
          "text": [
            "Saving results in /content/drive/My Drive/TF2Projects/beam-DS-2022-07-26/videos...\n",
            "Starting to analyze %  /content/drive/My Drive/TF2Projects/beam-DS-2022-07-26/videos/Copy of 220718-2525-N1.MOV\n",
            "Loading  /content/drive/My Drive/TF2Projects/beam-DS-2022-07-26/videos/Copy of 220718-2525-N1.MOV\n",
            "Duration of video [s]:  26.2 , recorded with  30.0 fps!\n",
            "Overall # of frames:  786  found with (before cropping) frame dimensions:  1666 288\n",
            "Starting to extract posture\n"
          ]
        },
        {
          "output_type": "stream",
          "name": "stderr",
          "text": [
            " 99%|█████████▉| 780/786 [00:35<00:00, 22.01it/s]\n"
          ]
        },
        {
          "output_type": "stream",
          "name": "stdout",
          "text": [
            "Saving results in /content/drive/My Drive/TF2Projects/beam-DS-2022-07-26/videos...\n",
            "Starting to analyze %  /content/drive/My Drive/TF2Projects/beam-DS-2022-07-26/videos/220721_2487_N1.MOV\n",
            "Loading  /content/drive/My Drive/TF2Projects/beam-DS-2022-07-26/videos/220721_2487_N1.MOV\n",
            "Duration of video [s]:  38.32 , recorded with  30.01 fps!\n",
            "Overall # of frames:  1150  found with (before cropping) frame dimensions:  1330 232\n",
            "Starting to extract posture\n"
          ]
        },
        {
          "output_type": "stream",
          "name": "stderr",
          "text": [
            " 99%|█████████▉| 1144/1150 [00:32<00:00, 35.10it/s]\n"
          ]
        },
        {
          "output_type": "stream",
          "name": "stdout",
          "text": [
            "Saving results in /content/drive/My Drive/TF2Projects/beam-DS-2022-07-26/videos...\n",
            "Starting to analyze %  /content/drive/My Drive/TF2Projects/beam-DS-2022-07-26/videos/Copy of 220718-2529-W1.MOV\n",
            "Loading  /content/drive/My Drive/TF2Projects/beam-DS-2022-07-26/videos/Copy of 220718-2529-W1.MOV\n",
            "Duration of video [s]:  15.52 , recorded with  30.03 fps!\n",
            "Overall # of frames:  466  found with (before cropping) frame dimensions:  1820 336\n",
            "Starting to extract posture\n"
          ]
        },
        {
          "output_type": "stream",
          "name": "stderr",
          "text": [
            " 99%|█████████▊| 460/466 [00:27<00:00, 16.85it/s]\n"
          ]
        },
        {
          "output_type": "stream",
          "name": "stdout",
          "text": [
            "Saving results in /content/drive/My Drive/TF2Projects/beam-DS-2022-07-26/videos...\n",
            "Starting to analyze %  /content/drive/My Drive/TF2Projects/beam-DS-2022-07-26/videos/220721_2487_W1.MOV\n",
            "Loading  /content/drive/My Drive/TF2Projects/beam-DS-2022-07-26/videos/220721_2487_W1.MOV\n",
            "Duration of video [s]:  16.42 , recorded with  30.02 fps!\n",
            "Overall # of frames:  493  found with (before cropping) frame dimensions:  1296 226\n",
            "Starting to extract posture\n"
          ]
        },
        {
          "output_type": "stream",
          "name": "stderr",
          "text": [
            " 99%|█████████▉| 490/493 [00:14<00:00, 33.79it/s]\n"
          ]
        },
        {
          "output_type": "stream",
          "name": "stdout",
          "text": [
            "Saving results in /content/drive/My Drive/TF2Projects/beam-DS-2022-07-26/videos...\n",
            "Starting to analyze %  /content/drive/My Drive/TF2Projects/beam-DS-2022-07-26/videos/Copy of 220718-2527-N2.MOV\n",
            "Loading  /content/drive/My Drive/TF2Projects/beam-DS-2022-07-26/videos/Copy of 220718-2527-N2.MOV\n",
            "Duration of video [s]:  16.2 , recorded with  30.01 fps!\n",
            "Overall # of frames:  486  found with (before cropping) frame dimensions:  1606 278\n",
            "Starting to extract posture\n"
          ]
        },
        {
          "output_type": "stream",
          "name": "stderr",
          "text": [
            " 99%|█████████▉| 480/486 [00:19<00:00, 24.35it/s]\n"
          ]
        },
        {
          "output_type": "stream",
          "name": "stdout",
          "text": [
            "Saving results in /content/drive/My Drive/TF2Projects/beam-DS-2022-07-26/videos...\n",
            "Starting to analyze %  /content/drive/My Drive/TF2Projects/beam-DS-2022-07-26/videos/Copy of 220715-2546-N1.MOV\n",
            "Loading  /content/drive/My Drive/TF2Projects/beam-DS-2022-07-26/videos/Copy of 220715-2546-N1.MOV\n",
            "Duration of video [s]:  23.26 , recorded with  30.01 fps!\n",
            "Overall # of frames:  698  found with (before cropping) frame dimensions:  1708 294\n",
            "Starting to extract posture\n"
          ]
        },
        {
          "output_type": "stream",
          "name": "stderr",
          "text": [
            " 99%|█████████▉| 690/698 [00:33<00:00, 20.52it/s]\n"
          ]
        },
        {
          "output_type": "stream",
          "name": "stdout",
          "text": [
            "Saving results in /content/drive/My Drive/TF2Projects/beam-DS-2022-07-26/videos...\n",
            "Starting to analyze %  /content/drive/My Drive/TF2Projects/beam-DS-2022-07-26/videos/Copy of 220718-2528-W2.MOV\n",
            "Loading  /content/drive/My Drive/TF2Projects/beam-DS-2022-07-26/videos/Copy of 220718-2528-W2.MOV\n",
            "Duration of video [s]:  14.23 , recorded with  30.01 fps!\n",
            "Overall # of frames:  427  found with (before cropping) frame dimensions:  1918 332\n",
            "Starting to extract posture\n"
          ]
        },
        {
          "output_type": "stream",
          "name": "stderr",
          "text": [
            " 98%|█████████▊| 420/427 [00:24<00:00, 17.28it/s]\n"
          ]
        },
        {
          "output_type": "stream",
          "name": "stdout",
          "text": [
            "Saving results in /content/drive/My Drive/TF2Projects/beam-DS-2022-07-26/videos...\n",
            "Starting to analyze %  /content/drive/My Drive/TF2Projects/beam-DS-2022-07-26/videos/Copy of 220715-2547-N3.MOV\n",
            "Loading  /content/drive/My Drive/TF2Projects/beam-DS-2022-07-26/videos/Copy of 220715-2547-N3.MOV\n",
            "Duration of video [s]:  22.4 , recorded with  30.0 fps!\n",
            "Overall # of frames:  672  found with (before cropping) frame dimensions:  1748 302\n",
            "Starting to extract posture\n"
          ]
        },
        {
          "output_type": "stream",
          "name": "stderr",
          "text": [
            "100%|█████████▉| 670/672 [00:31<00:00, 21.23it/s]\n"
          ]
        },
        {
          "output_type": "stream",
          "name": "stdout",
          "text": [
            "Saving results in /content/drive/My Drive/TF2Projects/beam-DS-2022-07-26/videos...\n",
            "Starting to analyze %  /content/drive/My Drive/TF2Projects/beam-DS-2022-07-26/videos/Copy of 220718-2526-N1.MOV\n",
            "Loading  /content/drive/My Drive/TF2Projects/beam-DS-2022-07-26/videos/Copy of 220718-2526-N1.MOV\n",
            "Duration of video [s]:  16.58 , recorded with  30.04 fps!\n",
            "Overall # of frames:  498  found with (before cropping) frame dimensions:  1496 282\n",
            "Starting to extract posture\n"
          ]
        },
        {
          "output_type": "stream",
          "name": "stderr",
          "text": [
            " 98%|█████████▊| 490/498 [00:20<00:00, 24.31it/s]\n"
          ]
        },
        {
          "output_type": "stream",
          "name": "stdout",
          "text": [
            "Saving results in /content/drive/My Drive/TF2Projects/beam-DS-2022-07-26/videos...\n",
            "Starting to analyze %  /content/drive/My Drive/TF2Projects/beam-DS-2022-07-26/videos/Copy of 220718-2527-W1.MOV\n",
            "Loading  /content/drive/My Drive/TF2Projects/beam-DS-2022-07-26/videos/Copy of 220718-2527-W1.MOV\n",
            "Duration of video [s]:  26.07 , recorded with  30.0 fps!\n",
            "Overall # of frames:  782  found with (before cropping) frame dimensions:  1912 330\n",
            "Starting to extract posture\n"
          ]
        },
        {
          "output_type": "stream",
          "name": "stderr",
          "text": [
            "100%|█████████▉| 780/782 [00:42<00:00, 18.39it/s]\n"
          ]
        },
        {
          "output_type": "stream",
          "name": "stdout",
          "text": [
            "Saving results in /content/drive/My Drive/TF2Projects/beam-DS-2022-07-26/videos...\n",
            "Starting to analyze %  /content/drive/My Drive/TF2Projects/beam-DS-2022-07-26/videos/Copy of 220715-2545-N3.MOV\n",
            "Loading  /content/drive/My Drive/TF2Projects/beam-DS-2022-07-26/videos/Copy of 220715-2545-N3.MOV\n",
            "Duration of video [s]:  16.35 , recorded with  30.03 fps!\n",
            "Overall # of frames:  491  found with (before cropping) frame dimensions:  1592 276\n",
            "Starting to extract posture\n"
          ]
        },
        {
          "output_type": "stream",
          "name": "stderr",
          "text": [
            "100%|█████████▉| 490/491 [00:20<00:00, 24.46it/s]\n"
          ]
        },
        {
          "output_type": "stream",
          "name": "stdout",
          "text": [
            "Saving results in /content/drive/My Drive/TF2Projects/beam-DS-2022-07-26/videos...\n",
            "Starting to analyze %  /content/drive/My Drive/TF2Projects/beam-DS-2022-07-26/videos/Copy of 220718-2527-N1.MOV\n",
            "Loading  /content/drive/My Drive/TF2Projects/beam-DS-2022-07-26/videos/Copy of 220718-2527-N1.MOV\n",
            "Duration of video [s]:  19.09 , recorded with  30.02 fps!\n",
            "Overall # of frames:  573  found with (before cropping) frame dimensions:  1586 274\n",
            "Starting to extract posture\n"
          ]
        },
        {
          "output_type": "stream",
          "name": "stderr",
          "text": [
            " 99%|█████████▉| 570/573 [00:23<00:00, 24.51it/s]\n"
          ]
        },
        {
          "output_type": "stream",
          "name": "stdout",
          "text": [
            "Saving results in /content/drive/My Drive/TF2Projects/beam-DS-2022-07-26/videos...\n",
            "Starting to analyze %  /content/drive/My Drive/TF2Projects/beam-DS-2022-07-26/videos/220721_2473_N1.MOV\n",
            "Loading  /content/drive/My Drive/TF2Projects/beam-DS-2022-07-26/videos/220721_2473_N1.MOV\n",
            "Duration of video [s]:  41.31 , recorded with  30.02 fps!\n",
            "Overall # of frames:  1240  found with (before cropping) frame dimensions:  1330 230\n",
            "Starting to extract posture\n"
          ]
        },
        {
          "output_type": "stream",
          "name": "stderr",
          "text": [
            "100%|█████████▉| 1236/1240 [00:34<00:00, 35.57it/s]\n"
          ]
        },
        {
          "output_type": "stream",
          "name": "stdout",
          "text": [
            "Saving results in /content/drive/My Drive/TF2Projects/beam-DS-2022-07-26/videos...\n",
            "Starting to analyze %  /content/drive/My Drive/TF2Projects/beam-DS-2022-07-26/videos/Copy of 220715-2538-N2.MOV\n",
            "Loading  /content/drive/My Drive/TF2Projects/beam-DS-2022-07-26/videos/Copy of 220715-2538-N2.MOV\n",
            "Duration of video [s]:  21.57 , recorded with  30.0 fps!\n",
            "Overall # of frames:  647  found with (before cropping) frame dimensions:  1582 274\n",
            "Starting to extract posture\n"
          ]
        },
        {
          "output_type": "stream",
          "name": "stderr",
          "text": [
            " 99%|█████████▉| 640/647 [00:27<00:00, 23.67it/s]\n"
          ]
        },
        {
          "output_type": "stream",
          "name": "stdout",
          "text": [
            "Saving results in /content/drive/My Drive/TF2Projects/beam-DS-2022-07-26/videos...\n",
            "Starting to analyze %  /content/drive/My Drive/TF2Projects/beam-DS-2022-07-26/videos/220721_2471_W3.MOV\n",
            "Loading  /content/drive/My Drive/TF2Projects/beam-DS-2022-07-26/videos/220721_2471_W3.MOV\n",
            "Duration of video [s]:  7.68 , recorded with  30.09 fps!\n",
            "Overall # of frames:  231  found with (before cropping) frame dimensions:  1376 244\n",
            "Starting to extract posture\n"
          ]
        },
        {
          "output_type": "stream",
          "name": "stderr",
          "text": [
            "100%|█████████▉| 230/231 [00:08<00:00, 28.55it/s]\n"
          ]
        },
        {
          "output_type": "stream",
          "name": "stdout",
          "text": [
            "Saving results in /content/drive/My Drive/TF2Projects/beam-DS-2022-07-26/videos...\n",
            "Starting to analyze %  /content/drive/My Drive/TF2Projects/beam-DS-2022-07-26/videos/Copy of 220718-2524-W2.MOV\n",
            "Loading  /content/drive/My Drive/TF2Projects/beam-DS-2022-07-26/videos/Copy of 220718-2524-W2.MOV\n",
            "Duration of video [s]:  14.37 , recorded with  30.0 fps!\n",
            "Overall # of frames:  431  found with (before cropping) frame dimensions:  1746 302\n",
            "Starting to extract posture\n"
          ]
        },
        {
          "output_type": "stream",
          "name": "stderr",
          "text": [
            "100%|█████████▉| 430/431 [00:20<00:00, 21.25it/s]\n"
          ]
        },
        {
          "output_type": "stream",
          "name": "stdout",
          "text": [
            "Saving results in /content/drive/My Drive/TF2Projects/beam-DS-2022-07-26/videos...\n",
            "Starting to analyze %  /content/drive/My Drive/TF2Projects/beam-DS-2022-07-26/videos/220721_2473_N2.MOV\n",
            "Loading  /content/drive/My Drive/TF2Projects/beam-DS-2022-07-26/videos/220721_2473_N2.MOV\n",
            "Duration of video [s]:  30.04 , recorded with  30.03 fps!\n",
            "Overall # of frames:  902  found with (before cropping) frame dimensions:  1316 228\n",
            "Starting to extract posture\n"
          ]
        },
        {
          "output_type": "stream",
          "name": "stderr",
          "text": [
            "100%|█████████▉| 900/902 [00:26<00:00, 33.82it/s]\n"
          ]
        },
        {
          "output_type": "stream",
          "name": "stdout",
          "text": [
            "Saving results in /content/drive/My Drive/TF2Projects/beam-DS-2022-07-26/videos...\n",
            "Starting to analyze %  /content/drive/My Drive/TF2Projects/beam-DS-2022-07-26/videos/Copy of 220715-2545-N1.MOV\n",
            "Loading  /content/drive/My Drive/TF2Projects/beam-DS-2022-07-26/videos/Copy of 220715-2545-N1.MOV\n",
            "Duration of video [s]:  17.62 , recorded with  30.03 fps!\n",
            "Overall # of frames:  529  found with (before cropping) frame dimensions:  1644 324\n",
            "Starting to extract posture\n"
          ]
        },
        {
          "output_type": "stream",
          "name": "stderr",
          "text": [
            " 98%|█████████▊| 520/529 [00:27<00:00, 19.02it/s]\n"
          ]
        },
        {
          "output_type": "stream",
          "name": "stdout",
          "text": [
            "Saving results in /content/drive/My Drive/TF2Projects/beam-DS-2022-07-26/videos...\n",
            "Starting to analyze %  /content/drive/My Drive/TF2Projects/beam-DS-2022-07-26/videos/Copy of 220715-2538-W1.MOV\n",
            "Loading  /content/drive/My Drive/TF2Projects/beam-DS-2022-07-26/videos/Copy of 220715-2538-W1.MOV\n",
            "Duration of video [s]:  16.38 , recorded with  30.05 fps!\n",
            "Overall # of frames:  492  found with (before cropping) frame dimensions:  1468 298\n",
            "Starting to extract posture\n"
          ]
        },
        {
          "output_type": "stream",
          "name": "stderr",
          "text": [
            "100%|█████████▉| 490/492 [00:20<00:00, 23.69it/s]\n"
          ]
        },
        {
          "output_type": "stream",
          "name": "stdout",
          "text": [
            "Saving results in /content/drive/My Drive/TF2Projects/beam-DS-2022-07-26/videos...\n",
            "Starting to analyze %  /content/drive/My Drive/TF2Projects/beam-DS-2022-07-26/videos/Copy of 220718-2525-W1.MOV\n",
            "Loading  /content/drive/My Drive/TF2Projects/beam-DS-2022-07-26/videos/Copy of 220718-2525-W1.MOV\n",
            "Duration of video [s]:  18.03 , recorded with  30.0 fps!\n",
            "Overall # of frames:  541  found with (before cropping) frame dimensions:  1626 280\n",
            "Starting to extract posture\n"
          ]
        },
        {
          "output_type": "stream",
          "name": "stderr",
          "text": [
            "100%|█████████▉| 540/541 [00:22<00:00, 24.45it/s]\n"
          ]
        },
        {
          "output_type": "stream",
          "name": "stdout",
          "text": [
            "Saving results in /content/drive/My Drive/TF2Projects/beam-DS-2022-07-26/videos...\n",
            "Starting to analyze %  /content/drive/My Drive/TF2Projects/beam-DS-2022-07-26/videos/Copy of 220718-2524-N2.MOV\n",
            "Loading  /content/drive/My Drive/TF2Projects/beam-DS-2022-07-26/videos/Copy of 220718-2524-N2.MOV\n",
            "Duration of video [s]:  20.62 , recorded with  30.01 fps!\n",
            "Overall # of frames:  619  found with (before cropping) frame dimensions:  1722 298\n",
            "Starting to extract posture\n"
          ]
        },
        {
          "output_type": "stream",
          "name": "stderr",
          "text": [
            " 99%|█████████▊| 610/619 [00:30<00:00, 20.11it/s]\n"
          ]
        },
        {
          "output_type": "stream",
          "name": "stdout",
          "text": [
            "Saving results in /content/drive/My Drive/TF2Projects/beam-DS-2022-07-26/videos...\n",
            "Starting to analyze %  /content/drive/My Drive/TF2Projects/beam-DS-2022-07-26/videos/Copy of 220715-2538-N1.MOV\n",
            "Loading  /content/drive/My Drive/TF2Projects/beam-DS-2022-07-26/videos/Copy of 220715-2538-N1.MOV\n",
            "Duration of video [s]:  17.04 , recorded with  30.05 fps!\n",
            "Overall # of frames:  512  found with (before cropping) frame dimensions:  1576 290\n",
            "Starting to extract posture\n"
          ]
        },
        {
          "output_type": "stream",
          "name": "stderr",
          "text": [
            "100%|█████████▉| 510/512 [00:23<00:00, 22.02it/s]\n"
          ]
        },
        {
          "output_type": "stream",
          "name": "stdout",
          "text": [
            "Saving results in /content/drive/My Drive/TF2Projects/beam-DS-2022-07-26/videos...\n",
            "Starting to analyze %  /content/drive/My Drive/TF2Projects/beam-DS-2022-07-26/videos/220721_2473_W1.MOV\n",
            "Loading  /content/drive/My Drive/TF2Projects/beam-DS-2022-07-26/videos/220721_2473_W1.MOV\n",
            "Duration of video [s]:  11.59 , recorded with  30.02 fps!\n",
            "Overall # of frames:  348  found with (before cropping) frame dimensions:  1376 238\n",
            "Starting to extract posture\n"
          ]
        },
        {
          "output_type": "stream",
          "name": "stderr",
          "text": [
            " 98%|█████████▊| 340/348 [00:09<00:00, 34.11it/s]\n"
          ]
        },
        {
          "output_type": "stream",
          "name": "stdout",
          "text": [
            "Saving results in /content/drive/My Drive/TF2Projects/beam-DS-2022-07-26/videos...\n",
            "Starting to analyze %  /content/drive/My Drive/TF2Projects/beam-DS-2022-07-26/videos/Copy of 220715-2545-W2.MOV\n",
            "Loading  /content/drive/My Drive/TF2Projects/beam-DS-2022-07-26/videos/Copy of 220715-2545-W2.MOV\n",
            "Duration of video [s]:  21.55 , recorded with  30.03 fps!\n",
            "Overall # of frames:  647  found with (before cropping) frame dimensions:  1314 264\n",
            "Starting to extract posture\n"
          ]
        },
        {
          "output_type": "stream",
          "name": "stderr",
          "text": [
            " 99%|█████████▉| 640/647 [00:23<00:00, 27.77it/s]\n"
          ]
        },
        {
          "output_type": "stream",
          "name": "stdout",
          "text": [
            "Saving results in /content/drive/My Drive/TF2Projects/beam-DS-2022-07-26/videos...\n",
            "Starting to analyze %  /content/drive/My Drive/TF2Projects/beam-DS-2022-07-26/videos/Copy of 220718-2525-W3.MOV\n",
            "Loading  /content/drive/My Drive/TF2Projects/beam-DS-2022-07-26/videos/Copy of 220718-2525-W3.MOV\n",
            "Duration of video [s]:  29.73 , recorded with  30.0 fps!\n",
            "Overall # of frames:  892  found with (before cropping) frame dimensions:  1538 266\n",
            "Starting to extract posture\n"
          ]
        },
        {
          "output_type": "stream",
          "name": "stderr",
          "text": [
            "100%|█████████▉| 890/892 [00:35<00:00, 25.43it/s]\n"
          ]
        },
        {
          "output_type": "stream",
          "name": "stdout",
          "text": [
            "Saving results in /content/drive/My Drive/TF2Projects/beam-DS-2022-07-26/videos...\n",
            "Starting to analyze %  /content/drive/My Drive/TF2Projects/beam-DS-2022-07-26/videos/Copy of 220715-2505-W3.MOV\n",
            "Loading  /content/drive/My Drive/TF2Projects/beam-DS-2022-07-26/videos/Copy of 220715-2505-W3.MOV\n",
            "Duration of video [s]:  53.09 , recorded with  30.0 fps!\n",
            "Overall # of frames:  1593  found with (before cropping) frame dimensions:  1612 304\n",
            "Starting to extract posture\n"
          ]
        },
        {
          "output_type": "stream",
          "name": "stderr",
          "text": [
            "100%|█████████▉| 1590/1593 [01:11<00:00, 22.18it/s]\n"
          ]
        },
        {
          "output_type": "stream",
          "name": "stdout",
          "text": [
            "Saving results in /content/drive/My Drive/TF2Projects/beam-DS-2022-07-26/videos...\n",
            "Starting to analyze %  /content/drive/My Drive/TF2Projects/beam-DS-2022-07-26/videos/Copy of 220718-2527-N3.MOV\n",
            "Loading  /content/drive/My Drive/TF2Projects/beam-DS-2022-07-26/videos/Copy of 220718-2527-N3.MOV\n",
            "Duration of video [s]:  34.3 , recorded with  30.03 fps!\n",
            "Overall # of frames:  1030  found with (before cropping) frame dimensions:  1590 274\n",
            "Starting to extract posture\n"
          ]
        },
        {
          "output_type": "stream",
          "name": "stderr",
          "text": [
            "100%|██████████| 1030/1030 [00:40<00:00, 25.44it/s]\n"
          ]
        },
        {
          "output_type": "stream",
          "name": "stdout",
          "text": [
            "Saving results in /content/drive/My Drive/TF2Projects/beam-DS-2022-07-26/videos...\n",
            "Starting to analyze %  /content/drive/My Drive/TF2Projects/beam-DS-2022-07-26/videos/Copy of 220715-2546-W2.MOV\n",
            "Loading  /content/drive/My Drive/TF2Projects/beam-DS-2022-07-26/videos/Copy of 220715-2546-W2.MOV\n",
            "Duration of video [s]:  15.29 , recorded with  30.02 fps!\n",
            "Overall # of frames:  459  found with (before cropping) frame dimensions:  1352 274\n",
            "Starting to extract posture\n"
          ]
        },
        {
          "output_type": "stream",
          "name": "stderr",
          "text": [
            " 98%|█████████▊| 450/459 [00:17<00:00, 26.17it/s]\n"
          ]
        },
        {
          "output_type": "stream",
          "name": "stdout",
          "text": [
            "Saving results in /content/drive/My Drive/TF2Projects/beam-DS-2022-07-26/videos...\n",
            "Starting to analyze %  /content/drive/My Drive/TF2Projects/beam-DS-2022-07-26/videos/Copy of 220718-2530-N2.MOV\n",
            "Loading  /content/drive/My Drive/TF2Projects/beam-DS-2022-07-26/videos/Copy of 220718-2530-N2.MOV\n",
            "Duration of video [s]:  19.2 , recorded with  30.0 fps!\n",
            "Overall # of frames:  576  found with (before cropping) frame dimensions:  1400 242\n",
            "Starting to extract posture\n"
          ]
        },
        {
          "output_type": "stream",
          "name": "stderr",
          "text": [
            " 99%|█████████▉| 570/576 [00:17<00:00, 31.73it/s]\n"
          ]
        },
        {
          "output_type": "stream",
          "name": "stdout",
          "text": [
            "Saving results in /content/drive/My Drive/TF2Projects/beam-DS-2022-07-26/videos...\n",
            "Starting to analyze %  /content/drive/My Drive/TF2Projects/beam-DS-2022-07-26/videos/Copy of 220715-2505-N1.MOV\n",
            "Loading  /content/drive/My Drive/TF2Projects/beam-DS-2022-07-26/videos/Copy of 220715-2505-N1.MOV\n",
            "Duration of video [s]:  26.93 , recorded with  30.0 fps!\n",
            "Overall # of frames:  808  found with (before cropping) frame dimensions:  1592 276\n",
            "Starting to extract posture\n"
          ]
        },
        {
          "output_type": "stream",
          "name": "stderr",
          "text": [
            " 99%|█████████▉| 800/808 [00:31<00:00, 25.44it/s]\n"
          ]
        },
        {
          "output_type": "stream",
          "name": "stdout",
          "text": [
            "Saving results in /content/drive/My Drive/TF2Projects/beam-DS-2022-07-26/videos...\n",
            "Starting to analyze %  /content/drive/My Drive/TF2Projects/beam-DS-2022-07-26/videos/Copy of 220715-2503-W1.MOV\n",
            "Loading  /content/drive/My Drive/TF2Projects/beam-DS-2022-07-26/videos/Copy of 220715-2503-W1.MOV\n",
            "Duration of video [s]:  135.2 , recorded with  30.0 fps!\n",
            "Overall # of frames:  4056  found with (before cropping) frame dimensions:  1400 286\n",
            "Starting to extract posture\n"
          ]
        },
        {
          "output_type": "stream",
          "name": "stderr",
          "text": [
            "100%|█████████▉| 4040/4056 [02:19<00:00, 28.94it/s]\n"
          ]
        },
        {
          "output_type": "stream",
          "name": "stdout",
          "text": [
            "Saving results in /content/drive/My Drive/TF2Projects/beam-DS-2022-07-26/videos...\n",
            "Starting to analyze %  /content/drive/My Drive/TF2Projects/beam-DS-2022-07-26/videos/220721_2474_N2.MOV\n",
            "Loading  /content/drive/My Drive/TF2Projects/beam-DS-2022-07-26/videos/220721_2474_N2.MOV\n",
            "Duration of video [s]:  37.65 , recorded with  30.01 fps!\n",
            "Overall # of frames:  1130  found with (before cropping) frame dimensions:  1318 228\n",
            "Starting to extract posture\n"
          ]
        },
        {
          "output_type": "stream",
          "name": "stderr",
          "text": [
            " 99%|█████████▉| 1122/1130 [00:31<00:00, 35.74it/s]\n"
          ]
        },
        {
          "output_type": "stream",
          "name": "stdout",
          "text": [
            "Saving results in /content/drive/My Drive/TF2Projects/beam-DS-2022-07-26/videos...\n",
            "Starting to analyze %  /content/drive/My Drive/TF2Projects/beam-DS-2022-07-26/videos/220721_2472_N2.MOV\n",
            "Loading  /content/drive/My Drive/TF2Projects/beam-DS-2022-07-26/videos/220721_2472_N2.MOV\n",
            "Duration of video [s]:  10.62 , recorded with  30.04 fps!\n",
            "Overall # of frames:  319  found with (before cropping) frame dimensions:  1298 224\n",
            "Starting to extract posture\n"
          ]
        },
        {
          "output_type": "stream",
          "name": "stderr",
          "text": [
            " 97%|█████████▋| 310/319 [00:09<00:00, 33.11it/s]\n"
          ]
        },
        {
          "output_type": "stream",
          "name": "stdout",
          "text": [
            "Saving results in /content/drive/My Drive/TF2Projects/beam-DS-2022-07-26/videos...\n",
            "Starting to analyze %  /content/drive/My Drive/TF2Projects/beam-DS-2022-07-26/videos/Copy of 220718-2530-W3.MOV\n",
            "Loading  /content/drive/My Drive/TF2Projects/beam-DS-2022-07-26/videos/Copy of 220718-2530-W3.MOV\n",
            "Duration of video [s]:  10.45 , recorded with  30.06 fps!\n",
            "Overall # of frames:  314  found with (before cropping) frame dimensions:  1736 300\n",
            "Starting to extract posture\n"
          ]
        },
        {
          "output_type": "stream",
          "name": "stderr",
          "text": [
            " 99%|█████████▊| 310/314 [00:14<00:00, 21.26it/s]\n"
          ]
        },
        {
          "output_type": "stream",
          "name": "stdout",
          "text": [
            "Saving results in /content/drive/My Drive/TF2Projects/beam-DS-2022-07-26/videos...\n",
            "Starting to analyze %  /content/drive/My Drive/TF2Projects/beam-DS-2022-07-26/videos/220721_2471_N2.MOV\n",
            "Loading  /content/drive/My Drive/TF2Projects/beam-DS-2022-07-26/videos/220721_2471_N2.MOV\n",
            "Duration of video [s]:  15.21 , recorded with  30.04 fps!\n",
            "Overall # of frames:  457  found with (before cropping) frame dimensions:  1298 224\n",
            "Starting to extract posture\n"
          ]
        },
        {
          "output_type": "stream",
          "name": "stderr",
          "text": [
            " 98%|█████████▊| 450/457 [00:11<00:00, 38.21it/s]\n"
          ]
        },
        {
          "output_type": "stream",
          "name": "stdout",
          "text": [
            "Saving results in /content/drive/My Drive/TF2Projects/beam-DS-2022-07-26/videos...\n",
            "Starting to analyze %  /content/drive/My Drive/TF2Projects/beam-DS-2022-07-26/videos/Copy of 220718-2529-N1.MOV\n",
            "Loading  /content/drive/My Drive/TF2Projects/beam-DS-2022-07-26/videos/Copy of 220718-2529-N1.MOV\n",
            "Duration of video [s]:  18.02 , recorded with  30.02 fps!\n",
            "Overall # of frames:  541  found with (before cropping) frame dimensions:  1522 262\n",
            "Starting to extract posture\n"
          ]
        },
        {
          "output_type": "stream",
          "name": "stderr",
          "text": [
            "100%|█████████▉| 540/541 [00:19<00:00, 27.64it/s]\n"
          ]
        },
        {
          "output_type": "stream",
          "name": "stdout",
          "text": [
            "Saving results in /content/drive/My Drive/TF2Projects/beam-DS-2022-07-26/videos...\n",
            "Starting to analyze %  /content/drive/My Drive/TF2Projects/beam-DS-2022-07-26/videos/Copy of 220718-2527-W2.MOV\n",
            "Loading  /content/drive/My Drive/TF2Projects/beam-DS-2022-07-26/videos/Copy of 220718-2527-W2.MOV\n",
            "Duration of video [s]:  20.23 , recorded with  30.0 fps!\n",
            "Overall # of frames:  607  found with (before cropping) frame dimensions:  1904 328\n",
            "Starting to extract posture\n"
          ]
        },
        {
          "output_type": "stream",
          "name": "stderr",
          "text": [
            " 99%|█████████▉| 600/607 [00:33<00:00, 18.14it/s]\n"
          ]
        },
        {
          "output_type": "stream",
          "name": "stdout",
          "text": [
            "Saving results in /content/drive/My Drive/TF2Projects/beam-DS-2022-07-26/videos...\n",
            "Starting to analyze %  /content/drive/My Drive/TF2Projects/beam-DS-2022-07-26/videos/Copy of 220718-2524-W1.MOV\n",
            "Loading  /content/drive/My Drive/TF2Projects/beam-DS-2022-07-26/videos/Copy of 220718-2524-W1.MOV\n",
            "Duration of video [s]:  35.98 , recorded with  30.02 fps!\n",
            "Overall # of frames:  1080  found with (before cropping) frame dimensions:  1716 300\n",
            "Starting to extract posture\n"
          ]
        },
        {
          "output_type": "stream",
          "name": "stderr",
          "text": [
            "100%|██████████| 1080/1080 [00:50<00:00, 21.52it/s]\n"
          ]
        },
        {
          "output_type": "stream",
          "name": "stdout",
          "text": [
            "Saving results in /content/drive/My Drive/TF2Projects/beam-DS-2022-07-26/videos...\n",
            "Starting to analyze %  /content/drive/My Drive/TF2Projects/beam-DS-2022-07-26/videos/220721_2473_N3.MOV\n",
            "Loading  /content/drive/My Drive/TF2Projects/beam-DS-2022-07-26/videos/220721_2473_N3.MOV\n",
            "Duration of video [s]:  40.57 , recorded with  30.0 fps!\n",
            "Overall # of frames:  1217  found with (before cropping) frame dimensions:  1272 220\n",
            "Starting to extract posture\n"
          ]
        },
        {
          "output_type": "stream",
          "name": "stderr",
          "text": [
            "100%|█████████▉| 1212/1217 [00:29<00:00, 40.42it/s]\n"
          ]
        },
        {
          "output_type": "stream",
          "name": "stdout",
          "text": [
            "Saving results in /content/drive/My Drive/TF2Projects/beam-DS-2022-07-26/videos...\n",
            "Starting to analyze %  /content/drive/My Drive/TF2Projects/beam-DS-2022-07-26/videos/Copy of 220715-2547-W2.MOV\n",
            "Loading  /content/drive/My Drive/TF2Projects/beam-DS-2022-07-26/videos/Copy of 220715-2547-W2.MOV\n",
            "Duration of video [s]:  15.59 , recorded with  30.02 fps!\n",
            "Overall # of frames:  468  found with (before cropping) frame dimensions:  1324 254\n",
            "Starting to extract posture\n"
          ]
        },
        {
          "output_type": "stream",
          "name": "stderr",
          "text": [
            " 98%|█████████▊| 460/468 [00:14<00:00, 31.97it/s]\n"
          ]
        },
        {
          "output_type": "stream",
          "name": "stdout",
          "text": [
            "Saving results in /content/drive/My Drive/TF2Projects/beam-DS-2022-07-26/videos...\n",
            "Starting to analyze %  /content/drive/My Drive/TF2Projects/beam-DS-2022-07-26/videos/Copy of 220715-2546-W1.MOV\n",
            "Loading  /content/drive/My Drive/TF2Projects/beam-DS-2022-07-26/videos/Copy of 220715-2546-W1.MOV\n",
            "Duration of video [s]:  97.9 , recorded with  30.0 fps!\n",
            "Overall # of frames:  2937  found with (before cropping) frame dimensions:  1412 254\n",
            "Starting to extract posture\n"
          ]
        },
        {
          "output_type": "stream",
          "name": "stderr",
          "text": [
            "100%|█████████▉| 2929/2937 [01:28<00:00, 33.06it/s]\n"
          ]
        },
        {
          "output_type": "stream",
          "name": "stdout",
          "text": [
            "Saving results in /content/drive/My Drive/TF2Projects/beam-DS-2022-07-26/videos...\n",
            "Starting to analyze %  /content/drive/My Drive/TF2Projects/beam-DS-2022-07-26/videos/Copy of 220715-2539-W1.MOV\n",
            "Loading  /content/drive/My Drive/TF2Projects/beam-DS-2022-07-26/videos/Copy of 220715-2539-W1.MOV\n",
            "Duration of video [s]:  24.96 , recorded with  30.01 fps!\n",
            "Overall # of frames:  749  found with (before cropping) frame dimensions:  1488 286\n",
            "Starting to extract posture\n"
          ]
        },
        {
          "output_type": "stream",
          "name": "stderr",
          "text": [
            " 99%|█████████▉| 740/749 [00:28<00:00, 25.70it/s]\n"
          ]
        },
        {
          "output_type": "stream",
          "name": "stdout",
          "text": [
            "Saving results in /content/drive/My Drive/TF2Projects/beam-DS-2022-07-26/videos...\n",
            "Starting to analyze %  /content/drive/My Drive/TF2Projects/beam-DS-2022-07-26/videos/Copy of 220718-2529-W3.MOV\n",
            "Loading  /content/drive/My Drive/TF2Projects/beam-DS-2022-07-26/videos/Copy of 220718-2529-W3.MOV\n",
            "Duration of video [s]:  33.17 , recorded with  30.0 fps!\n",
            "Overall # of frames:  995  found with (before cropping) frame dimensions:  1792 310\n",
            "Starting to extract posture\n"
          ]
        },
        {
          "output_type": "stream",
          "name": "stderr",
          "text": [
            " 99%|█████████▉| 990/995 [00:47<00:00, 21.04it/s]\n"
          ]
        },
        {
          "output_type": "stream",
          "name": "stdout",
          "text": [
            "Saving results in /content/drive/My Drive/TF2Projects/beam-DS-2022-07-26/videos...\n",
            "Starting to analyze %  /content/drive/My Drive/TF2Projects/beam-DS-2022-07-26/videos/220721_2489_W2.MOV\n",
            "Loading  /content/drive/My Drive/TF2Projects/beam-DS-2022-07-26/videos/220721_2489_W2.MOV\n",
            "Duration of video [s]:  22.3 , recorded with  30.04 fps!\n",
            "Overall # of frames:  670  found with (before cropping) frame dimensions:  1412 246\n",
            "Starting to extract posture\n"
          ]
        },
        {
          "output_type": "stream",
          "name": "stderr",
          "text": [
            "100%|██████████| 670/670 [00:21<00:00, 31.20it/s]\n"
          ]
        },
        {
          "output_type": "stream",
          "name": "stdout",
          "text": [
            "Saving results in /content/drive/My Drive/TF2Projects/beam-DS-2022-07-26/videos...\n",
            "Starting to analyze %  /content/drive/My Drive/TF2Projects/beam-DS-2022-07-26/videos/Copy of 220718-2529-N3.MOV\n",
            "Loading  /content/drive/My Drive/TF2Projects/beam-DS-2022-07-26/videos/Copy of 220718-2529-N3.MOV\n",
            "Duration of video [s]:  16.04 , recorded with  30.06 fps!\n",
            "Overall # of frames:  482  found with (before cropping) frame dimensions:  1676 290\n",
            "Starting to extract posture\n"
          ]
        },
        {
          "output_type": "stream",
          "name": "stderr",
          "text": [
            "100%|█████████▉| 480/482 [00:21<00:00, 22.08it/s]\n"
          ]
        },
        {
          "output_type": "stream",
          "name": "stdout",
          "text": [
            "Saving results in /content/drive/My Drive/TF2Projects/beam-DS-2022-07-26/videos...\n",
            "Starting to analyze %  /content/drive/My Drive/TF2Projects/beam-DS-2022-07-26/videos/220721_2471_N3.MOV\n",
            "Loading  /content/drive/My Drive/TF2Projects/beam-DS-2022-07-26/videos/220721_2471_N3.MOV\n",
            "Duration of video [s]:  21.23 , recorded with  30.0 fps!\n",
            "Overall # of frames:  637  found with (before cropping) frame dimensions:  1320 228\n",
            "Starting to extract posture\n"
          ]
        },
        {
          "output_type": "stream",
          "name": "stderr",
          "text": [
            " 99%|█████████▉| 630/637 [00:17<00:00, 35.68it/s]\n"
          ]
        },
        {
          "output_type": "stream",
          "name": "stdout",
          "text": [
            "Saving results in /content/drive/My Drive/TF2Projects/beam-DS-2022-07-26/videos...\n",
            "Starting to analyze %  /content/drive/My Drive/TF2Projects/beam-DS-2022-07-26/videos/Copy of 220715-2505-N2.MOV\n",
            "Loading  /content/drive/My Drive/TF2Projects/beam-DS-2022-07-26/videos/Copy of 220715-2505-N2.MOV\n",
            "Duration of video [s]:  42.59 , recorded with  30.0 fps!\n",
            "Overall # of frames:  1278  found with (before cropping) frame dimensions:  1696 300\n",
            "Starting to extract posture\n"
          ]
        },
        {
          "output_type": "stream",
          "name": "stderr",
          "text": [
            "100%|█████████▉| 1272/1278 [00:58<00:00, 21.88it/s]\n"
          ]
        },
        {
          "output_type": "stream",
          "name": "stdout",
          "text": [
            "Saving results in /content/drive/My Drive/TF2Projects/beam-DS-2022-07-26/videos...\n",
            "Starting to analyze %  /content/drive/My Drive/TF2Projects/beam-DS-2022-07-26/videos/Copy of 220718-2528-N3.MOV\n",
            "Loading  /content/drive/My Drive/TF2Projects/beam-DS-2022-07-26/videos/Copy of 220718-2528-N3.MOV\n",
            "Duration of video [s]:  25.07 , recorded with  30.04 fps!\n",
            "Overall # of frames:  753  found with (before cropping) frame dimensions:  1682 290\n",
            "Starting to extract posture\n"
          ]
        },
        {
          "output_type": "stream",
          "name": "stderr",
          "text": [
            "100%|█████████▉| 750/753 [00:34<00:00, 21.70it/s]\n"
          ]
        },
        {
          "output_type": "stream",
          "name": "stdout",
          "text": [
            "Saving results in /content/drive/My Drive/TF2Projects/beam-DS-2022-07-26/videos...\n",
            "Starting to analyze %  /content/drive/My Drive/TF2Projects/beam-DS-2022-07-26/videos/Copy of 220718-2524-N1.MOV\n",
            "Loading  /content/drive/My Drive/TF2Projects/beam-DS-2022-07-26/videos/Copy of 220718-2524-N1.MOV\n",
            "Duration of video [s]:  11.79 , recorded with  30.02 fps!\n",
            "Overall # of frames:  354  found with (before cropping) frame dimensions:  1516 262\n",
            "Starting to extract posture\n"
          ]
        },
        {
          "output_type": "stream",
          "name": "stderr",
          "text": [
            " 99%|█████████▉| 350/354 [00:14<00:00, 24.14it/s]\n"
          ]
        },
        {
          "output_type": "stream",
          "name": "stdout",
          "text": [
            "Saving results in /content/drive/My Drive/TF2Projects/beam-DS-2022-07-26/videos...\n",
            "Starting to analyze %  /content/drive/My Drive/TF2Projects/beam-DS-2022-07-26/videos/Copy of 220718-2523-W1.MOV\n",
            "Loading  /content/drive/My Drive/TF2Projects/beam-DS-2022-07-26/videos/Copy of 220718-2523-W1.MOV\n",
            "Duration of video [s]:  32.57 , recorded with  30.0 fps!\n",
            "Overall # of frames:  977  found with (before cropping) frame dimensions:  1730 308\n",
            "Starting to extract posture\n"
          ]
        },
        {
          "output_type": "stream",
          "name": "stderr",
          "text": [
            " 99%|█████████▉| 970/977 [00:49<00:00, 19.64it/s]\n"
          ]
        },
        {
          "output_type": "stream",
          "name": "stdout",
          "text": [
            "Saving results in /content/drive/My Drive/TF2Projects/beam-DS-2022-07-26/videos...\n",
            "Starting to analyze %  /content/drive/My Drive/TF2Projects/beam-DS-2022-07-26/videos/Copy of 220718-2529-W2.MOV\n",
            "Loading  /content/drive/My Drive/TF2Projects/beam-DS-2022-07-26/videos/Copy of 220718-2529-W2.MOV\n",
            "Duration of video [s]:  9.83 , recorded with  30.02 fps!\n",
            "Overall # of frames:  295  found with (before cropping) frame dimensions:  1918 332\n",
            "Starting to extract posture\n"
          ]
        },
        {
          "output_type": "stream",
          "name": "stderr",
          "text": [
            " 98%|█████████▊| 290/295 [00:15<00:00, 18.23it/s]\n"
          ]
        },
        {
          "output_type": "stream",
          "name": "stdout",
          "text": [
            "Saving results in /content/drive/My Drive/TF2Projects/beam-DS-2022-07-26/videos...\n",
            "Starting to analyze %  /content/drive/My Drive/TF2Projects/beam-DS-2022-07-26/videos/Copy of 220718-2523-W2.MOV\n",
            "Loading  /content/drive/My Drive/TF2Projects/beam-DS-2022-07-26/videos/Copy of 220718-2523-W2.MOV\n",
            "Duration of video [s]:  15.33 , recorded with  30.0 fps!\n",
            "Overall # of frames:  460  found with (before cropping) frame dimensions:  1716 302\n",
            "Starting to extract posture\n"
          ]
        },
        {
          "output_type": "stream",
          "name": "stderr",
          "text": [
            "100%|██████████| 460/460 [00:21<00:00, 21.44it/s]\n"
          ]
        },
        {
          "output_type": "stream",
          "name": "stdout",
          "text": [
            "Saving results in /content/drive/My Drive/TF2Projects/beam-DS-2022-07-26/videos...\n",
            "Starting to analyze %  /content/drive/My Drive/TF2Projects/beam-DS-2022-07-26/videos/Copy of 220715-2539-N1.MOV\n",
            "Loading  /content/drive/My Drive/TF2Projects/beam-DS-2022-07-26/videos/Copy of 220715-2539-N1.MOV\n",
            "Duration of video [s]:  20.03 , recorded with  30.0 fps!\n",
            "Overall # of frames:  601  found with (before cropping) frame dimensions:  1572 272\n",
            "Starting to extract posture\n"
          ]
        },
        {
          "output_type": "stream",
          "name": "stderr",
          "text": [
            "100%|█████████▉| 600/601 [00:24<00:00, 24.72it/s]\n"
          ]
        },
        {
          "output_type": "stream",
          "name": "stdout",
          "text": [
            "Saving results in /content/drive/My Drive/TF2Projects/beam-DS-2022-07-26/videos...\n",
            "Starting to analyze %  /content/drive/My Drive/TF2Projects/beam-DS-2022-07-26/videos/Copy of 220715-2546-W3.MOV\n",
            "Loading  /content/drive/My Drive/TF2Projects/beam-DS-2022-07-26/videos/Copy of 220715-2546-W3.MOV\n",
            "Duration of video [s]:  16.18 , recorded with  30.03 fps!\n",
            "Overall # of frames:  486  found with (before cropping) frame dimensions:  1464 254\n",
            "Starting to extract posture\n"
          ]
        },
        {
          "output_type": "stream",
          "name": "stderr",
          "text": [
            " 99%|█████████▉| 480/486 [00:17<00:00, 28.22it/s]\n"
          ]
        },
        {
          "output_type": "stream",
          "name": "stdout",
          "text": [
            "Saving results in /content/drive/My Drive/TF2Projects/beam-DS-2022-07-26/videos...\n",
            "Starting to analyze %  /content/drive/My Drive/TF2Projects/beam-DS-2022-07-26/videos/Copy of 220718-2525-N3.MOV\n",
            "Loading  /content/drive/My Drive/TF2Projects/beam-DS-2022-07-26/videos/Copy of 220718-2525-N3.MOV\n",
            "Duration of video [s]:  30.33 , recorded with  30.0 fps!\n",
            "Overall # of frames:  910  found with (before cropping) frame dimensions:  1470 254\n",
            "Starting to extract posture\n"
          ]
        },
        {
          "output_type": "stream",
          "name": "stderr",
          "text": [
            "100%|██████████| 910/910 [00:28<00:00, 31.78it/s]\n"
          ]
        },
        {
          "output_type": "stream",
          "name": "stdout",
          "text": [
            "Saving results in /content/drive/My Drive/TF2Projects/beam-DS-2022-07-26/videos...\n",
            "Starting to analyze %  /content/drive/My Drive/TF2Projects/beam-DS-2022-07-26/videos/Copy of 220715-2545-N2.MOV\n",
            "Loading  /content/drive/My Drive/TF2Projects/beam-DS-2022-07-26/videos/Copy of 220715-2545-N2.MOV\n",
            "Duration of video [s]:  18.32 , recorded with  30.03 fps!\n",
            "Overall # of frames:  550  found with (before cropping) frame dimensions:  1616 304\n",
            "Starting to extract posture\n"
          ]
        },
        {
          "output_type": "stream",
          "name": "stderr",
          "text": [
            "100%|██████████| 550/550 [00:23<00:00, 23.04it/s]\n"
          ]
        },
        {
          "output_type": "stream",
          "name": "stdout",
          "text": [
            "Saving results in /content/drive/My Drive/TF2Projects/beam-DS-2022-07-26/videos...\n",
            "Starting to analyze %  /content/drive/My Drive/TF2Projects/beam-DS-2022-07-26/videos/Copy of 220715-2503-N3.MOV\n",
            "Loading  /content/drive/My Drive/TF2Projects/beam-DS-2022-07-26/videos/Copy of 220715-2503-N3.MOV\n",
            "Duration of video [s]:  110.42 , recorded with  30.0 fps!\n",
            "Overall # of frames:  3313  found with (before cropping) frame dimensions:  1646 286\n",
            "Starting to extract posture\n"
          ]
        },
        {
          "output_type": "stream",
          "name": "stderr",
          "text": [
            "100%|█████████▉| 3300/3313 [02:16<00:00, 24.20it/s]\n"
          ]
        },
        {
          "output_type": "stream",
          "name": "stdout",
          "text": [
            "Saving results in /content/drive/My Drive/TF2Projects/beam-DS-2022-07-26/videos...\n",
            "Starting to analyze %  /content/drive/My Drive/TF2Projects/beam-DS-2022-07-26/videos/Copy of 220718-2527-W3.MOV\n",
            "Loading  /content/drive/My Drive/TF2Projects/beam-DS-2022-07-26/videos/Copy of 220718-2527-W3.MOV\n",
            "Duration of video [s]:  32.31 , recorded with  30.02 fps!\n",
            "Overall # of frames:  970  found with (before cropping) frame dimensions:  1908 328\n",
            "Starting to extract posture\n"
          ]
        },
        {
          "output_type": "stream",
          "name": "stderr",
          "text": [
            "100%|██████████| 970/970 [00:53<00:00, 18.22it/s]\n"
          ]
        },
        {
          "output_type": "stream",
          "name": "stdout",
          "text": [
            "Saving results in /content/drive/My Drive/TF2Projects/beam-DS-2022-07-26/videos...\n",
            "Starting to analyze %  /content/drive/My Drive/TF2Projects/beam-DS-2022-07-26/videos/220721_2474_N3.MOV\n",
            "Loading  /content/drive/My Drive/TF2Projects/beam-DS-2022-07-26/videos/220721_2474_N3.MOV\n",
            "Duration of video [s]:  20.92 , recorded with  30.02 fps!\n",
            "Overall # of frames:  628  found with (before cropping) frame dimensions:  1370 236\n",
            "Starting to extract posture\n"
          ]
        },
        {
          "output_type": "stream",
          "name": "stderr",
          "text": [
            " 99%|█████████▊| 620/628 [00:18<00:00, 33.87it/s]\n"
          ]
        },
        {
          "output_type": "stream",
          "name": "stdout",
          "text": [
            "Saving results in /content/drive/My Drive/TF2Projects/beam-DS-2022-07-26/videos...\n",
            "Starting to analyze %  /content/drive/My Drive/TF2Projects/beam-DS-2022-07-26/videos/Copy of 220718-2525-N2.MOV\n",
            "Loading  /content/drive/My Drive/TF2Projects/beam-DS-2022-07-26/videos/Copy of 220718-2525-N2.MOV\n",
            "Duration of video [s]:  12.37 , recorded with  30.07 fps!\n",
            "Overall # of frames:  372  found with (before cropping) frame dimensions:  1514 260\n",
            "Starting to extract posture\n"
          ]
        },
        {
          "output_type": "stream",
          "name": "stderr",
          "text": [
            " 99%|█████████▉| 370/372 [00:13<00:00, 26.87it/s]\n"
          ]
        },
        {
          "output_type": "stream",
          "name": "stdout",
          "text": [
            "Saving results in /content/drive/My Drive/TF2Projects/beam-DS-2022-07-26/videos...\n",
            "Starting to analyze %  /content/drive/My Drive/TF2Projects/beam-DS-2022-07-26/videos/220721_2489_N1.MOV\n",
            "Loading  /content/drive/My Drive/TF2Projects/beam-DS-2022-07-26/videos/220721_2489_N1.MOV\n",
            "Duration of video [s]:  14.43 , recorded with  30.0 fps!\n",
            "Overall # of frames:  433  found with (before cropping) frame dimensions:  1318 228\n",
            "Starting to extract posture\n"
          ]
        },
        {
          "output_type": "stream",
          "name": "stderr",
          "text": [
            " 99%|█████████▉| 430/433 [00:11<00:00, 36.43it/s]\n"
          ]
        },
        {
          "output_type": "stream",
          "name": "stdout",
          "text": [
            "Saving results in /content/drive/My Drive/TF2Projects/beam-DS-2022-07-26/videos...\n",
            "Starting to analyze %  /content/drive/My Drive/TF2Projects/beam-DS-2022-07-26/videos/Copy of 220718-2523-W3.MOV\n",
            "Loading  /content/drive/My Drive/TF2Projects/beam-DS-2022-07-26/videos/Copy of 220718-2523-W3.MOV\n",
            "Duration of video [s]:  18.5 , recorded with  30.0 fps!\n",
            "Overall # of frames:  555  found with (before cropping) frame dimensions:  1678 290\n",
            "Starting to extract posture\n"
          ]
        },
        {
          "output_type": "stream",
          "name": "stderr",
          "text": [
            " 99%|█████████▉| 550/555 [00:25<00:00, 21.95it/s]\n"
          ]
        },
        {
          "output_type": "stream",
          "name": "stdout",
          "text": [
            "Saving results in /content/drive/My Drive/TF2Projects/beam-DS-2022-07-26/videos...\n",
            "Starting to analyze %  /content/drive/My Drive/TF2Projects/beam-DS-2022-07-26/videos/Copy of 220715-2539-N3.MOV\n",
            "Loading  /content/drive/My Drive/TF2Projects/beam-DS-2022-07-26/videos/Copy of 220715-2539-N3.MOV\n",
            "Duration of video [s]:  9.82 , recorded with  30.04 fps!\n",
            "Overall # of frames:  295  found with (before cropping) frame dimensions:  1720 296\n",
            "Starting to extract posture\n"
          ]
        },
        {
          "output_type": "stream",
          "name": "stderr",
          "text": [
            " 98%|█████████▊| 290/295 [00:14<00:00, 19.73it/s]\n"
          ]
        },
        {
          "output_type": "stream",
          "name": "stdout",
          "text": [
            "Saving results in /content/drive/My Drive/TF2Projects/beam-DS-2022-07-26/videos...\n",
            "Starting to analyze %  /content/drive/My Drive/TF2Projects/beam-DS-2022-07-26/videos/Copy of 220718-2524-W3.MOV\n",
            "Loading  /content/drive/My Drive/TF2Projects/beam-DS-2022-07-26/videos/Copy of 220718-2524-W3.MOV\n",
            "Duration of video [s]:  15.03 , recorded with  30.0 fps!\n",
            "Overall # of frames:  451  found with (before cropping) frame dimensions:  1700 294\n",
            "Starting to extract posture\n"
          ]
        },
        {
          "output_type": "stream",
          "name": "stderr",
          "text": [
            "100%|█████████▉| 450/451 [00:21<00:00, 20.89it/s]\n"
          ]
        },
        {
          "output_type": "stream",
          "name": "stdout",
          "text": [
            "Saving results in /content/drive/My Drive/TF2Projects/beam-DS-2022-07-26/videos...\n",
            "Starting to analyze %  /content/drive/My Drive/TF2Projects/beam-DS-2022-07-26/videos/220721_2487_N2.MOV\n",
            "Loading  /content/drive/My Drive/TF2Projects/beam-DS-2022-07-26/videos/220721_2487_N2.MOV\n",
            "Duration of video [s]:  13.66 , recorded with  30.02 fps!\n",
            "Overall # of frames:  410  found with (before cropping) frame dimensions:  1338 232\n",
            "Starting to extract posture\n"
          ]
        },
        {
          "output_type": "stream",
          "name": "stderr",
          "text": [
            "100%|██████████| 410/410 [00:12<00:00, 34.14it/s]\n"
          ]
        },
        {
          "output_type": "stream",
          "name": "stdout",
          "text": [
            "Saving results in /content/drive/My Drive/TF2Projects/beam-DS-2022-07-26/videos...\n",
            "Starting to analyze %  /content/drive/My Drive/TF2Projects/beam-DS-2022-07-26/videos/Copy of 220715-2505-W2.MOV\n",
            "Loading  /content/drive/My Drive/TF2Projects/beam-DS-2022-07-26/videos/Copy of 220715-2505-W2.MOV\n",
            "Duration of video [s]:  24.27 , recorded with  30.03 fps!\n",
            "Overall # of frames:  729  found with (before cropping) frame dimensions:  1472 294\n",
            "Starting to extract posture\n"
          ]
        },
        {
          "output_type": "stream",
          "name": "stderr",
          "text": [
            " 99%|█████████▉| 720/729 [00:28<00:00, 25.47it/s]\n"
          ]
        },
        {
          "output_type": "stream",
          "name": "stdout",
          "text": [
            "Saving results in /content/drive/My Drive/TF2Projects/beam-DS-2022-07-26/videos...\n",
            "Starting to analyze %  /content/drive/My Drive/TF2Projects/beam-DS-2022-07-26/videos/Copy of 220715-2539-N2.MOV\n",
            "Loading  /content/drive/My Drive/TF2Projects/beam-DS-2022-07-26/videos/Copy of 220715-2539-N2.MOV\n",
            "Duration of video [s]:  66.57 , recorded with  30.0 fps!\n",
            "Overall # of frames:  1997  found with (before cropping) frame dimensions:  1624 304\n",
            "Starting to extract posture\n"
          ]
        },
        {
          "output_type": "stream",
          "name": "stderr",
          "text": [
            "100%|█████████▉| 1995/1997 [01:26<00:00, 22.99it/s]"
          ]
        },
        {
          "output_type": "stream",
          "name": "stdout",
          "text": [
            "Saving results in /content/drive/My Drive/TF2Projects/beam-DS-2022-07-26/videos...\n",
            "The videos are analyzed. Now your research can truly start! \n",
            " You can create labeled videos with 'create_labeled_video'\n",
            "If the tracking is not satisfactory for some videos, consider expanding the training set. You can use the function 'extract_outlier_frames' to extract a few representative outlier frames.\n"
          ]
        },
        {
          "output_type": "stream",
          "name": "stderr",
          "text": [
            "\n"
          ]
        },
        {
          "output_type": "execute_result",
          "data": {
            "text/plain": [
              "'DLC_resnet50_beamJul26shuffle1_300000'"
            ],
            "application/vnd.google.colaboratory.intrinsic+json": {
              "type": "string"
            }
          },
          "metadata": {},
          "execution_count": 12
        }
      ]
    },
    {
      "cell_type": "markdown",
      "metadata": {
        "id": "LrkIDiciSWH1"
      },
      "source": [
        "You can also now filter your data to smooth any small jitters:"
      ]
    },
    {
      "cell_type": "code",
      "metadata": {
        "id": "X8SmVAIkSbLp",
        "colab": {
          "base_uri": "https://localhost:8080/"
        },
        "outputId": "13d29316-7eb0-4a3c-b99d-1248da0ac0bf"
      },
      "source": [
        "deeplabcut.filterpredictions(path_config_file, videofile_path, videotype=VideoType, shuffle=SHUF)"
      ],
      "execution_count": null,
      "outputs": [
        {
          "output_type": "stream",
          "name": "stdout",
          "text": [
            "Analyzing all the videos in the directory...\n",
            "Filtering with median model /content/drive/My Drive/TF2Projects/beam-DS-2022-07-26/videos/220721_2471_N2.MOV\n",
            "Saving filtered csv poses!\n",
            "Filtering with median model /content/drive/My Drive/TF2Projects/beam-DS-2022-07-26/videos/Copy of 220715-2538-W1.MOV\n",
            "Saving filtered csv poses!\n",
            "Filtering with median model /content/drive/My Drive/TF2Projects/beam-DS-2022-07-26/videos/Copy of 220718-2526-W1.MOV\n",
            "Saving filtered csv poses!\n",
            "Filtering with median model /content/drive/My Drive/TF2Projects/beam-DS-2022-07-26/videos/Copy of 220718-2523-N3.MOV\n",
            "Saving filtered csv poses!\n",
            "Filtering with median model /content/drive/My Drive/TF2Projects/beam-DS-2022-07-26/videos/220721_2471_W1.MOV\n",
            "Saving filtered csv poses!\n",
            "Filtering with median model /content/drive/My Drive/TF2Projects/beam-DS-2022-07-26/videos/220721_2474_N2.MOV\n",
            "Saving filtered csv poses!\n",
            "Filtering with median model /content/drive/My Drive/TF2Projects/beam-DS-2022-07-26/videos/Copy of 220715-2547-N1.MOV\n",
            "Saving filtered csv poses!\n",
            "Filtering with median model /content/drive/My Drive/TF2Projects/beam-DS-2022-07-26/videos/220721_2487_N2.MOV\n",
            "Saving filtered csv poses!\n",
            "Filtering with median model /content/drive/My Drive/TF2Projects/beam-DS-2022-07-26/videos/Copy of 220715-2546-W3.MOV\n",
            "Saving filtered csv poses!\n",
            "Filtering with median model /content/drive/My Drive/TF2Projects/beam-DS-2022-07-26/videos/Copy of 220718-2526-N2.MOV\n",
            "Saving filtered csv poses!\n",
            "Filtering with median model /content/drive/My Drive/TF2Projects/beam-DS-2022-07-26/videos/Copy of 220715-2505-N2.MOV\n",
            "Saving filtered csv poses!\n",
            "Filtering with median model /content/drive/My Drive/TF2Projects/beam-DS-2022-07-26/videos/Copy of 220718-2529-N2.MOV\n",
            "Saving filtered csv poses!\n",
            "Filtering with median model /content/drive/My Drive/TF2Projects/beam-DS-2022-07-26/videos/Copy of 220718-2526-W2.MOV\n",
            "Saving filtered csv poses!\n",
            "Filtering with median model /content/drive/My Drive/TF2Projects/beam-DS-2022-07-26/videos/220721_2471_W3.MOV\n",
            "Saving filtered csv poses!\n",
            "Filtering with median model /content/drive/My Drive/TF2Projects/beam-DS-2022-07-26/videos/220721_2471_W2.MOV\n",
            "Saving filtered csv poses!\n",
            "Filtering with median model /content/drive/My Drive/TF2Projects/beam-DS-2022-07-26/videos/220721_2471_N3.MOV\n",
            "Saving filtered csv poses!\n",
            "Filtering with median model /content/drive/My Drive/TF2Projects/beam-DS-2022-07-26/videos/Copy of 220718-2523-W1.MOV\n",
            "Saving filtered csv poses!\n",
            "Filtering with median model /content/drive/My Drive/TF2Projects/beam-DS-2022-07-26/videos/220721_2472_W2.MOV\n",
            "Saving filtered csv poses!\n",
            "Filtering with median model /content/drive/My Drive/TF2Projects/beam-DS-2022-07-26/videos/Copy of 220718-2529-N1.MOV\n",
            "Saving filtered csv poses!\n",
            "Filtering with median model /content/drive/My Drive/TF2Projects/beam-DS-2022-07-26/videos/220721_2473_W1.MOV\n",
            "Saving filtered csv poses!\n",
            "Filtering with median model /content/drive/My Drive/TF2Projects/beam-DS-2022-07-26/videos/Copy of 220718-2524-N3.MOV\n",
            "Saving filtered csv poses!\n",
            "Filtering with median model /content/drive/My Drive/TF2Projects/beam-DS-2022-07-26/videos/Copy of 220718-2525-W1.MOV\n",
            "Saving filtered csv poses!\n",
            "Filtering with median model /content/drive/My Drive/TF2Projects/beam-DS-2022-07-26/videos/Copy of 220715-2545-W3.MOV\n",
            "Saving filtered csv poses!\n",
            "Filtering with median model /content/drive/My Drive/TF2Projects/beam-DS-2022-07-26/videos/Copy of 220715-2545-N2.MOV\n",
            "Saving filtered csv poses!\n",
            "Filtering with median model /content/drive/My Drive/TF2Projects/beam-DS-2022-07-26/videos/Copy of 220715-2546-N1.MOV\n",
            "Saving filtered csv poses!\n",
            "Filtering with median model /content/drive/My Drive/TF2Projects/beam-DS-2022-07-26/videos/Copy of 220715-2546-W1.MOV\n",
            "Saving filtered csv poses!\n",
            "Filtering with median model /content/drive/My Drive/TF2Projects/beam-DS-2022-07-26/videos/Copy of 220715-2505-W2.MOV\n",
            "Saving filtered csv poses!\n",
            "Filtering with median model /content/drive/My Drive/TF2Projects/beam-DS-2022-07-26/videos/220721_2489_N1.MOV\n",
            "Saving filtered csv poses!\n",
            "Filtering with median model /content/drive/My Drive/TF2Projects/beam-DS-2022-07-26/videos/220721_2473_N3.MOV\n",
            "Saving filtered csv poses!\n",
            "Filtering with median model /content/drive/My Drive/TF2Projects/beam-DS-2022-07-26/videos/220721_2473_W2.MOV\n",
            "Saving filtered csv poses!\n",
            "Filtering with median model /content/drive/My Drive/TF2Projects/beam-DS-2022-07-26/videos/Copy of 220718-2523-W3.MOV\n",
            "Saving filtered csv poses!\n",
            "Filtering with median model /content/drive/My Drive/TF2Projects/beam-DS-2022-07-26/videos/Copy of 220715-2545-N3.MOV\n",
            "Saving filtered csv poses!\n",
            "Filtering with median model /content/drive/My Drive/TF2Projects/beam-DS-2022-07-26/videos/Copy of 220718-2525-N2.MOV\n",
            "Saving filtered csv poses!\n",
            "Filtering with median model /content/drive/My Drive/TF2Projects/beam-DS-2022-07-26/videos/220721_2489_N2.MOV\n",
            "Saving filtered csv poses!\n",
            "Filtering with median model /content/drive/My Drive/TF2Projects/beam-DS-2022-07-26/videos/220721_2487_N1.MOV\n",
            "Saving filtered csv poses!\n",
            "Filtering with median model /content/drive/My Drive/TF2Projects/beam-DS-2022-07-26/videos/Copy of 220718-2527-N1.MOV\n",
            "Saving filtered csv poses!\n",
            "Filtering with median model /content/drive/My Drive/TF2Projects/beam-DS-2022-07-26/videos/Copy of 220718-2527-N2.MOV\n",
            "Saving filtered csv poses!\n",
            "Filtering with median model /content/drive/My Drive/TF2Projects/beam-DS-2022-07-26/videos/Copy of 220715-2538-N2.MOV\n",
            "Saving filtered csv poses!\n",
            "Filtering with median model /content/drive/My Drive/TF2Projects/beam-DS-2022-07-26/videos/Copy of 220718-2530-W1.MOV\n",
            "Saving filtered csv poses!\n",
            "Filtering with median model /content/drive/My Drive/TF2Projects/beam-DS-2022-07-26/videos/Copy of 220718-2525-W2.MOV\n",
            "Saving filtered csv poses!\n",
            "Filtering with median model /content/drive/My Drive/TF2Projects/beam-DS-2022-07-26/videos/220721_2473_W3.MOV\n",
            "Saving filtered csv poses!\n",
            "Filtering with median model /content/drive/My Drive/TF2Projects/beam-DS-2022-07-26/videos/Copy of 220715-2539-W1.MOV\n",
            "Saving filtered csv poses!\n",
            "Filtering with median model /content/drive/My Drive/TF2Projects/beam-DS-2022-07-26/videos/Copy of 220718-2525-N1.MOV\n",
            "Saving filtered csv poses!\n",
            "Filtering with median model /content/drive/My Drive/TF2Projects/beam-DS-2022-07-26/videos/Copy of 220718-2524-W3.MOV\n",
            "Saving filtered csv poses!\n",
            "Filtering with median model /content/drive/My Drive/TF2Projects/beam-DS-2022-07-26/videos/Copy of 220718-2528-N1.MOV\n",
            "Saving filtered csv poses!\n",
            "Filtering with median model /content/drive/My Drive/TF2Projects/beam-DS-2022-07-26/videos/Copy of 220718-2527-W3.MOV\n",
            "Saving filtered csv poses!\n",
            "Filtering with median model /content/drive/My Drive/TF2Projects/beam-DS-2022-07-26/videos/Copy of 220718-2530-W3.MOV\n",
            "Saving filtered csv poses!\n",
            "Filtering with median model /content/drive/My Drive/TF2Projects/beam-DS-2022-07-26/videos/Copy of 220715-2503-N1.MOV\n",
            "Saving filtered csv poses!\n",
            "Filtering with median model /content/drive/My Drive/TF2Projects/beam-DS-2022-07-26/videos/Copy of 220718-2528-W2.MOV\n",
            "Saving filtered csv poses!\n",
            "Filtering with median model /content/drive/My Drive/TF2Projects/beam-DS-2022-07-26/videos/Copy of 220715-2547-W2.MOV\n",
            "Saving filtered csv poses!\n",
            "Filtering with median model /content/drive/My Drive/TF2Projects/beam-DS-2022-07-26/videos/Copy of 220718-2526-W3.MOV\n",
            "Saving filtered csv poses!\n",
            "Filtering with median model /content/drive/My Drive/TF2Projects/beam-DS-2022-07-26/videos/Copy of 220715-2503-N3.MOV\n",
            "Saving filtered csv poses!\n",
            "Filtering with median model /content/drive/My Drive/TF2Projects/beam-DS-2022-07-26/videos/Copy of 220718-2523-N1.MOV\n",
            "Saving filtered csv poses!\n",
            "Filtering with median model /content/drive/My Drive/TF2Projects/beam-DS-2022-07-26/videos/220721_2487_W3.MOV\n",
            "Saving filtered csv poses!\n",
            "Filtering with median model /content/drive/My Drive/TF2Projects/beam-DS-2022-07-26/videos/Copy of 220715-2539-W2.MOV\n",
            "Saving filtered csv poses!\n",
            "Filtering with median model /content/drive/My Drive/TF2Projects/beam-DS-2022-07-26/videos/Copy of 220715-2538-W3.MOV\n",
            "Saving filtered csv poses!\n",
            "Filtering with median model /content/drive/My Drive/TF2Projects/beam-DS-2022-07-26/videos/220721_2473_N1.MOV\n",
            "Saving filtered csv poses!\n",
            "Filtering with median model /content/drive/My Drive/TF2Projects/beam-DS-2022-07-26/videos/Copy of 220715-2505-W3.MOV\n",
            "Saving filtered csv poses!\n",
            "Filtering with median model /content/drive/My Drive/TF2Projects/beam-DS-2022-07-26/videos/Copy of 220715-2546-N2.MOV\n",
            "Saving filtered csv poses!\n",
            "Filtering with median model /content/drive/My Drive/TF2Projects/beam-DS-2022-07-26/videos/Copy of 220715-2545-N1.MOV\n",
            "Saving filtered csv poses!\n",
            "Filtering with median model /content/drive/My Drive/TF2Projects/beam-DS-2022-07-26/videos/220721_2472_N1.MOV\n",
            "Saving filtered csv poses!\n",
            "Filtering with median model /content/drive/My Drive/TF2Projects/beam-DS-2022-07-26/videos/Copy of 220718-2530-W2.MOV\n",
            "Saving filtered csv poses!\n",
            "Filtering with median model /content/drive/My Drive/TF2Projects/beam-DS-2022-07-26/videos/Copy of 220715-2545-W2.MOV\n",
            "Saving filtered csv poses!\n",
            "Filtering with median model /content/drive/My Drive/TF2Projects/beam-DS-2022-07-26/videos/Copy of 220715-2539-N1.MOV\n",
            "Saving filtered csv poses!\n",
            "Filtering with median model /content/drive/My Drive/TF2Projects/beam-DS-2022-07-26/videos/220721_2489_W3.MOV\n",
            "Saving filtered csv poses!\n",
            "Filtering with median model /content/drive/My Drive/TF2Projects/beam-DS-2022-07-26/videos/Copy of 220718-2524-W1.MOV\n",
            "Saving filtered csv poses!\n",
            "Filtering with median model /content/drive/My Drive/TF2Projects/beam-DS-2022-07-26/videos/Copy of 220718-2527-N3.MOV\n",
            "Saving filtered csv poses!\n",
            "Filtering with median model /content/drive/My Drive/TF2Projects/beam-DS-2022-07-26/videos/Copy of 220715-2505-N3.MOV\n",
            "Saving filtered csv poses!\n",
            "Filtering with median model /content/drive/My Drive/TF2Projects/beam-DS-2022-07-26/videos/Copy of 220715-2503-N2.MOV\n",
            "Saving filtered csv poses!\n",
            "Filtering with median model /content/drive/My Drive/TF2Projects/beam-DS-2022-07-26/videos/220721_2474_N1.MOV\n",
            "Saving filtered csv poses!\n",
            "Filtering with median model /content/drive/My Drive/TF2Projects/beam-DS-2022-07-26/videos/Copy of 220715-2503-W1.MOV\n",
            "Saving filtered csv poses!\n",
            "Filtering with median model /content/drive/My Drive/TF2Projects/beam-DS-2022-07-26/videos/Copy of 220715-2503-W3.MOV\n",
            "Saving filtered csv poses!\n",
            "Filtering with median model /content/drive/My Drive/TF2Projects/beam-DS-2022-07-26/videos/220721_2473_N2.MOV\n",
            "Saving filtered csv poses!\n",
            "Filtering with median model /content/drive/My Drive/TF2Projects/beam-DS-2022-07-26/videos/220721_2474_N3.MOV\n",
            "Saving filtered csv poses!\n",
            "Filtering with median model /content/drive/My Drive/TF2Projects/beam-DS-2022-07-26/videos/Copy of 220718-2529-N3.MOV\n",
            "Saving filtered csv poses!\n",
            "Filtering with median model /content/drive/My Drive/TF2Projects/beam-DS-2022-07-26/videos/220721_2489_N3.MOV\n",
            "Saving filtered csv poses!\n",
            "Filtering with median model /content/drive/My Drive/TF2Projects/beam-DS-2022-07-26/videos/Copy of 220718-2530-N3.MOV\n",
            "Saving filtered csv poses!\n",
            "Filtering with median model /content/drive/My Drive/TF2Projects/beam-DS-2022-07-26/videos/Copy of 220718-2523-W2.MOV\n",
            "Saving filtered csv poses!\n",
            "Filtering with median model /content/drive/My Drive/TF2Projects/beam-DS-2022-07-26/videos/220721_2471_N1.MOV\n",
            "Saving filtered csv poses!\n",
            "Filtering with median model /content/drive/My Drive/TF2Projects/beam-DS-2022-07-26/videos/220721_2487_W1.MOV\n",
            "Saving filtered csv poses!\n",
            "Filtering with median model /content/drive/My Drive/TF2Projects/beam-DS-2022-07-26/videos/220721_2474_W3.MOV\n",
            "Saving filtered csv poses!\n",
            "Filtering with median model /content/drive/My Drive/TF2Projects/beam-DS-2022-07-26/videos/Copy of 220718-2524-N2.MOV\n",
            "Saving filtered csv poses!\n",
            "Filtering with median model /content/drive/My Drive/TF2Projects/beam-DS-2022-07-26/videos/Copy of 220715-2505-W1.MOV\n",
            "Saving filtered csv poses!\n",
            "Filtering with median model /content/drive/My Drive/TF2Projects/beam-DS-2022-07-26/videos/Copy of 220718-2528-N2.MOV\n",
            "Saving filtered csv poses!\n",
            "Filtering with median model /content/drive/My Drive/TF2Projects/beam-DS-2022-07-26/videos/Copy of 220715-2547-N2.MOV\n",
            "Saving filtered csv poses!\n",
            "Filtering with median model /content/drive/My Drive/TF2Projects/beam-DS-2022-07-26/videos/220721_2489_W1.MOV\n",
            "Saving filtered csv poses!\n",
            "Filtering with median model /content/drive/My Drive/TF2Projects/beam-DS-2022-07-26/videos/Copy of 220718-2525-W3.MOV\n",
            "Saving filtered csv poses!\n",
            "Filtering with median model /content/drive/My Drive/TF2Projects/beam-DS-2022-07-26/videos/220721_2487_N3.MOV\n",
            "Saving filtered csv poses!\n",
            "Filtering with median model /content/drive/My Drive/TF2Projects/beam-DS-2022-07-26/videos/Copy of 220718-2529-W2.MOV\n",
            "Saving filtered csv poses!\n",
            "Filtering with median model /content/drive/My Drive/TF2Projects/beam-DS-2022-07-26/videos/Copy of 220718-2526-N3.MOV\n",
            "Saving filtered csv poses!\n",
            "Filtering with median model /content/drive/My Drive/TF2Projects/beam-DS-2022-07-26/videos/Copy of 220715-2505-N1.MOV\n",
            "Saving filtered csv poses!\n",
            "Filtering with median model /content/drive/My Drive/TF2Projects/beam-DS-2022-07-26/videos/Copy of 220715-2539-N2.MOV\n",
            "Saving filtered csv poses!\n",
            "Filtering with median model /content/drive/My Drive/TF2Projects/beam-DS-2022-07-26/videos/Copy of 220715-2547-N3.MOV\n",
            "Saving filtered csv poses!\n",
            "Filtering with median model /content/drive/My Drive/TF2Projects/beam-DS-2022-07-26/videos/Copy of 220718-2529-W1.MOV\n",
            "Saving filtered csv poses!\n",
            "Filtering with median model /content/drive/My Drive/TF2Projects/beam-DS-2022-07-26/videos/Copy of 220715-2538-N1.MOV\n",
            "Saving filtered csv poses!\n",
            "Filtering with median model /content/drive/My Drive/TF2Projects/beam-DS-2022-07-26/videos/Copy of 220718-2525-N3.MOV\n",
            "Saving filtered csv poses!\n",
            "Filtering with median model /content/drive/My Drive/TF2Projects/beam-DS-2022-07-26/videos/Copy of 220715-2545-W1.MOV\n",
            "Saving filtered csv poses!\n",
            "Filtering with median model /content/drive/My Drive/TF2Projects/beam-DS-2022-07-26/videos/Copy of 220718-2529-W3.MOV\n",
            "Saving filtered csv poses!\n",
            "Filtering with median model /content/drive/My Drive/TF2Projects/beam-DS-2022-07-26/videos/Copy of 220715-2538-N3.MOV\n",
            "Saving filtered csv poses!\n",
            "Filtering with median model /content/drive/My Drive/TF2Projects/beam-DS-2022-07-26/videos/220721_2472_N2.MOV\n",
            "Saving filtered csv poses!\n",
            "Filtering with median model /content/drive/My Drive/TF2Projects/beam-DS-2022-07-26/videos/220721_2472_N3.MOV\n",
            "Saving filtered csv poses!\n",
            "Filtering with median model /content/drive/My Drive/TF2Projects/beam-DS-2022-07-26/videos/Copy of 220715-2539-W3.MOV\n",
            "Saving filtered csv poses!\n",
            "Filtering with median model /content/drive/My Drive/TF2Projects/beam-DS-2022-07-26/videos/Copy of 220715-2546-N3.MOV\n",
            "Saving filtered csv poses!\n",
            "Filtering with median model /content/drive/My Drive/TF2Projects/beam-DS-2022-07-26/videos/Copy of 220718-2530-N2.MOV\n",
            "Saving filtered csv poses!\n",
            "Filtering with median model /content/drive/My Drive/TF2Projects/beam-DS-2022-07-26/videos/Copy of 220718-2527-W2.MOV\n",
            "Saving filtered csv poses!\n",
            "Filtering with median model /content/drive/My Drive/TF2Projects/beam-DS-2022-07-26/videos/Copy of 220715-2546-W2.MOV\n",
            "Saving filtered csv poses!\n",
            "Filtering with median model /content/drive/My Drive/TF2Projects/beam-DS-2022-07-26/videos/220721_2489_W2.MOV\n",
            "Saving filtered csv poses!\n",
            "Filtering with median model /content/drive/My Drive/TF2Projects/beam-DS-2022-07-26/videos/Copy of 220715-2547-W1.MOV\n",
            "Saving filtered csv poses!\n",
            "Filtering with median model /content/drive/My Drive/TF2Projects/beam-DS-2022-07-26/videos/Copy of 220718-2524-N1.MOV\n",
            "Saving filtered csv poses!\n",
            "Filtering with median model /content/drive/My Drive/TF2Projects/beam-DS-2022-07-26/videos/Copy of 220718-2530-N1.MOV\n",
            "Saving filtered csv poses!\n",
            "Filtering with median model /content/drive/My Drive/TF2Projects/beam-DS-2022-07-26/videos/Copy of 220715-2538-W2.MOV\n",
            "Saving filtered csv poses!\n",
            "Filtering with median model /content/drive/My Drive/TF2Projects/beam-DS-2022-07-26/videos/Copy of 220718-2528-W3.MOV\n",
            "Saving filtered csv poses!\n",
            "Filtering with median model /content/drive/My Drive/TF2Projects/beam-DS-2022-07-26/videos/Copy of 220718-2523-N2.MOV\n",
            "Saving filtered csv poses!\n",
            "Filtering with median model /content/drive/My Drive/TF2Projects/beam-DS-2022-07-26/videos/Copy of 220715-2503-W2.MOV\n",
            "Saving filtered csv poses!\n",
            "Filtering with median model /content/drive/My Drive/TF2Projects/beam-DS-2022-07-26/videos/220721_2472_W3.MOV\n",
            "Saving filtered csv poses!\n",
            "Filtering with median model /content/drive/My Drive/TF2Projects/beam-DS-2022-07-26/videos/220721_2474_W2.MOV\n",
            "Saving filtered csv poses!\n",
            "Filtering with median model /content/drive/My Drive/TF2Projects/beam-DS-2022-07-26/videos/Copy of 220715-2539-N3.MOV\n",
            "Saving filtered csv poses!\n",
            "Filtering with median model /content/drive/My Drive/TF2Projects/beam-DS-2022-07-26/videos/Copy of 220718-2528-N3.MOV\n",
            "Saving filtered csv poses!\n",
            "Filtering with median model /content/drive/My Drive/TF2Projects/beam-DS-2022-07-26/videos/Copy of 220718-2524-W2.MOV\n",
            "Saving filtered csv poses!\n",
            "Filtering with median model /content/drive/My Drive/TF2Projects/beam-DS-2022-07-26/videos/Copy of 220718-2526-N1.MOV\n",
            "Saving filtered csv poses!\n",
            "Filtering with median model /content/drive/My Drive/TF2Projects/beam-DS-2022-07-26/videos/220721_2472_W1.MOV\n",
            "Saving filtered csv poses!\n",
            "Filtering with median model /content/drive/My Drive/TF2Projects/beam-DS-2022-07-26/videos/220721_2487_W2.MOV\n",
            "Saving filtered csv poses!\n",
            "Filtering with median model /content/drive/My Drive/TF2Projects/beam-DS-2022-07-26/videos/Copy of 220718-2527-W1.MOV\n",
            "Saving filtered csv poses!\n",
            "Filtering with median model /content/drive/My Drive/TF2Projects/beam-DS-2022-07-26/videos/Copy of 220718-2528-W1.MOV\n",
            "Saving filtered csv poses!\n",
            "Filtering with median model /content/drive/My Drive/TF2Projects/beam-DS-2022-07-26/videos/220721_2474_W1.MOV\n",
            "Saving filtered csv poses!\n"
          ]
        }
      ]
    },
    {
      "cell_type": "markdown",
      "metadata": {
        "id": "8GTiuJESoEKH"
      },
      "source": [
        "## Plot the trajectories of the analyzed videos:\n",
        "This function plots the trajectories of all the body parts across the entire video. Each body part is identified by a unique color."
      ]
    },
    {
      "cell_type": "code",
      "metadata": {
        "id": "gX21zZbXoEKJ",
        "colab": {
          "base_uri": "https://localhost:8080/"
        },
        "outputId": "751fb2ca-52fe-46d6-fc05-b0bab76f5451"
      },
      "source": [
        "import matplotlib\n",
        "deeplabcut.plot_trajectories(path_config_file, videofile_path, videotype=VideoType, shuffle=SHUF, filtered=True)"
      ],
      "execution_count": null,
      "outputs": [
        {
          "output_type": "stream",
          "name": "stdout",
          "text": [
            "Analyzing all the videos in the directory...\n",
            "Loading  /content/drive/My Drive/TF2Projects/beam-DS-2022-07-26/videos/Copy of 220715-2547-W3.mov and data.\n",
            "Plots created! Please check the directory \"plot-poses\" within the video directory\n"
          ]
        }
      ]
    },
    {
      "cell_type": "markdown",
      "metadata": {
        "id": "pqaCw15v8EmB"
      },
      "source": [
        "Now you can look at the plot-poses file and check the \"plot-likelihood.png\" might want to change the \"p-cutoff\" in the config.yaml file so that you have only high confidnece points plotted in the video. i.e. ~0.8 or 0.9. The current default is 0.4. "
      ]
    },
    {
      "cell_type": "markdown",
      "metadata": {
        "id": "pCrUvQIvoEKD"
      },
      "source": [
        "## Create labeled video:\n",
        "This funtion is for visualiztion purpose and can be used to create a video in .mp4 format with labels predicted by the network. This video is saved in the same directory where the original video resides. "
      ]
    },
    {
      "cell_type": "code",
      "metadata": {
        "id": "6aDF7Q7KoEKE",
        "colab": {
          "base_uri": "https://localhost:8080/"
        },
        "outputId": "c318dfc5-955c-420e-b89f-30793d9f37c6"
      },
      "source": [
        "deeplabcut.create_labeled_video(path_config_file,videofile_path, videotype=VideoType, shuffle=SHUF, filtered=True)"
      ],
      "execution_count": null,
      "outputs": [
        {
          "output_type": "stream",
          "name": "stdout",
          "text": [
            "Analyzing all the videos in the directory...\n",
            "Starting to process video: /content/drive/My Drive/TF2Projects/beam-DS-2022-07-26/videos/Copy of 220715-2547-W3.mov\n",
            "Loading /content/drive/My Drive/TF2Projects/beam-DS-2022-07-26/videos/Copy of 220715-2547-W3.mov and data.\n",
            "Duration of video [s]: 23.59, recorded with 30.01 fps!\n",
            "Overall # of frames: 708 with cropped frame dimensions: 1386 280\n",
            "Generating frames and creating video.\n"
          ]
        },
        {
          "output_type": "stream",
          "name": "stderr",
          "text": [
            "100%|██████████| 708/708 [00:03<00:00, 178.90it/s]\n"
          ]
        }
      ]
    },
    {
      "cell_type": "code",
      "source": [],
      "metadata": {
        "id": "7lLIWwEvt7Wr"
      },
      "execution_count": null,
      "outputs": []
    }
  ]
}